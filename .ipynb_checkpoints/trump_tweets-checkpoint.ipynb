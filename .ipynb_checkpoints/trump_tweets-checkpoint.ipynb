{
 "cells": [
  {
   "cell_type": "markdown",
   "metadata": {
    "deletable": false,
    "editable": false,
    "nbgrader": {
     "cell_type": "markdown",
     "checksum": "53a15392d366de67d77bb0748b7775c0",
     "grade": false,
     "grade_id": "intro",
     "locked": true,
     "schema_version": 2,
     "solution": false
    }
   },
   "source": [
    "# Trump, Twitter, and the 2016 Election\n",
    "\n",
    "In this project, I work with the Twitter API and look at Trump's tweets, along with a data set of tweets from Russian bot accounts. Note this does *not* include those uncovered and deleted recently by twitter due to the current investigation."
   ]
  },
  {
   "cell_type": "code",
   "execution_count": 2,
   "metadata": {
    "collapsed": false,
    "deletable": false,
    "editable": false,
    "nbgrader": {
     "cell_type": "code",
     "checksum": "39a1c52c1b5855b6bd9b10e6a7802072",
     "grade": false,
     "grade_id": "import",
     "locked": true,
     "schema_version": 2,
     "solution": false
    },
    "scrolled": true
   },
   "outputs": [
    {
     "ename": "ImportError",
     "evalue": "No module named 'seaborn'",
     "output_type": "error",
     "traceback": [
      "\u001b[0;31m---------------------------------------------------------------------------\u001b[0m",
      "\u001b[0;31mImportError\u001b[0m                               Traceback (most recent call last)",
      "\u001b[0;32m<ipython-input-2-9687764338c5>\u001b[0m in \u001b[0;36m<module>\u001b[0;34m()\u001b[0m\n\u001b[1;32m     10\u001b[0m \u001b[0mget_ipython\u001b[0m\u001b[0;34m(\u001b[0m\u001b[0;34m)\u001b[0m\u001b[0;34m.\u001b[0m\u001b[0mmagic\u001b[0m\u001b[0;34m(\u001b[0m\u001b[0;34m'matplotlib inline'\u001b[0m\u001b[0;34m)\u001b[0m\u001b[0;34m\u001b[0m\u001b[0m\n\u001b[1;32m     11\u001b[0m \u001b[0mplt\u001b[0m\u001b[0;34m.\u001b[0m\u001b[0mstyle\u001b[0m\u001b[0;34m.\u001b[0m\u001b[0muse\u001b[0m\u001b[0;34m(\u001b[0m\u001b[0;34m'fivethirtyeight'\u001b[0m\u001b[0;34m)\u001b[0m\u001b[0;34m\u001b[0m\u001b[0m\n\u001b[0;32m---> 12\u001b[0;31m \u001b[0;32mimport\u001b[0m \u001b[0mseaborn\u001b[0m \u001b[0;32mas\u001b[0m \u001b[0msns\u001b[0m\u001b[0;34m\u001b[0m\u001b[0m\n\u001b[0m\u001b[1;32m     13\u001b[0m \u001b[0msns\u001b[0m\u001b[0;34m.\u001b[0m\u001b[0mset\u001b[0m\u001b[0;34m(\u001b[0m\u001b[0;34m)\u001b[0m\u001b[0;34m\u001b[0m\u001b[0m\n\u001b[1;32m     14\u001b[0m \u001b[0msns\u001b[0m\u001b[0;34m.\u001b[0m\u001b[0mset_context\u001b[0m\u001b[0;34m(\u001b[0m\u001b[0;34m\"talk\"\u001b[0m\u001b[0;34m)\u001b[0m\u001b[0;34m\u001b[0m\u001b[0m\n",
      "\u001b[0;31mImportError\u001b[0m: No module named 'seaborn'"
     ]
    }
   ],
   "source": [
    "import csv\n",
    "import numpy as np\n",
    "import pandas as pd\n",
    "import matplotlib.pyplot as plt\n",
    "import zipfile\n",
    "\n",
    "# Ensure that Pandas shows at least 280 characters in columns, so we can see full tweets\n",
    "pd.set_option('max_colwidth', 280)\n",
    "\n",
    "%matplotlib inline\n",
    "plt.style.use('fivethirtyeight')\n",
    "import seaborn as sns\n",
    "sns.set()\n",
    "sns.set_context(\"talk\")\n",
    "import re"
   ]
  },
  {
   "cell_type": "markdown",
   "metadata": {
    "deletable": false,
    "editable": false,
    "nbgrader": {
     "cell_type": "markdown",
     "checksum": "69812bdeba1101e72f0c2c49d4e05e7e",
     "grade": false,
     "grade_id": "tweepy-intro",
     "locked": true,
     "schema_version": 2,
     "solution": false
    }
   },
   "source": [
    "# Downloading Recent Tweets\n",
    "\n",
    "---\n",
    "\n",
    "Since we'll be looking at Twitter data, we need to download the data from Twitter!\n",
    "\n",
    "Twitter provides an API for downloading tweet data in large batches.  The `tweepy` package makes it fairly easy to use."
   ]
  },
  {
   "cell_type": "code",
   "execution_count": 3,
   "metadata": {
    "collapsed": true,
    "deletable": false,
    "editable": false,
    "nbgrader": {
     "cell_type": "code",
     "checksum": "727d86148491e8268741fb9ad1182f32",
     "grade": false,
     "grade_id": "tweepy",
     "locked": true,
     "schema_version": 2,
     "solution": false
    }
   },
   "outputs": [],
   "source": [
    "## Make sure you are in your data100 conda environment if you are working locally.\n",
    "# The following should run:\n",
    "import tweepy"
   ]
  },
  {
   "cell_type": "markdown",
   "metadata": {
    "deletable": false,
    "editable": false,
    "nbgrader": {
     "cell_type": "markdown",
     "checksum": "be71d5e18529a33a68df98dba32c6b98",
     "grade": false,
     "grade_id": "instructions",
     "locked": true,
     "schema_version": 2,
     "solution": false
    }
   },
   "source": [
    "There are instructions on using `tweepy` [here](http://tweepy.readthedocs.io/en/v3.5.0/getting_started.html), but we will give you example code.\n",
    "\n",
    "Twitter requires you to have authentication keys to access their API.  To get your keys, you'll have to sign up as a Twitter developer.  The next question will walk you through this process."
   ]
  },
  {
   "cell_type": "markdown",
   "metadata": {
    "deletable": false,
    "editable": false,
    "nbgrader": {
     "cell_type": "markdown",
     "checksum": "6e6251507833774020ae3a92b3ece63f",
     "grade": false,
     "grade_id": "q1",
     "locked": true,
     "schema_version": 2,
     "solution": false
    }
   },
   "source": [
    "## Question 1\n",
    "\n",
    "Follow the instructions below to get your Twitter API keys.  **Read the instructions completely before starting.**\n",
    "\n",
    "1. [Create a Twitter account](https://twitter.com).  You can use an existing account if you have one; if you prefer to not do this assignment under your regular account, feel free to create a throw-away account.\n",
    "2. Under account settings, add your phone number to the account.\n",
    "3. [Create a Twitter developer account](https://dev.twitter.com/resources/signup).  Attach it to your Twitter account.\n",
    "4. Once you're logged into your developer account, [create an application for this assignment](https://apps.twitter.com/app/new).  You can call it whatever you want, and you can write any URL when it asks for a web site.  You don't need to provide a callback URL.\n",
    "5. On the page for that application, find your Consumer Key and Consumer Secret.\n",
    "6. On the same page, create an Access Token.  Record the resulting Access Token and Access Token Secret.\n",
    "7. Edit the file [keys.json](keys.json) and replace the placeholders with your keys.  "
   ]
  },
  {
   "cell_type": "markdown",
   "metadata": {
    "deletable": false,
    "editable": false,
    "nbgrader": {
     "cell_type": "markdown",
     "checksum": "e1bb1fee574ae618469603216cbed678",
     "grade": false,
     "grade_id": "warning",
     "locked": true,
     "schema_version": 2,
     "solution": false
    }
   },
   "source": [
    "\n",
    "## WARNING (Please Read) !!!!\n",
    "\n",
    "\n",
    "### Protect your Twitter Keys\n",
    "<span style=\"color:red\">\n",
    "If someone has your authentication keys, they can access your Twitter account and post as you!  So don't give them to anyone, and **don't write them down in this notebook**. \n",
    "</span>\n",
    "The usual way to store sensitive information like this is to put it in a separate file and read it programmatically.  That way, you can share the rest of your code without sharing your keys.  That's why we're asking you to put your keys in `keys.json` for this assignment.\n",
    "\n",
    "\n",
    "### Avoid making too many API calls.\n",
    "\n",
    "<span style=\"color:red\">\n",
    "Twitter limits developers to a certain rate of requests for data.  If you make too many requests in a short period of time, you'll have to wait awhile (around 15 minutes) before you can make more.  </span> \n",
    "So carefully follow the code examples you see and don't rerun cells without thinking.  Instead, always save the data you've collected to a file.  We've provided templates to help you do that.\n",
    "\n",
    "\n",
    "### Be careful about which functions you call!\n",
    "\n",
    "<span style=\"color:red\">\n",
    "This API can retweet tweets, follow and unfollow people, and modify your twitter settings.  Be careful which functions you invoke! </span> One of your instructors accidentally re-tweeted some tweets because that instructor typed `retweet` instead of `retweet_count`. \n",
    "</span>\n"
   ]
  },
  {
   "cell_type": "code",
   "execution_count": 4,
   "metadata": {
    "collapsed": true,
    "deletable": false,
    "editable": false,
    "nbgrader": {
     "cell_type": "code",
     "checksum": "c2eb5fb9a1af6832165a365b0aad21ab",
     "grade": false,
     "grade_id": "keys",
     "locked": true,
     "schema_version": 2,
     "solution": false
    }
   },
   "outputs": [],
   "source": [
    "import json\n",
    "key_file = 'keys.json'\n",
    "# Loading your keys from keys.json (which you should have filled\n",
    "# in in question 1):\n",
    "with open(key_file) as f:\n",
    "    keys = json.load(f)\n",
    "# if you print or view the contents of keys be sure to delete the cell!"
   ]
  },
  {
   "cell_type": "markdown",
   "metadata": {
    "deletable": false,
    "editable": false,
    "nbgrader": {
     "cell_type": "markdown",
     "checksum": "118d21c4ccbbf942c9f2707840908cca",
     "grade": false,
     "grade_id": "tweepy-auth-note",
     "locked": true,
     "schema_version": 2,
     "solution": false
    }
   },
   "source": [
    "This cell tests the Twitter authentication. It should run without errors or warnings and display your Twitter username."
   ]
  },
  {
   "cell_type": "code",
   "execution_count": 5,
   "metadata": {
    "collapsed": false,
    "deletable": false,
    "editable": false,
    "nbgrader": {
     "cell_type": "code",
     "checksum": "66806331fe1cb852ab300e98459cb2d4",
     "grade": false,
     "grade_id": "twitter-auth",
     "locked": true,
     "schema_version": 2,
     "solution": false
    }
   },
   "outputs": [
    {
     "name": "stdout",
     "output_type": "stream",
     "text": [
      "Your username is: Evnwalsh\n"
     ]
    }
   ],
   "source": [
    "import tweepy\n",
    "from tweepy import TweepError\n",
    "import logging\n",
    "\n",
    "try:\n",
    "    auth = tweepy.OAuthHandler(keys[\"consumer_key\"], keys[\"consumer_secret\"])\n",
    "    auth.set_access_token(keys[\"access_token\"], keys[\"access_token_secret\"])\n",
    "    api = tweepy.API(auth)\n",
    "    print(\"Your username is:\", api.auth.get_username())\n",
    "except TweepError as e:\n",
    "    logging.warning(\"There was a Tweepy error. Double check your API keys and try again.\")\n",
    "    logging.warning(e)"
   ]
  },
  {
   "cell_type": "markdown",
   "metadata": {
    "deletable": false,
    "editable": false,
    "nbgrader": {
     "cell_type": "markdown",
     "checksum": "b738ef5c6ffad625b8d5a61b66719ad6",
     "grade": false,
     "grade_id": "q2",
     "locked": true,
     "schema_version": 2,
     "solution": false
    }
   },
   "source": [
    "## Question 2\n",
    "\n",
    "In the example below, we have loaded some tweets by @BerkeleyData.  Run it and read the code."
   ]
  },
  {
   "cell_type": "code",
   "execution_count": 6,
   "metadata": {
    "collapsed": true,
    "deletable": false,
    "editable": false,
    "nbgrader": {
     "cell_type": "code",
     "checksum": "3defce91d655ee59ae318cc20133476a",
     "grade": false,
     "grade_id": "load-berkeley-tweets",
     "locked": true,
     "schema_version": 2,
     "solution": false
    }
   },
   "outputs": [],
   "source": [
    "from pathlib import Path\n",
    "import json\n",
    "\n",
    "ds_tweets_save_path = \"BerkeleyData_recent_tweets.json\"\n",
    "# Guarding against attempts to download the data multiple\n",
    "# times:\n",
    "if not Path(ds_tweets_save_path).is_file():\n",
    "    # Getting as many recent tweets by @BerkeleyData as Twitter will let us have.\n",
    "    # We use tweet_mode='extended' so that Twitter gives us full 280 character tweets.\n",
    "    # This was a change introduced in September 2017.\n",
    "    \n",
    "    # The tweepy Cursor API actually returns \"sophisticated\" Status objects but we \n",
    "    # will use the basic Python dictionaries stored in the _json field. \n",
    "    example_tweets = [t._json for t in tweepy.Cursor(api.user_timeline, id=\"BerkeleyData\", \n",
    "                                             tweet_mode='extended').items()]\n",
    "    \n",
    "    # Saving the tweets to a json file on disk for future analysis\n",
    "    with open(ds_tweets_save_path, \"w\") as f:        \n",
    "        json.dump(example_tweets, f)\n",
    "\n",
    "# Re-loading the json file:\n",
    "with open(ds_tweets_save_path, \"r\") as f:\n",
    "    example_tweets = json.load(f)"
   ]
  },
  {
   "cell_type": "markdown",
   "metadata": {
    "deletable": false,
    "editable": false,
    "nbgrader": {
     "cell_type": "markdown",
     "checksum": "7dc93f6841b3ecdb826a8ff12ebb2030",
     "grade": false,
     "grade_id": "first-tweet-did-it-workk",
     "locked": true,
     "schema_version": 2,
     "solution": false
    }
   },
   "source": [
    "Assuming everything ran correctly you should be able to look at the first tweet by running the cell below.\n",
    "\n",
    "<span style=\"color:red\">\n",
    "**Warning** Do not attempt to view all the tweets in a notebook.  It will likely freeze your browser.  The following would be a **bad idea**:\n",
    "```python\n",
    "    pprint(example_tweets)\n",
    "```\n",
    "\n",
    "</span> "
   ]
  },
  {
   "cell_type": "code",
   "execution_count": 7,
   "metadata": {
    "collapsed": false,
    "deletable": false,
    "editable": false,
    "nbgrader": {
     "cell_type": "code",
     "checksum": "de383bb55c2e4e13c896209b5f7589c0",
     "grade": false,
     "grade_id": "first-tweet",
     "locked": true,
     "schema_version": 2,
     "solution": false
    }
   },
   "outputs": [
    {
     "name": "stdout",
     "output_type": "stream",
     "text": [
      "{'contributors': None,\n",
      " 'coordinates': None,\n",
      " 'created_at': 'Wed Feb 14 18:47:23 +0000 2018',\n",
      " 'display_text_range': [0, 144],\n",
      " 'entities': {'hashtags': [],\n",
      "              'symbols': [],\n",
      "              'urls': [],\n",
      "              'user_mentions': [{'id': 263020833,\n",
      "                                 'id_str': '263020833',\n",
      "                                 'indices': [3, 19],\n",
      "                                 'name': 'Berkeley School of Information',\n",
      "                                 'screen_name': 'BerkeleyISchool'}]},\n",
      " 'favorite_count': 0,\n",
      " 'favorited': False,\n",
      " 'full_text': 'RT @BerkeleyISchool: We LOVE the I School community! 💓💖💗 Our '\n",
      "              'students, alumni, faculty &amp; staff make the I School a '\n",
      "              'incredible place to lear…',\n",
      " 'geo': None,\n",
      " 'id': 963847153784369152,\n",
      " 'id_str': '963847153784369152',\n",
      " 'in_reply_to_screen_name': None,\n",
      " 'in_reply_to_status_id': None,\n",
      " 'in_reply_to_status_id_str': None,\n",
      " 'in_reply_to_user_id': None,\n",
      " 'in_reply_to_user_id_str': None,\n",
      " 'is_quote_status': False,\n",
      " 'lang': 'en',\n",
      " 'place': None,\n",
      " 'retweet_count': 3,\n",
      " 'retweeted': False,\n",
      " 'retweeted_status': {'contributors': None,\n",
      "                      'coordinates': None,\n",
      "                      'created_at': 'Wed Feb 14 18:47:00 +0000 2018',\n",
      "                      'display_text_range': [0, 155],\n",
      "                      'entities': {'hashtags': [{'indices': [140, 154],\n",
      "                                                 'text': 'ValentinesDay'}],\n",
      "                                   'media': [{'display_url': 'pic.twitter.com/OpEShsJSUj',\n",
      "                                              'expanded_url': 'https://twitter.com/BerkeleyISchool/status/963847057210421248/photo/1',\n",
      "                                              'id': 963843188598304768,\n",
      "                                              'id_str': '963843188598304768',\n",
      "                                              'indices': [156, 179],\n",
      "                                              'media_url': 'http://pbs.twimg.com/media/DWBCRfuU8AArFBK.png',\n",
      "                                              'media_url_https': 'https://pbs.twimg.com/media/DWBCRfuU8AArFBK.png',\n",
      "                                              'sizes': {'large': {'h': 1115,\n",
      "                                                                  'resize': 'fit',\n",
      "                                                                  'w': 1487},\n",
      "                                                        'medium': {'h': 900,\n",
      "                                                                   'resize': 'fit',\n",
      "                                                                   'w': 1200},\n",
      "                                                        'small': {'h': 510,\n",
      "                                                                  'resize': 'fit',\n",
      "                                                                  'w': 680},\n",
      "                                                        'thumb': {'h': 150,\n",
      "                                                                  'resize': 'crop',\n",
      "                                                                  'w': 150}},\n",
      "                                              'type': 'photo',\n",
      "                                              'url': 'https://t.co/OpEShsJSUj'}],\n",
      "                                   'symbols': [],\n",
      "                                   'urls': [],\n",
      "                                   'user_mentions': []},\n",
      "                      'extended_entities': {'media': [{'display_url': 'pic.twitter.com/OpEShsJSUj',\n",
      "                                                       'expanded_url': 'https://twitter.com/BerkeleyISchool/status/963847057210421248/photo/1',\n",
      "                                                       'id': 963843188598304768,\n",
      "                                                       'id_str': '963843188598304768',\n",
      "                                                       'indices': [156, 179],\n",
      "                                                       'media_url': 'http://pbs.twimg.com/media/DWBCRfuU8AArFBK.png',\n",
      "                                                       'media_url_https': 'https://pbs.twimg.com/media/DWBCRfuU8AArFBK.png',\n",
      "                                                       'sizes': {'large': {'h': 1115,\n",
      "                                                                           'resize': 'fit',\n",
      "                                                                           'w': 1487},\n",
      "                                                                 'medium': {'h': 900,\n",
      "                                                                            'resize': 'fit',\n",
      "                                                                            'w': 1200},\n",
      "                                                                 'small': {'h': 510,\n",
      "                                                                           'resize': 'fit',\n",
      "                                                                           'w': 680},\n",
      "                                                                 'thumb': {'h': 150,\n",
      "                                                                           'resize': 'crop',\n",
      "                                                                           'w': 150}},\n",
      "                                                       'type': 'photo',\n",
      "                                                       'url': 'https://t.co/OpEShsJSUj'}]},\n",
      "                      'favorite_count': 10,\n",
      "                      'favorited': False,\n",
      "                      'full_text': 'We LOVE the I School community! 💓💖💗 Our '\n",
      "                                   'students, alumni, faculty &amp; staff make '\n",
      "                                   'the I School a incredible place to learn '\n",
      "                                   'and grow. Happy #ValentinesDay! '\n",
      "                                   'https://t.co/OpEShsJSUj',\n",
      "                      'geo': None,\n",
      "                      'id': 963847057210421248,\n",
      "                      'id_str': '963847057210421248',\n",
      "                      'in_reply_to_screen_name': None,\n",
      "                      'in_reply_to_status_id': None,\n",
      "                      'in_reply_to_status_id_str': None,\n",
      "                      'in_reply_to_user_id': None,\n",
      "                      'in_reply_to_user_id_str': None,\n",
      "                      'is_quote_status': False,\n",
      "                      'lang': 'en',\n",
      "                      'place': None,\n",
      "                      'possibly_sensitive': False,\n",
      "                      'retweet_count': 3,\n",
      "                      'retweeted': False,\n",
      "                      'source': '<a '\n",
      "                                'href=\"https://about.twitter.com/products/tweetdeck\" '\n",
      "                                'rel=\"nofollow\">TweetDeck</a>',\n",
      "                      'truncated': False,\n",
      "                      'user': {'contributors_enabled': False,\n",
      "                               'created_at': 'Wed Mar 09 06:13:42 +0000 2011',\n",
      "                               'default_profile': False,\n",
      "                               'default_profile_image': False,\n",
      "                               'description': 'The UC Berkeley School of '\n",
      "                                              'Information is a '\n",
      "                                              'multi-disciplinary program '\n",
      "                                              'devoted to enhancing the '\n",
      "                                              'accessibility, usability, '\n",
      "                                              'credibility & security of '\n",
      "                                              'information.',\n",
      "                               'entities': {'description': {'urls': []},\n",
      "                                            'url': {'urls': [{'display_url': 'ischool.berkeley.edu',\n",
      "                                                              'expanded_url': 'http://ischool.berkeley.edu',\n",
      "                                                              'indices': [0,\n",
      "                                                                          23],\n",
      "                                                              'url': 'https://t.co/5eXJ0wN1Jd'}]}},\n",
      "                               'favourites_count': 2027,\n",
      "                               'follow_request_sent': False,\n",
      "                               'followers_count': 4517,\n",
      "                               'following': False,\n",
      "                               'friends_count': 563,\n",
      "                               'geo_enabled': True,\n",
      "                               'has_extended_profile': False,\n",
      "                               'id': 263020833,\n",
      "                               'id_str': '263020833',\n",
      "                               'is_translation_enabled': False,\n",
      "                               'is_translator': False,\n",
      "                               'lang': 'en',\n",
      "                               'listed_count': 205,\n",
      "                               'location': 'Berkeley, California, USA',\n",
      "                               'name': 'Berkeley School of Information',\n",
      "                               'notifications': False,\n",
      "                               'profile_background_color': '38628F',\n",
      "                               'profile_background_image_url': 'http://pbs.twimg.com/profile_background_images/226302581/southhall4.PNG',\n",
      "                               'profile_background_image_url_https': 'https://pbs.twimg.com/profile_background_images/226302581/southhall4.PNG',\n",
      "                               'profile_background_tile': False,\n",
      "                               'profile_banner_url': 'https://pbs.twimg.com/profile_banners/263020833/1509549485',\n",
      "                               'profile_image_url': 'http://pbs.twimg.com/profile_images/875733929902329856/K5Y9Y01a_normal.jpg',\n",
      "                               'profile_image_url_https': 'https://pbs.twimg.com/profile_images/875733929902329856/K5Y9Y01a_normal.jpg',\n",
      "                               'profile_link_color': '3B7EA1',\n",
      "                               'profile_sidebar_border_color': 'C0DEED',\n",
      "                               'profile_sidebar_fill_color': 'DDEEF6',\n",
      "                               'profile_text_color': '333333',\n",
      "                               'profile_use_background_image': True,\n",
      "                               'protected': False,\n",
      "                               'screen_name': 'BerkeleyISchool',\n",
      "                               'statuses_count': 3243,\n",
      "                               'time_zone': 'Pacific Time (US & Canada)',\n",
      "                               'translator_type': 'none',\n",
      "                               'url': 'https://t.co/5eXJ0wN1Jd',\n",
      "                               'utc_offset': -28800,\n",
      "                               'verified': False}},\n",
      " 'source': '<a href=\"http://twitter.com\" rel=\"nofollow\">Twitter Web Client</a>',\n",
      " 'truncated': False,\n",
      " 'user': {'contributors_enabled': False,\n",
      "          'created_at': 'Thu Feb 28 14:37:26 +0000 2013',\n",
      "          'default_profile': False,\n",
      "          'default_profile_image': False,\n",
      "          'description': 'An online Master of Information and Data Science '\n",
      "                         '(MIDS) degree from the UC Berkeley School of '\n",
      "                         'Information. Learn more at: http://t.co/zf6gfBWovQ',\n",
      "          'entities': {'description': {'urls': [{'display_url': 'bit.ly/tBerkeleyData',\n",
      "                                                 'expanded_url': 'http://bit.ly/tBerkeleyData',\n",
      "                                                 'indices': [122, 144],\n",
      "                                                 'url': 'http://t.co/zf6gfBWovQ'}]},\n",
      "                       'url': {'urls': [{'display_url': 'datascience.berkeley.edu',\n",
      "                                         'expanded_url': 'http://datascience.berkeley.edu',\n",
      "                                         'indices': [0, 22],\n",
      "                                         'url': 'http://t.co/S79Ul3oCaa'}]}},\n",
      "          'favourites_count': 88,\n",
      "          'follow_request_sent': False,\n",
      "          'followers_count': 10970,\n",
      "          'following': False,\n",
      "          'friends_count': 409,\n",
      "          'geo_enabled': False,\n",
      "          'has_extended_profile': False,\n",
      "          'id': 1227698863,\n",
      "          'id_str': '1227698863',\n",
      "          'is_translation_enabled': False,\n",
      "          'is_translator': False,\n",
      "          'lang': 'en',\n",
      "          'listed_count': 474,\n",
      "          'location': 'Berkeley, CA',\n",
      "          'name': 'datascience@berkeley',\n",
      "          'notifications': False,\n",
      "          'profile_background_color': 'CCCCCC',\n",
      "          'profile_background_image_url': 'http://pbs.twimg.com/profile_background_images/378800000096571211/5f9ba86a5d2b87c2c48544133c25b092.jpeg',\n",
      "          'profile_background_image_url_https': 'https://pbs.twimg.com/profile_background_images/378800000096571211/5f9ba86a5d2b87c2c48544133c25b092.jpeg',\n",
      "          'profile_background_tile': False,\n",
      "          'profile_banner_url': 'https://pbs.twimg.com/profile_banners/1227698863/1502212054',\n",
      "          'profile_image_url': 'http://pbs.twimg.com/profile_images/894968224973897728/lI8iiF3J_normal.jpg',\n",
      "          'profile_image_url_https': 'https://pbs.twimg.com/profile_images/894968224973897728/lI8iiF3J_normal.jpg',\n",
      "          'profile_link_color': '5173B6',\n",
      "          'profile_sidebar_border_color': 'FFFFFF',\n",
      "          'profile_sidebar_fill_color': 'DDEEF6',\n",
      "          'profile_text_color': '333333',\n",
      "          'profile_use_background_image': True,\n",
      "          'protected': False,\n",
      "          'screen_name': 'BerkeleyData',\n",
      "          'statuses_count': 2227,\n",
      "          'time_zone': 'Eastern Time (US & Canada)',\n",
      "          'translator_type': 'none',\n",
      "          'url': 'http://t.co/S79Ul3oCaa',\n",
      "          'utc_offset': -18000,\n",
      "          'verified': False}}\n"
     ]
    }
   ],
   "source": [
    "# Looking at one tweet object, which has type Status: \n",
    "from pprint import pprint # ...to get a more easily-readable view.\n",
    "pprint(example_tweets[0])"
   ]
  },
  {
   "cell_type": "markdown",
   "metadata": {
    "collapsed": true,
    "deletable": false,
    "editable": false,
    "nbgrader": {
     "cell_type": "markdown",
     "checksum": "43ce65ddda5bb1543856611dd2c536f9",
     "grade": false,
     "grade_id": "q2a",
     "locked": true,
     "schema_version": 2,
     "solution": false
    }
   },
   "source": [
    "## Question 2a\n",
    "\n",
    "### What you need to do. \n",
    "\n",
    "Re-factor the above code fragment into reusable snippets below.  You should not need to make major modifications; this is mostly an exercise in understanding the above code block. "
   ]
  },
  {
   "cell_type": "code",
   "execution_count": 85,
   "metadata": {
    "collapsed": true,
    "deletable": false,
    "nbgrader": {
     "cell_type": "code",
     "checksum": "bd6de9d61c340450539455afd0f8fdf3",
     "grade": false,
     "grade_id": "load-keys",
     "locked": false,
     "schema_version": 2,
     "solution": true
    },
    "tags": [
     "student"
    ]
   },
   "outputs": [],
   "source": [
    "def load_keys(path):\n",
    "    \"\"\"Loads your Twitter authentication keys from a file on disk.\n",
    "    \n",
    "    Args:\n",
    "        path (str): The path to your key file.  The file should\n",
    "          be in JSON format and look like this (but filled in):\n",
    "            {\n",
    "                \"consumer_key\": \"<your Consumer Key here>\",\n",
    "                \"consumer_secret\":  \"<your Consumer Secret here>\",\n",
    "                \"access_token\": \"<your Access Token here>\",\n",
    "                \"access_token_secret\": \"<your Access Token Secret here>\"\n",
    "            }\n",
    "    \n",
    "    Returns:\n",
    "        dict: A dictionary mapping key names (like \"consumer_key\") to\n",
    "          key values.\"\"\"\n",
    "    key_file = path\n",
    "    with open(key_file) as file:\n",
    "        auth_keys = json.load(file)\n",
    "    return auth_keys\n",
    "    \n",
    "    # YOUR CODE HERE"
   ]
  },
  {
   "cell_type": "code",
   "execution_count": 86,
   "metadata": {
    "collapsed": true,
    "deletable": false,
    "nbgrader": {
     "cell_type": "code",
     "checksum": "76ff200bf064ab3f5c457bc4725d8cd8",
     "grade": false,
     "grade_id": "download-recent-tweets",
     "locked": false,
     "schema_version": 2,
     "solution": true
    },
    "tags": [
     "student"
    ]
   },
   "outputs": [],
   "source": [
    "def download_recent_tweets_by_user(user_account_name, key_file):\n",
    "    \"\"\"Downloads tweets by one Twitter user.\n",
    "\n",
    "    Args:\n",
    "        user_account_name (str): The name of the Twitter account\n",
    "          whose tweets will be downloaded.\n",
    "        keys (dict): A Python dictionary with Twitter authentication\n",
    "          keys (strings), like this (but filled in):\n",
    "            {\n",
    "                \"consumer_key\": \"<your Consumer Key here>\",\n",
    "                \"consumer_secret\":  \"<your Consumer Secret here>\",\n",
    "                \"access_token\": \"<your Access Token here>\",\n",
    "                \"access_token_secret\": \"<your Access Token Secret here>\"\n",
    "            }\n",
    "\n",
    "    Returns:\n",
    "        list: A list of Dictonary objects, each representing one tweet.\"\"\"\n",
    "    \n",
    "    tweets = [t._json for t in tweepy.Cursor(api.user_timeline, id=user_account_name, tweet_mode='extended').items()]\n",
    "    return tweets\n",
    "    \n",
    "    \"\"\" IGNORE BELOW SAVING IN CASE NEED TO EDIT!\n",
    "    save_path = user_account_name + \"_latest_tweets.json\"\n",
    "    # Guard against many attempts to download data and overload requests\n",
    "    if not Path(save_path).is_file():\n",
    "        tweets = [t._json for t in tweepy.Cursor(api.user_timeline, id=user_account_name, tweet_mode='extended').items()]\n",
    "        with open(save_path, \"w\") as f:\n",
    "            json.dump(tweets, f)\n",
    "    with open(save_path) as f:\n",
    "        tweets = json.load(f)\n",
    "    return tweets\"\"\"\n",
    "        \n",
    "    \n",
    "    \n",
    "    # YOUR CODE HERE\n",
    "    # raise NotImplementedError()"
   ]
  },
  {
   "cell_type": "code",
   "execution_count": 87,
   "metadata": {
    "collapsed": true,
    "deletable": false,
    "nbgrader": {
     "cell_type": "code",
     "checksum": "75d788899e9212031d95685b7ebb4505",
     "grade": false,
     "grade_id": "save-tweets",
     "locked": false,
     "schema_version": 2,
     "solution": true
    },
    "tags": [
     "student"
    ]
   },
   "outputs": [],
   "source": [
    "def save_tweets(tweets, path):\n",
    "    \"\"\"Saves a list of tweets to a file in the local filesystem.\n",
    "    \n",
    "    This function makes no guarantee about the format of the saved\n",
    "    tweets, **except** that calling load_tweets(path) after\n",
    "    save_tweets(tweets, path) will produce the same list of tweets\n",
    "    and that only the file at the given path is used to store the\n",
    "    tweets.  (That means you can implement this function however\n",
    "    you want, as long as saving and loading works!)\n",
    "\n",
    "    Args:\n",
    "        tweets (list): A list of tweet objects (of type Dictionary) to\n",
    "          be saved.\n",
    "        path (str): The place where the tweets will be saved.\n",
    "\n",
    "    Returns:\n",
    "        None\"\"\"\n",
    "    with open(path, \"w\") as f:\n",
    "        json.dump(tweets, f)\n",
    "    \n",
    "    \n",
    "    \n",
    "    \n",
    "    # YOUR CODE HERE\n",
    "    # raise NotImplementedError()"
   ]
  },
  {
   "cell_type": "code",
   "execution_count": 88,
   "metadata": {
    "collapsed": true,
    "deletable": false,
    "nbgrader": {
     "cell_type": "code",
     "checksum": "31f5a74addf3b0211c65b0220160568c",
     "grade": false,
     "grade_id": "load-tweets",
     "locked": false,
     "schema_version": 2,
     "solution": true
    },
    "tags": [
     "student"
    ]
   },
   "outputs": [],
   "source": [
    "def load_tweets(path):\n",
    "    \"\"\"Loads tweets that have previously been saved.\n",
    "    \n",
    "    Calling load_tweets(path) after save_tweets(tweets, path)\n",
    "    will produce the same list of tweets.\n",
    "    \n",
    "    Args:\n",
    "        path (str): The place where the tweets were be saved.\n",
    "\n",
    "    Returns:\n",
    "        list: A list of Dictionary objects, each representing one tweet.\"\"\"\n",
    "    with open(path) as f:\n",
    "        tweets = json.load(f)\n",
    "    return tweets\n",
    "    \n",
    "    # YOUR CODE HERE\n",
    "    # raise NotImplementedError()"
   ]
  },
  {
   "cell_type": "code",
   "execution_count": 104,
   "metadata": {
    "collapsed": true,
    "deletable": false,
    "nbgrader": {
     "cell_type": "code",
     "checksum": "2c2633d5128de6e4aadf225aa291118d",
     "grade": false,
     "grade_id": "get-tweets-with-cache",
     "locked": false,
     "schema_version": 2,
     "solution": true
    },
    "tags": [
     "student"
    ]
   },
   "outputs": [],
   "source": [
    "def get_tweets_with_cache(user_account_name, keys_path):\n",
    "    \"\"\"Get recent tweets from one user, loading from a disk cache if available.\n",
    "    \n",
    "    The first time you call this function, it will download tweets by\n",
    "    a user.  Subsequent calls will not re-download the tweets; instead\n",
    "    they'll load the tweets from a save file in your local filesystem.\n",
    "    All this is done using the functions you defined in the previous cell.\n",
    "    This has benefits and drawbacks that often appear when you cache data:\n",
    "    \n",
    "    +: Using this function will prevent extraneous usage of the Twitter API.\n",
    "    +: You will get your data much faster after the first time it's called.\n",
    "    -: If you really want to re-download the tweets (say, to get newer ones,\n",
    "       or because you screwed up something in the previous cell and your\n",
    "       tweets aren't what you wanted), you'll have to find the save file\n",
    "       (which will look like <something>_recent_tweets.pkl) and delete it.\n",
    "    \n",
    "    Args:\n",
    "        user_account_name (str): The Twitter handle of a user, without the @.\n",
    "        keys_path (str): The path to a JSON keys file in your filesystem.\n",
    "    \"\"\"\n",
    "    save_path = user_account_name + \"_recent_tweets.json\"\n",
    "    if not Path(save_path).is_file():\n",
    "        tweets = download_recent_tweets_by_user(user_account_name, keys_path)\n",
    "        save_tweets(tweets, save_path)\n",
    "    return load_tweets(save_path)\n",
    "    \n",
    "    \n",
    "    \n",
    "    # YOUR CODE HERE\n",
    "    # raise NotImplementedError()"
   ]
  },
  {
   "cell_type": "markdown",
   "metadata": {
    "deletable": false,
    "editable": false,
    "nbgrader": {
     "cell_type": "markdown",
     "checksum": "a2ddaff40134b8cf8f582c1df5db3883",
     "grade": false,
     "grade_id": "about-to-get-real",
     "locked": true,
     "schema_version": 2,
     "solution": false
    }
   },
   "source": [
    "If everything was implemented correctly you should be able to obtain roughly the last 3000 tweets by the `realdonaldtrump`.  (This may take a few minutes)"
   ]
  },
  {
   "cell_type": "code",
   "execution_count": 105,
   "metadata": {
    "collapsed": false,
    "deletable": false,
    "editable": false,
    "nbgrader": {
     "cell_type": "code",
     "checksum": "8ac3bb2120526571535abbe412929bfd",
     "grade": false,
     "grade_id": "trump-tweets",
     "locked": true,
     "schema_version": 2,
     "solution": false
    }
   },
   "outputs": [
    {
     "name": "stdout",
     "output_type": "stream",
     "text": [
      "Number of tweets downloaded: 3235\n"
     ]
    }
   ],
   "source": [
    "# When you are done, run this cell to load @realdonaldtrump's tweets.\n",
    "# Note the function get_tweets_with_cache.  You may find it useful\n",
    "# later.\n",
    "trump_tweets = get_tweets_with_cache(\"realdonaldtrump\", key_file)\n",
    "print(\"Number of tweets downloaded:\", len(trump_tweets))"
   ]
  },
  {
   "cell_type": "code",
   "execution_count": 106,
   "metadata": {
    "collapsed": true,
    "deletable": false,
    "editable": false,
    "nbgrader": {
     "cell_type": "code",
     "checksum": "afaf66b3188a4752b0271beed957ef6c",
     "grade": true,
     "grade_id": "trump-tweets-test",
     "locked": true,
     "points": 1,
     "schema_version": 2,
     "solution": false
    }
   },
   "outputs": [],
   "source": [
    "assert 2000 <= len(trump_tweets) <= 4000"
   ]
  },
  {
   "cell_type": "markdown",
   "metadata": {
    "deletable": false,
    "editable": false,
    "nbgrader": {
     "cell_type": "markdown",
     "checksum": "e991a5d45fd0eeebe8b1c6371a4019f9",
     "grade": false,
     "grade_id": "q2b",
     "locked": true,
     "schema_version": 2,
     "solution": false
    }
   },
   "source": [
    "### Question 2b\n",
    "\n",
    "We are limited to how many tweets we can download.  In what month is the oldest tweet from Trump?"
   ]
  },
  {
   "cell_type": "code",
   "execution_count": 92,
   "metadata": {
    "collapsed": false
   },
   "outputs": [
    {
     "data": {
      "text/plain": [
       "{'contributors': None,\n",
       " 'coordinates': None,\n",
       " 'created_at': 'Thu Oct 27 12:17:57 +0000 2016',\n",
       " 'display_text_range': [0, 152],\n",
       " 'entities': {'hashtags': [{'indices': [86, 100], 'text': 'DrainTheSwamp'},\n",
       "   {'indices': [121, 134], 'text': 'TrumpPence16'},\n",
       "   {'indices': [146, 151], 'text': 'MAGA'}],\n",
       "  'media': [{'display_url': 'pic.twitter.com/IO5fwVHLeT',\n",
       "    'expanded_url': 'https://twitter.com/realDonaldTrump/status/791614912833449984/video/1',\n",
       "    'id': 791612783905411073,\n",
       "    'id_str': '791612783905411073',\n",
       "    'indices': [153, 176],\n",
       "    'media_url': 'http://pbs.twimg.com/ext_tw_video_thumb/791612783905411073/pu/img/r75ED27lhTnLek7v.jpg',\n",
       "    'media_url_https': 'https://pbs.twimg.com/ext_tw_video_thumb/791612783905411073/pu/img/r75ED27lhTnLek7v.jpg',\n",
       "    'sizes': {'large': {'h': 720, 'resize': 'fit', 'w': 1280},\n",
       "     'medium': {'h': 675, 'resize': 'fit', 'w': 1200},\n",
       "     'small': {'h': 383, 'resize': 'fit', 'w': 680},\n",
       "     'thumb': {'h': 150, 'resize': 'crop', 'w': 150}},\n",
       "    'type': 'photo',\n",
       "    'url': 'https://t.co/IO5fwVHLeT'}],\n",
       "  'symbols': [],\n",
       "  'urls': [],\n",
       "  'user_mentions': []},\n",
       " 'extended_entities': {'media': [{'additional_media_info': {'monetizable': False},\n",
       "    'display_url': 'pic.twitter.com/IO5fwVHLeT',\n",
       "    'expanded_url': 'https://twitter.com/realDonaldTrump/status/791614912833449984/video/1',\n",
       "    'id': 791612783905411073,\n",
       "    'id_str': '791612783905411073',\n",
       "    'indices': [153, 176],\n",
       "    'media_url': 'http://pbs.twimg.com/ext_tw_video_thumb/791612783905411073/pu/img/r75ED27lhTnLek7v.jpg',\n",
       "    'media_url_https': 'https://pbs.twimg.com/ext_tw_video_thumb/791612783905411073/pu/img/r75ED27lhTnLek7v.jpg',\n",
       "    'sizes': {'large': {'h': 720, 'resize': 'fit', 'w': 1280},\n",
       "     'medium': {'h': 675, 'resize': 'fit', 'w': 1200},\n",
       "     'small': {'h': 383, 'resize': 'fit', 'w': 680},\n",
       "     'thumb': {'h': 150, 'resize': 'crop', 'w': 150}},\n",
       "    'type': 'video',\n",
       "    'url': 'https://t.co/IO5fwVHLeT',\n",
       "    'video_info': {'aspect_ratio': [16, 9],\n",
       "     'duration_millis': 72933,\n",
       "     'variants': [{'bitrate': 832000,\n",
       "       'content_type': 'video/mp4',\n",
       "       'url': 'https://video.twimg.com/ext_tw_video/791612783905411073/pu/vid/640x360/GV6UtDXzD9BDWWBk.mp4'},\n",
       "      {'content_type': 'application/x-mpegURL',\n",
       "       'url': 'https://video.twimg.com/ext_tw_video/791612783905411073/pu/pl/33Yr3EIkcmWCBbsr.m3u8'},\n",
       "      {'bitrate': 2176000,\n",
       "       'content_type': 'video/mp4',\n",
       "       'url': 'https://video.twimg.com/ext_tw_video/791612783905411073/pu/vid/1280x720/XRlgJ543cr0fbXdo.mp4'},\n",
       "      {'bitrate': 256000,\n",
       "       'content_type': 'video/mp4',\n",
       "       'url': 'https://video.twimg.com/ext_tw_video/791612783905411073/pu/vid/320x180/t1oOOXlEgNf2HLMy.mp4'}]}}]},\n",
       " 'favorite_count': 28380,\n",
       " 'favorited': False,\n",
       " 'full_text': 'Obamacare is a disaster. We must REPEAL &amp; REPLACE. Tired of the lies, and want to #DrainTheSwamp? Get out &amp; VOTE #TrumpPence16 &amp; lets #MAGA! https://t.co/IO5fwVHLeT',\n",
       " 'geo': None,\n",
       " 'id': 791614912833449984,\n",
       " 'id_str': '791614912833449984',\n",
       " 'in_reply_to_screen_name': None,\n",
       " 'in_reply_to_status_id': None,\n",
       " 'in_reply_to_status_id_str': None,\n",
       " 'in_reply_to_user_id': None,\n",
       " 'in_reply_to_user_id_str': None,\n",
       " 'is_quote_status': False,\n",
       " 'lang': 'en',\n",
       " 'place': None,\n",
       " 'possibly_sensitive': False,\n",
       " 'retweet_count': 14143,\n",
       " 'retweeted': False,\n",
       " 'source': '<a href=\"http://twitter.com/download/iphone\" rel=\"nofollow\">Twitter for iPhone</a>',\n",
       " 'truncated': False,\n",
       " 'user': {'contributors_enabled': False,\n",
       "  'created_at': 'Wed Mar 18 13:46:38 +0000 2009',\n",
       "  'default_profile': False,\n",
       "  'default_profile_image': False,\n",
       "  'description': '45th President of the United States of America🇺🇸',\n",
       "  'entities': {'description': {'urls': []},\n",
       "   'url': {'urls': [{'display_url': 'Instagram.com/realDonaldTrump',\n",
       "      'expanded_url': 'http://www.Instagram.com/realDonaldTrump',\n",
       "      'indices': [0, 23],\n",
       "      'url': 'https://t.co/OMxB0x7xC5'}]}},\n",
       "  'favourites_count': 24,\n",
       "  'follow_request_sent': False,\n",
       "  'followers_count': 48102054,\n",
       "  'following': False,\n",
       "  'friends_count': 45,\n",
       "  'geo_enabled': True,\n",
       "  'has_extended_profile': False,\n",
       "  'id': 25073877,\n",
       "  'id_str': '25073877',\n",
       "  'is_translation_enabled': True,\n",
       "  'is_translator': False,\n",
       "  'lang': 'en',\n",
       "  'listed_count': 84418,\n",
       "  'location': 'Washington, DC',\n",
       "  'name': 'Donald J. Trump',\n",
       "  'notifications': False,\n",
       "  'profile_background_color': '6D5C18',\n",
       "  'profile_background_image_url': 'http://pbs.twimg.com/profile_background_images/530021613/trump_scotland__43_of_70_cc.jpg',\n",
       "  'profile_background_image_url_https': 'https://pbs.twimg.com/profile_background_images/530021613/trump_scotland__43_of_70_cc.jpg',\n",
       "  'profile_background_tile': True,\n",
       "  'profile_banner_url': 'https://pbs.twimg.com/profile_banners/25073877/1518843901',\n",
       "  'profile_image_url': 'http://pbs.twimg.com/profile_images/874276197357596672/kUuht00m_normal.jpg',\n",
       "  'profile_image_url_https': 'https://pbs.twimg.com/profile_images/874276197357596672/kUuht00m_normal.jpg',\n",
       "  'profile_link_color': '1B95E0',\n",
       "  'profile_sidebar_border_color': 'BDDCAD',\n",
       "  'profile_sidebar_fill_color': 'C5CEC0',\n",
       "  'profile_text_color': '333333',\n",
       "  'profile_use_background_image': True,\n",
       "  'protected': False,\n",
       "  'screen_name': 'realDonaldTrump',\n",
       "  'statuses_count': 36987,\n",
       "  'time_zone': 'Eastern Time (US & Canada)',\n",
       "  'translator_type': 'regular',\n",
       "  'url': 'https://t.co/OMxB0x7xC5',\n",
       "  'utc_offset': -18000,\n",
       "  'verified': True}}"
      ]
     },
     "execution_count": 92,
     "metadata": {},
     "output_type": "execute_result"
    }
   ],
   "source": [
    "# oldest tweet:\n",
    "trump_tweets[len(trump_tweets)-1]"
   ]
  },
  {
   "cell_type": "code",
   "execution_count": 93,
   "metadata": {
    "collapsed": true,
    "deletable": false,
    "nbgrader": {
     "cell_type": "code",
     "checksum": "1b46b55114772326e527b1dd67a17a8e",
     "grade": false,
     "grade_id": "oldest-month-question",
     "locked": false,
     "schema_version": 2,
     "solution": true
    }
   },
   "outputs": [],
   "source": [
    "# Enter the number of the month of the oldest tweet (e.g. 1 for January)\n",
    "oldest_month = 10 \n",
    "\n",
    "# YOUR CODE HERE\n",
    "# raise NotImplementedError()"
   ]
  },
  {
   "cell_type": "code",
   "execution_count": null,
   "metadata": {
    "collapsed": true,
    "deletable": false,
    "editable": false,
    "nbgrader": {
     "cell_type": "code",
     "checksum": "a1bc7ba95e8b2c50def1081519525604",
     "grade": true,
     "grade_id": "oldest-month-answer",
     "locked": true,
     "points": 1,
     "schema_version": 2,
     "solution": false
    }
   },
   "outputs": [],
   "source": []
  },
  {
   "cell_type": "markdown",
   "metadata": {
    "deletable": false,
    "editable": false,
    "nbgrader": {
     "cell_type": "markdown",
     "checksum": "06c75046cf9899a309ab35c11c403965",
     "grade": false,
     "grade_id": "q3",
     "locked": true,
     "schema_version": 2,
     "solution": false
    }
   },
   "source": [
    "\n",
    "## Question 3\n",
    "\n",
    "\n",
    "**IMPORTANT! PLEASE READ**\n",
    "\n",
    "Unfortunately, Twitter prevent us from going further back in time using the public APIs.  Fortunately, we have a snapshot of earlier tweets that we can combine with our new data.  \n",
    "\n",
    "We will again use the `fetch_and_cache` utility to download the dataset. "
   ]
  },
  {
   "cell_type": "code",
   "execution_count": 94,
   "metadata": {
    "collapsed": false,
    "deletable": false,
    "editable": false,
    "nbgrader": {
     "cell_type": "code",
     "checksum": "a56fd6ade293905b7cfe91c16c54c650",
     "grade": false,
     "grade_id": "download-data",
     "locked": true,
     "schema_version": 2,
     "solution": false
    }
   },
   "outputs": [
    {
     "name": "stdout",
     "output_type": "stream",
     "text": [
      "Using version already downloaded: Thu Feb 22 08:42:29 2018\n",
      "MD5 hash of file: d9419cad17e76c87fe646b587f6e8ca5\n",
      "Located at data/old_trump_tweets.json.zip\n"
     ]
    }
   ],
   "source": [
    "# Download the dataset\n",
    "from utils import fetch_and_cache\n",
    "data_url = 'http://www.ds100.org/sp18/assets/datasets/old_trump_tweets.json.zip'\n",
    "file_name = 'old_trump_tweets.json.zip'\n",
    "\n",
    "dest_path = fetch_and_cache(data_url=data_url, file=file_name)\n",
    "print(f'Located at {dest_path}')"
   ]
  },
  {
   "cell_type": "markdown",
   "metadata": {
    "deletable": false,
    "editable": false,
    "nbgrader": {
     "cell_type": "markdown",
     "checksum": "da803030a1c84a39afbb134dfb8b19fd",
     "grade": false,
     "grade_id": "loading-data-inst",
     "locked": true,
     "schema_version": 2,
     "solution": false
    }
   },
   "source": [
    "Finally, we we will load the tweets directly from the compressed file without decompressing it first."
   ]
  },
  {
   "cell_type": "code",
   "execution_count": 95,
   "metadata": {
    "collapsed": true,
    "deletable": false,
    "editable": false,
    "nbgrader": {
     "cell_type": "code",
     "checksum": "2f84519e987875b6b57d9cc5bae460cf",
     "grade": false,
     "grade_id": "loading-old-tweets",
     "locked": true,
     "schema_version": 2,
     "solution": false
    }
   },
   "outputs": [],
   "source": [
    "my_zip = zipfile.ZipFile(dest_path, 'r')\n",
    "with my_zip.open(\"old_trump_tweets.json\", \"r\") as f:\n",
    "    old_trump_tweets = json.load(f)"
   ]
  },
  {
   "cell_type": "markdown",
   "metadata": {
    "deletable": false,
    "editable": false,
    "nbgrader": {
     "cell_type": "markdown",
     "checksum": "8661fc27e5f1cdfce041efd3896ae838",
     "grade": false,
     "grade_id": "formatting-note",
     "locked": true,
     "schema_version": 2,
     "solution": false
    }
   },
   "source": [
    "This data is formatted identically to the recent tweets we just downloaded:"
   ]
  },
  {
   "cell_type": "code",
   "execution_count": 96,
   "metadata": {
    "collapsed": false,
    "deletable": false,
    "editable": false,
    "nbgrader": {
     "cell_type": "code",
     "checksum": "30d8ef8fa2c1b900a48779e6cf0320b6",
     "grade": false,
     "grade_id": "pprint-old-tweets",
     "locked": true,
     "schema_version": 2,
     "solution": false
    }
   },
   "outputs": [
    {
     "name": "stdout",
     "output_type": "stream",
     "text": [
      "{'contributors': None,\n",
      " 'coordinates': None,\n",
      " 'created_at': 'Wed Oct 12 14:00:48 +0000 2016',\n",
      " 'entities': {'hashtags': [{'indices': [23, 38], 'text': 'CrookedHillary'}],\n",
      "              'media': [{'display_url': 'pic.twitter.com/wjsl8ITVvk',\n",
      "                         'expanded_url': 'https://twitter.com/realDonaldTrump/status/786204978629185536/video/1',\n",
      "                         'id': 786204885318561792,\n",
      "                         'id_str': '786204885318561792',\n",
      "                         'indices': [39, 62],\n",
      "                         'media_url': 'http://pbs.twimg.com/ext_tw_video_thumb/786204885318561792/pu/img/XqMoixLm83FzkAbn.jpg',\n",
      "                         'media_url_https': 'https://pbs.twimg.com/ext_tw_video_thumb/786204885318561792/pu/img/XqMoixLm83FzkAbn.jpg',\n",
      "                         'sizes': {'large': {'h': 576,\n",
      "                                             'resize': 'fit',\n",
      "                                             'w': 1024},\n",
      "                                   'medium': {'h': 338,\n",
      "                                              'resize': 'fit',\n",
      "                                              'w': 600},\n",
      "                                   'small': {'h': 191,\n",
      "                                             'resize': 'fit',\n",
      "                                             'w': 340},\n",
      "                                   'thumb': {'h': 150,\n",
      "                                             'resize': 'crop',\n",
      "                                             'w': 150}},\n",
      "                         'type': 'photo',\n",
      "                         'url': 'https://t.co/wjsl8ITVvk'}],\n",
      "              'symbols': [],\n",
      "              'urls': [],\n",
      "              'user_mentions': []},\n",
      " 'extended_entities': {'media': [{'additional_media_info': {'monetizable': False},\n",
      "                                  'display_url': 'pic.twitter.com/wjsl8ITVvk',\n",
      "                                  'expanded_url': 'https://twitter.com/realDonaldTrump/status/786204978629185536/video/1',\n",
      "                                  'id': 786204885318561792,\n",
      "                                  'id_str': '786204885318561792',\n",
      "                                  'indices': [39, 62],\n",
      "                                  'media_url': 'http://pbs.twimg.com/ext_tw_video_thumb/786204885318561792/pu/img/XqMoixLm83FzkAbn.jpg',\n",
      "                                  'media_url_https': 'https://pbs.twimg.com/ext_tw_video_thumb/786204885318561792/pu/img/XqMoixLm83FzkAbn.jpg',\n",
      "                                  'sizes': {'large': {'h': 576,\n",
      "                                                      'resize': 'fit',\n",
      "                                                      'w': 1024},\n",
      "                                            'medium': {'h': 338,\n",
      "                                                       'resize': 'fit',\n",
      "                                                       'w': 600},\n",
      "                                            'small': {'h': 191,\n",
      "                                                      'resize': 'fit',\n",
      "                                                      'w': 340},\n",
      "                                            'thumb': {'h': 150,\n",
      "                                                      'resize': 'crop',\n",
      "                                                      'w': 150}},\n",
      "                                  'type': 'video',\n",
      "                                  'url': 'https://t.co/wjsl8ITVvk',\n",
      "                                  'video_info': {'aspect_ratio': [16, 9],\n",
      "                                                 'duration_millis': 30106,\n",
      "                                                 'variants': [{'bitrate': 832000,\n",
      "                                                               'content_type': 'video/mp4',\n",
      "                                                               'url': 'https://video.twimg.com/ext_tw_video/786204885318561792/pu/vid/640x360/6vt24D3ZQSvYuDqe.mp4'},\n",
      "                                                              {'bitrate': 2176000,\n",
      "                                                               'content_type': 'video/mp4',\n",
      "                                                               'url': 'https://video.twimg.com/ext_tw_video/786204885318561792/pu/vid/1280x720/rSbgQdvR9TPIlRWr.mp4'},\n",
      "                                                              {'bitrate': 320000,\n",
      "                                                               'content_type': 'video/mp4',\n",
      "                                                               'url': 'https://video.twimg.com/ext_tw_video/786204885318561792/pu/vid/320x180/JuNJDqr1KHqoP83N.mp4'},\n",
      "                                                              {'content_type': 'application/x-mpegURL',\n",
      "                                                               'url': 'https://video.twimg.com/ext_tw_video/786204885318561792/pu/pl/IugUNii3a7lmjApS.m3u8'}]}}]},\n",
      " 'favorite_count': 42242,\n",
      " 'favorited': False,\n",
      " 'geo': None,\n",
      " 'id': 786204978629185536,\n",
      " 'id_str': '786204978629185536',\n",
      " 'in_reply_to_screen_name': None,\n",
      " 'in_reply_to_status_id': None,\n",
      " 'in_reply_to_status_id_str': None,\n",
      " 'in_reply_to_user_id': None,\n",
      " 'in_reply_to_user_id_str': None,\n",
      " 'is_quote_status': False,\n",
      " 'lang': 'en',\n",
      " 'place': {'attributes': {},\n",
      "           'bounding_box': {'coordinates': [[[-87.634643, 24.396308],\n",
      "                                             [-79.974307, 24.396308],\n",
      "                                             [-79.974307, 31.001056],\n",
      "                                             [-87.634643, 31.001056]]],\n",
      "                            'type': 'Polygon'},\n",
      "           'contained_within': [],\n",
      "           'country': 'United States',\n",
      "           'country_code': 'US',\n",
      "           'full_name': 'Florida, USA',\n",
      "           'id': '4ec01c9dbc693497',\n",
      "           'name': 'Florida',\n",
      "           'place_type': 'admin',\n",
      "           'url': 'https://api.twitter.com/1.1/geo/id/4ec01c9dbc693497.json'},\n",
      " 'possibly_sensitive': False,\n",
      " 'retweet_count': 24915,\n",
      " 'retweeted': False,\n",
      " 'source': '<a href=\"http://twitter.com/download/iphone\" '\n",
      "           'rel=\"nofollow\">Twitter for iPhone</a>',\n",
      " 'text': 'PAY TO PLAY POLITICS. \\n#CrookedHillary https://t.co/wjsl8ITVvk',\n",
      " 'truncated': False,\n",
      " 'user': {'contributors_enabled': False,\n",
      "          'created_at': 'Wed Mar 18 13:46:38 +0000 2009',\n",
      "          'default_profile': False,\n",
      "          'default_profile_image': False,\n",
      "          'description': '45th President of the United States of America🇺🇸',\n",
      "          'entities': {'description': {'urls': []}},\n",
      "          'favourites_count': 12,\n",
      "          'follow_request_sent': False,\n",
      "          'followers_count': 35307313,\n",
      "          'following': False,\n",
      "          'friends_count': 45,\n",
      "          'geo_enabled': True,\n",
      "          'has_extended_profile': False,\n",
      "          'id': 25073877,\n",
      "          'id_str': '25073877',\n",
      "          'is_translation_enabled': True,\n",
      "          'is_translator': False,\n",
      "          'lang': 'en',\n",
      "          'listed_count': 74225,\n",
      "          'location': 'Washington, DC',\n",
      "          'name': 'Donald J. Trump',\n",
      "          'notifications': False,\n",
      "          'profile_background_color': '6D5C18',\n",
      "          'profile_background_image_url': 'http://pbs.twimg.com/profile_background_images/530021613/trump_scotland__43_of_70_cc.jpg',\n",
      "          'profile_background_image_url_https': 'https://pbs.twimg.com/profile_background_images/530021613/trump_scotland__43_of_70_cc.jpg',\n",
      "          'profile_background_tile': True,\n",
      "          'profile_banner_url': 'https://pbs.twimg.com/profile_banners/25073877/1501916634',\n",
      "          'profile_image_url': 'http://pbs.twimg.com/profile_images/874276197357596672/kUuht00m_normal.jpg',\n",
      "          'profile_image_url_https': 'https://pbs.twimg.com/profile_images/874276197357596672/kUuht00m_normal.jpg',\n",
      "          'profile_link_color': '1B95E0',\n",
      "          'profile_sidebar_border_color': 'BDDCAD',\n",
      "          'profile_sidebar_fill_color': 'C5CEC0',\n",
      "          'profile_text_color': '333333',\n",
      "          'profile_use_background_image': True,\n",
      "          'protected': False,\n",
      "          'screen_name': 'realDonaldTrump',\n",
      "          'statuses_count': 35480,\n",
      "          'time_zone': 'Eastern Time (US & Canada)',\n",
      "          'translator_type': 'regular',\n",
      "          'url': None,\n",
      "          'utc_offset': -14400,\n",
      "          'verified': True}}\n"
     ]
    }
   ],
   "source": [
    "pprint(old_trump_tweets[0])"
   ]
  },
  {
   "cell_type": "markdown",
   "metadata": {
    "deletable": false,
    "editable": false,
    "nbgrader": {
     "cell_type": "markdown",
     "checksum": "15f652a6c9d0626c82b34be4253b2333",
     "grade": false,
     "grade_id": "listing-keys-inst",
     "locked": true,
     "schema_version": 2,
     "solution": false
    }
   },
   "source": [
    "As a dictionary we can also list the keys:"
   ]
  },
  {
   "cell_type": "code",
   "execution_count": 20,
   "metadata": {
    "collapsed": false,
    "deletable": false,
    "editable": false,
    "nbgrader": {
     "cell_type": "code",
     "checksum": "c88eaf1ba38e6c52151ad6a2922216c0",
     "grade": false,
     "grade_id": "listing-keys",
     "locked": true,
     "schema_version": 2,
     "solution": false
    }
   },
   "outputs": [
    {
     "data": {
      "text/plain": [
       "dict_keys(['created_at', 'id', 'id_str', 'text', 'truncated', 'entities', 'extended_entities', 'source', 'in_reply_to_status_id', 'in_reply_to_status_id_str', 'in_reply_to_user_id', 'in_reply_to_user_id_str', 'in_reply_to_screen_name', 'user', 'geo', 'coordinates', 'place', 'contributors', 'is_quote_status', 'retweet_count', 'favorite_count', 'favorited', 'retweeted', 'possibly_sensitive', 'lang'])"
      ]
     },
     "execution_count": 20,
     "metadata": {},
     "output_type": "execute_result"
    }
   ],
   "source": [
    "old_trump_tweets[0].keys()"
   ]
  },
  {
   "cell_type": "markdown",
   "metadata": {
    "deletable": false,
    "editable": false,
    "nbgrader": {
     "cell_type": "markdown",
     "checksum": "b40bfbf5e74ba5af630326ab7a77c98c",
     "grade": false,
     "grade_id": "q3a",
     "locked": true,
     "schema_version": 2,
     "solution": false
    }
   },
   "source": [
    "### Question 3a\n",
    "\n",
    "Merge the `old_trump_tweets` and the `trump_tweets` we downloaded from twitter into one giant list of tweets. \n",
    "\n",
    "**Important:** There may be some overlap so be sure to eliminate duplicate tweets.  \n",
    "**Hint:** the `id` of a tweet is always unique."
   ]
  },
  {
   "cell_type": "code",
   "execution_count": 21,
   "metadata": {
    "collapsed": true,
    "deletable": false,
    "nbgrader": {
     "cell_type": "code",
     "checksum": "cfff2cf8e110d51cb3dbb7f5086b9be4",
     "grade": false,
     "grade_id": "q3a-answer",
     "locked": false,
     "schema_version": 2,
     "solution": true
    }
   },
   "outputs": [],
   "source": [
    "# create list of ids in trump_tweets\n",
    "ids = []\n",
    "for x in trump_tweets:\n",
    "    if x.get('id') not in ids:\n",
    "        ids.append(x.get('id'))\n",
    "\n",
    "# set tweet_lst to all trump tweets (because these IDs are unique)\n",
    "# make sure to not modify trump_tweets below!\n",
    "tweet_lst = trump_tweets[:]\n",
    "\n",
    "# Now add all old_trump_tweets who's ids are NOT in id tracker.\n",
    "for y in old_trump_tweets:\n",
    "    if y.get('id') not in ids:\n",
    "        ids.append(y.get('ds'))\n",
    "        tweet_lst.append(y)\n",
    "        \n",
    "# Here we are:\n",
    "all_tweets = tweet_lst\n",
    "\n",
    "# YOUR CODE HERE\n",
    "# raise NotImplementedError()"
   ]
  },
  {
   "cell_type": "code",
   "execution_count": 22,
   "metadata": {
    "collapsed": false
   },
   "outputs": [
    {
     "data": {
      "text/plain": [
       "6759"
      ]
     },
     "execution_count": 22,
     "metadata": {},
     "output_type": "execute_result"
    }
   ],
   "source": [
    "len(all_tweets)"
   ]
  },
  {
   "cell_type": "code",
   "execution_count": 23,
   "metadata": {
    "collapsed": true,
    "deletable": false,
    "editable": false,
    "nbgrader": {
     "cell_type": "code",
     "checksum": "7a21da10aa86da615b340c8edb2973c3",
     "grade": true,
     "grade_id": "q3a-test",
     "locked": true,
     "points": 2,
     "schema_version": 2,
     "solution": false
    }
   },
   "outputs": [],
   "source": [
    "assert len(all_tweets) > len(trump_tweets)\n",
    "assert len(all_tweets) > len(old_trump_tweets)"
   ]
  },
  {
   "cell_type": "markdown",
   "metadata": {
    "deletable": false,
    "editable": false,
    "nbgrader": {
     "cell_type": "markdown",
     "checksum": "532cecf04260fcadca43ce63bf296d5d",
     "grade": false,
     "grade_id": "q3b",
     "locked": true,
     "schema_version": 2,
     "solution": false
    }
   },
   "source": [
    "### Question 3b\n",
    "\n",
    "Construct a DataFrame called `trump` containing all the tweets stored in `all_tweets`. The index of the dataframe should be the ID of each tweet (looks something like `907698529606541312`). It should have these columns:\n",
    "\n",
    "- `time`: The time the tweet was created encoded as a datetime object. (Use `pd.to_datetime` to encode the timestamp.)\n",
    "- `source`: The source device of the tweet.\n",
    "- `text`: The text of the tweet.\n",
    "- `retweet_count`: The retweet count of the tweet. \n",
    "\n",
    "Finally, **the resulting dataframe should be sorted by the index.**\n",
    "\n",
    "**Warning:** *Some tweets will store the text in the `text` field and other will use the `full_text` field.*"
   ]
  },
  {
   "cell_type": "code",
   "execution_count": 24,
   "metadata": {
    "collapsed": false
   },
   "outputs": [
    {
     "name": "stderr",
     "output_type": "stream",
     "text": [
      "/srv/conda/envs/data100/lib/python3.6/site-packages/ipykernel_launcher.py:9: SettingWithCopyWarning: \n",
      "A value is trying to be set on a copy of a slice from a DataFrame.\n",
      "Try using .loc[row_indexer,col_indexer] = value instead\n",
      "\n",
      "See the caveats in the documentation: http://pandas.pydata.org/pandas-docs/stable/indexing.html#indexing-view-versus-copy\n",
      "  if __name__ == '__main__':\n",
      "/srv/conda/envs/data100/lib/python3.6/site-packages/pandas/core/frame.py:3027: SettingWithCopyWarning: \n",
      "A value is trying to be set on a copy of a slice from a DataFrame\n",
      "\n",
      "See the caveats in the documentation: http://pandas.pydata.org/pandas-docs/stable/indexing.html#indexing-view-versus-copy\n",
      "  return super(DataFrame, self).rename(**kwargs)\n",
      "/srv/conda/envs/data100/lib/python3.6/site-packages/pandas/core/generic.py:4355: SettingWithCopyWarning: \n",
      "A value is trying to be set on a copy of a slice from a DataFrame\n",
      "\n",
      "See the caveats in the documentation: http://pandas.pydata.org/pandas-docs/stable/indexing.html#indexing-view-versus-copy\n",
      "  self._update_inplace(new_data)\n"
     ]
    },
    {
     "data": {
      "text/html": [
       "<div>\n",
       "<style scoped>\n",
       "    .dataframe tbody tr th:only-of-type {\n",
       "        vertical-align: middle;\n",
       "    }\n",
       "\n",
       "    .dataframe tbody tr th {\n",
       "        vertical-align: top;\n",
       "    }\n",
       "\n",
       "    .dataframe thead th {\n",
       "        text-align: right;\n",
       "    }\n",
       "</style>\n",
       "<table border=\"1\" class=\"dataframe\">\n",
       "  <thead>\n",
       "    <tr style=\"text-align: right;\">\n",
       "      <th></th>\n",
       "      <th>time</th>\n",
       "      <th>source</th>\n",
       "      <th>text</th>\n",
       "      <th>retweet_count</th>\n",
       "    </tr>\n",
       "    <tr>\n",
       "      <th>id</th>\n",
       "      <th></th>\n",
       "      <th></th>\n",
       "      <th></th>\n",
       "      <th></th>\n",
       "    </tr>\n",
       "  </thead>\n",
       "  <tbody>\n",
       "    <tr>\n",
       "      <th>966487844662456320</th>\n",
       "      <td>2018-02-22 01:40:33</td>\n",
       "      <td>&lt;a href=\"http://twitter.com/download/iphone\" rel=\"nofollow\"&gt;Twitter for iPhone&lt;/a&gt;</td>\n",
       "      <td>I will always remember the time I spent today with courageous students, teachers and families. So much love in the midst of so much pain. We must not let them down. We must keep our children safe!!\\n\\nFull Listening Session: https://t.co/x5VenyQX5p https://t.co/CAPfX5odIp</td>\n",
       "      <td>15266</td>\n",
       "    </tr>\n",
       "    <tr>\n",
       "      <th>966420452070559749</th>\n",
       "      <td>2018-02-21 21:12:45</td>\n",
       "      <td>&lt;a href=\"http://twitter.com/download/iphone\" rel=\"nofollow\"&gt;Twitter for iPhone&lt;/a&gt;</td>\n",
       "      <td>.@FLOTUS Melania and I join millions of people around the world in mourning the passing of Billy Graham. Our prayers are with his children, grandchildren, great-grandchildren and all who worked closely with Reverend Graham in his lifelong ministry. https://t.co/e1697tcyaI</td>\n",
       "      <td>14321</td>\n",
       "    </tr>\n",
       "    <tr>\n",
       "      <th>966377081469882368</th>\n",
       "      <td>2018-02-21 18:20:25</td>\n",
       "      <td>&lt;a href=\"https://studio.twitter.com\" rel=\"nofollow\"&gt;Media Studio&lt;/a&gt;</td>\n",
       "      <td>Yesterday, it was my great honor to recognize extraordinary Law Enforcement Officers and First Responders, and to award them the the highest possible decoration for bravery by public safety officers, the Medal of Valor. #AmericanHeroes https://t.co/em0wBbvy5P</td>\n",
       "      <td>12110</td>\n",
       "    </tr>\n",
       "    <tr>\n",
       "      <th>966321700588711936</th>\n",
       "      <td>2018-02-21 14:40:21</td>\n",
       "      <td>&lt;a href=\"http://twitter.com/download/iphone\" rel=\"nofollow\"&gt;Twitter for iPhone&lt;/a&gt;</td>\n",
       "      <td>Question: If all of the Russian meddling took place during the Obama Administration, right up to January 20th, why aren’t they the subject of the investigation? Why didn’t Obama do something about the meddling? Why aren’t Dem crimes under investigation? Ask Jeff Sessions!</td>\n",
       "      <td>27736</td>\n",
       "    </tr>\n",
       "    <tr>\n",
       "      <th>966317112565420033</th>\n",
       "      <td>2018-02-21 14:22:07</td>\n",
       "      <td>&lt;a href=\"http://twitter.com/download/iphone\" rel=\"nofollow\"&gt;Twitter for iPhone&lt;/a&gt;</td>\n",
       "      <td>The GREAT Billy Graham is dead. There was nobody like him! He will be missed by Christians and all religions. A very special man.</td>\n",
       "      <td>27492</td>\n",
       "    </tr>\n",
       "    <tr>\n",
       "      <th>966119932793585664</th>\n",
       "      <td>2018-02-21 01:18:36</td>\n",
       "      <td>&lt;a href=\"http://twitter.com/download/iphone\" rel=\"nofollow\"&gt;Twitter for iPhone&lt;/a&gt;</td>\n",
       "      <td>@CNN @MSNBC Whether we are Republican or Democrat, we must now focus on strengthening Background Checks!</td>\n",
       "      <td>15214</td>\n",
       "    </tr>\n",
       "    <tr>\n",
       "      <th>966118856874971138</th>\n",
       "      <td>2018-02-21 01:14:19</td>\n",
       "      <td>&lt;a href=\"http://twitter.com/download/iphone\" rel=\"nofollow\"&gt;Twitter for iPhone&lt;/a&gt;</td>\n",
       "      <td>So true, thank you! https://t.co/9TTXlfokYz</td>\n",
       "      <td>20847</td>\n",
       "    </tr>\n",
       "    <tr>\n",
       "      <th>966117265426001920</th>\n",
       "      <td>2018-02-21 01:08:00</td>\n",
       "      <td>&lt;a href=\"http://twitter.com/download/iphone\" rel=\"nofollow\"&gt;Twitter for iPhone&lt;/a&gt;</td>\n",
       "      <td>Bad ratings @CNN &amp;amp; @MSNBC got scammed when they covered the anti-Trump Russia rally wall-to-wall. They probably knew it was Fake News but, because it was a rally against me, they pushed it hard anyway. Two really dishonest newscasters, but the public is wise!</td>\n",
       "      <td>21251</td>\n",
       "    </tr>\n",
       "    <tr>\n",
       "      <th>966006815745040384</th>\n",
       "      <td>2018-02-20 17:49:07</td>\n",
       "      <td>&lt;a href=\"http://twitter.com/download/iphone\" rel=\"nofollow\"&gt;Twitter for iPhone&lt;/a&gt;</td>\n",
       "      <td>Main Street is BOOMING thanks to our incredible TAX CUT and Reform law. \"This shows small-business owners are more than just optimistic, they are ready to grow their businesses.\" https://t.co/w9aw68UwOj</td>\n",
       "      <td>16824</td>\n",
       "    </tr>\n",
       "    <tr>\n",
       "      <th>965971586913374208</th>\n",
       "      <td>2018-02-20 15:29:07</td>\n",
       "      <td>&lt;a href=\"http://twitter.com/download/iphone\" rel=\"nofollow\"&gt;Twitter for iPhone&lt;/a&gt;</td>\n",
       "      <td>....cameras running. Another False Accusation. Why doesn’t @washingtonpost report the story of the women taking money to make up stories about me? One had her home mortgage paid off. Only @FoxNews so reported...doesn’t fit the Mainstream Media narrative.</td>\n",
       "      <td>19234</td>\n",
       "    </tr>\n",
       "    <tr>\n",
       "      <th>965968309358333952</th>\n",
       "      <td>2018-02-20 15:16:06</td>\n",
       "      <td>&lt;a href=\"http://twitter.com/download/iphone\" rel=\"nofollow\"&gt;Twitter for iPhone&lt;/a&gt;</td>\n",
       "      <td>A woman I don’t know and, to the best of my knowledge, never met, is on the FRONT PAGE of the Fake News Washington Post saying I kissed her (for two minutes yet) in the lobby of Trump Tower 12 years ago. Never happened! Who would do this in a public space with live security.....</td>\n",
       "      <td>21128</td>\n",
       "    </tr>\n",
       "    <tr>\n",
       "      <th>965943827931549696</th>\n",
       "      <td>2018-02-20 13:38:49</td>\n",
       "      <td>&lt;a href=\"http://twitter.com/download/iphone\" rel=\"nofollow\"&gt;Twitter for iPhone&lt;/a&gt;</td>\n",
       "      <td>I have been much tougher on Russia than Obama, just look at the facts. Total Fake News!</td>\n",
       "      <td>15852</td>\n",
       "    </tr>\n",
       "    <tr>\n",
       "      <th>965937068907073536</th>\n",
       "      <td>2018-02-20 13:11:58</td>\n",
       "      <td>&lt;a href=\"http://twitter.com/download/iphone\" rel=\"nofollow\"&gt;Twitter for iPhone&lt;/a&gt;</td>\n",
       "      <td>Hope Republicans in the Great State of Pennsylvania challenge the new “pushed” Congressional Map, all the way to the Supreme Court, if necessary. Your Original was correct! Don’t let the Dems take elections away from you so that they can raise taxes &amp;amp; waste money!</td>\n",
       "      <td>19698</td>\n",
       "    </tr>\n",
       "    <tr>\n",
       "      <th>965935035328155649</th>\n",
       "      <td>2018-02-20 13:03:53</td>\n",
       "      <td>&lt;a href=\"http://twitter.com/download/iphone\" rel=\"nofollow\"&gt;Twitter for iPhone&lt;/a&gt;</td>\n",
       "      <td>Matt Schlapp and CPAC are getting ready for another exciting event. Big difference from those days when President Obama held the White House. You’ve come a long way Matt!</td>\n",
       "      <td>9864</td>\n",
       "    </tr>\n",
       "    <tr>\n",
       "      <th>965932714141650946</th>\n",
       "      <td>2018-02-20 12:54:39</td>\n",
       "      <td>&lt;a href=\"http://twitter.com/download/iphone\" rel=\"nofollow\"&gt;Twitter for iPhone&lt;/a&gt;</td>\n",
       "      <td>Republicans are now leading the Generic Poll, perhaps because of the popular Tax Cuts which the Dems want to take away. Actually, they want to raise you taxes, substantially. Also, they want to do nothing on DACA, R’s want to fix!</td>\n",
       "      <td>16769</td>\n",
       "    </tr>\n",
       "    <tr>\n",
       "      <th>965930611272712192</th>\n",
       "      <td>2018-02-20 12:46:18</td>\n",
       "      <td>&lt;a href=\"http://twitter.com/download/iphone\" rel=\"nofollow\"&gt;Twitter for iPhone&lt;/a&gt;</td>\n",
       "      <td>....The President Obama quote just before election. That’s because he thought Crooked Hillary was going to win and he didn’t want to “rock the boat.” When I easily won the Electoral College, the whole game changed and the Russian excuse became the narrative of the Dems.</td>\n",
       "      <td>20038</td>\n",
       "    </tr>\n",
       "    <tr>\n",
       "      <th>965928352614965248</th>\n",
       "      <td>2018-02-20 12:37:20</td>\n",
       "      <td>&lt;a href=\"http://twitter.com/download/iphone\" rel=\"nofollow\"&gt;Twitter for iPhone&lt;/a&gt;</td>\n",
       "      <td>“There is no serious person out there who would suggest somehow that you could even rig America’s elections, there’s no evidence that that has happened in the past or that it will happen this time, and so I’d invite Mr. Trump to stop whining and make his case to get votes.” ....</td>\n",
       "      <td>16998</td>\n",
       "    </tr>\n",
       "    <tr>\n",
       "      <th>965925223949357056</th>\n",
       "      <td>2018-02-20 12:24:54</td>\n",
       "      <td>&lt;a href=\"http://twitter.com/download/iphone\" rel=\"nofollow\"&gt;Twitter for iPhone&lt;/a&gt;</td>\n",
       "      <td>Thank you to @foxandfriends for the great timeline on all of the failures the Obama Administration had against Russia, including Crimea, Syria and so much more. We are now starting to win again!</td>\n",
       "      <td>14327</td>\n",
       "    </tr>\n",
       "    <tr>\n",
       "      <th>965780052167286784</th>\n",
       "      <td>2018-02-20 02:48:02</td>\n",
       "      <td>&lt;a href=\"http://twitter.com/download/iphone\" rel=\"nofollow\"&gt;Twitter for iPhone&lt;/a&gt;</td>\n",
       "      <td>“The Faith of Donald Trump,” a book just out by David Brody and Scott Lamb, is a very interesting read. Enjoy!</td>\n",
       "      <td>13059</td>\n",
       "    </tr>\n",
       "    <tr>\n",
       "      <th>965775382598311937</th>\n",
       "      <td>2018-02-20 02:29:29</td>\n",
       "      <td>&lt;a href=\"http://twitter.com/download/iphone\" rel=\"nofollow\"&gt;Twitter for iPhone&lt;/a&gt;</td>\n",
       "      <td>The U.S. economy is looking very good, in my opinion, even better than anticipated. Companies are pouring back into our country, reversing the long term trend of leaving. The unemployment numbers are looking great, and Regulations &amp;amp; Taxes have been massively Cut! JOBS, JO...</td>\n",
       "      <td>25020</td>\n",
       "    </tr>\n",
       "    <tr>\n",
       "      <th>965773283554668544</th>\n",
       "      <td>2018-02-20 02:21:08</td>\n",
       "      <td>&lt;a href=\"http://twitter.com/download/iphone\" rel=\"nofollow\"&gt;Twitter for iPhone&lt;/a&gt;</td>\n",
       "      <td>.@MittRomney has announced he is running for the Senate from the wonderful State of Utah. He will make a great Senator and worthy successor to @OrrinHatch, and has my full support and endorsement!</td>\n",
       "      <td>9264</td>\n",
       "    </tr>\n",
       "    <tr>\n",
       "      <th>965676314576543744</th>\n",
       "      <td>2018-02-19 19:55:49</td>\n",
       "      <td>&lt;a href=\"http://twitter.com/download/iphone\" rel=\"nofollow\"&gt;Twitter for iPhone&lt;/a&gt;</td>\n",
       "      <td>Obama was President up to, and beyond, the 2016 Election. So why didn’t he do something about Russian meddling?</td>\n",
       "      <td>22102</td>\n",
       "    </tr>\n",
       "    <tr>\n",
       "      <th>965582280772276224</th>\n",
       "      <td>2018-02-19 13:42:10</td>\n",
       "      <td>&lt;a href=\"http://twitter.com/download/iphone\" rel=\"nofollow\"&gt;Twitter for iPhone&lt;/a&gt;</td>\n",
       "      <td>Have a great, but very reflective, President’s Day!</td>\n",
       "      <td>24095</td>\n",
       "    </tr>\n",
       "    <tr>\n",
       "      <th>965442990134251520</th>\n",
       "      <td>2018-02-19 04:28:40</td>\n",
       "      <td>&lt;a href=\"http://twitter.com/download/iphone\" rel=\"nofollow\"&gt;Twitter for iPhone&lt;/a&gt;</td>\n",
       "      <td>Just watched a very insecure Oprah Winfrey, who at one point I knew very well, interview a panel of people on 60 Minutes. The questions were biased and slanted, the facts incorrect. Hope Oprah runs so she can be exposed and defeated just like all of the others!</td>\n",
       "      <td>34723</td>\n",
       "    </tr>\n",
       "    <tr>\n",
       "      <th>965303158229622785</th>\n",
       "      <td>2018-02-18 19:13:02</td>\n",
       "      <td>&lt;a href=\"http://twitter.com/download/iphone\" rel=\"nofollow\"&gt;Twitter for iPhone&lt;/a&gt;</td>\n",
       "      <td>My great friends from NASCAR are having their big race today, The Daytona 500. Brian France and the France family are special people. Enjoy the race!</td>\n",
       "      <td>15603</td>\n",
       "    </tr>\n",
       "    <tr>\n",
       "      <th>965272331978407937</th>\n",
       "      <td>2018-02-18 17:10:32</td>\n",
       "      <td>&lt;a href=\"http://twitter.com/download/iphone\" rel=\"nofollow\"&gt;Twitter for iPhone&lt;/a&gt;</td>\n",
       "      <td>Thank you to KenStarr, former Independent Counsel, Whitewater, for your insight and powerful words on FISA abuse, Russian meddling etc. Really great interview with @MariaBartiromo</td>\n",
       "      <td>17977</td>\n",
       "    </tr>\n",
       "    <tr>\n",
       "      <th>965223354633457665</th>\n",
       "      <td>2018-02-18 13:55:55</td>\n",
       "      <td>&lt;a href=\"http://twitter.com/download/iphone\" rel=\"nofollow\"&gt;Twitter for iPhone&lt;/a&gt;</td>\n",
       "      <td>Great Pollster John McLaughlin now has the GOP up in the Generic Congressional Ballot. Big gain over last 4 weeks. I guess people are loving the big Tax Cuts given them by the Republicans, the Cuts the Dems want to take away. We need more Republicans!</td>\n",
       "      <td>21925</td>\n",
       "    </tr>\n",
       "    <tr>\n",
       "      <th>965221024496279552</th>\n",
       "      <td>2018-02-18 13:46:39</td>\n",
       "      <td>&lt;a href=\"http://twitter.com/download/iphone\" rel=\"nofollow\"&gt;Twitter for iPhone&lt;/a&gt;</td>\n",
       "      <td>The Fake News of big ratings loser CNN. https://t.co/rYsv90cnvs</td>\n",
       "      <td>19872</td>\n",
       "    </tr>\n",
       "    <tr>\n",
       "      <th>965212168449941505</th>\n",
       "      <td>2018-02-18 13:11:28</td>\n",
       "      <td>&lt;a href=\"http://twitter.com/download/iphone\" rel=\"nofollow\"&gt;Twitter for iPhone&lt;/a&gt;</td>\n",
       "      <td>If it was the GOAL of Russia to create discord, disruption and chaos within the U.S. then, with all of the Committee Hearings, Investigations and Party hatred, they have succeeded beyond their wildest dreams. They are laughing their asses off in Moscow. Get smart America!</td>\n",
       "      <td>33300</td>\n",
       "    </tr>\n",
       "    <tr>\n",
       "      <th>965207569852780544</th>\n",
       "      <td>2018-02-18 12:53:11</td>\n",
       "      <td>&lt;a href=\"http://twitter.com/download/iphone\" rel=\"nofollow\"&gt;Twitter for iPhone&lt;/a&gt;</td>\n",
       "      <td>RT @mike_pence: Big night. Largest-ever Dallas County GOP Reagan Day Dinner. As I told the crowd, under President @realDonaldTrump: Promise…</td>\n",
       "      <td>12694</td>\n",
       "    </tr>\n",
       "    <tr>\n",
       "      <th>...</th>\n",
       "      <td>...</td>\n",
       "      <td>...</td>\n",
       "      <td>...</td>\n",
       "      <td>...</td>\n",
       "    </tr>\n",
       "    <tr>\n",
       "      <th>787425145489072128</th>\n",
       "      <td>2016-10-15 22:49:18</td>\n",
       "      <td>&lt;a href=\"http://twitter.com/download/android\" rel=\"nofollow\"&gt;Twitter for Android&lt;/a&gt;</td>\n",
       "      <td>The failing @nytimes reporters don't even call us anymore, they just write whatever they want to write, making up sources along the way!</td>\n",
       "      <td>15779</td>\n",
       "    </tr>\n",
       "    <tr>\n",
       "      <th>787359730465329152</th>\n",
       "      <td>2016-10-15 18:29:22</td>\n",
       "      <td>&lt;a href=\"http://twitter.com/download/android\" rel=\"nofollow\"&gt;Twitter for Android&lt;/a&gt;</td>\n",
       "      <td>Nothing ever happened with any of these women. Totally made up nonsense to steal the election. Nobody has more respect for women than me!</td>\n",
       "      <td>20453</td>\n",
       "    </tr>\n",
       "    <tr>\n",
       "      <th>787355131062943744</th>\n",
       "      <td>2016-10-15 18:11:06</td>\n",
       "      <td>&lt;a href=\"http://twitter.com/download/iphone\" rel=\"nofollow\"&gt;Twitter for iPhone&lt;/a&gt;</td>\n",
       "      <td>The MOVEMENT in Portsmouth, New Hampshire w/ 7K supporters. THANK YOU! This is the biggest election of our lifetime… https://t.co/4otZyjYLc2</td>\n",
       "      <td>12760</td>\n",
       "    </tr>\n",
       "    <tr>\n",
       "      <th>787320961934688257</th>\n",
       "      <td>2016-10-15 15:55:19</td>\n",
       "      <td>&lt;a href=\"http://twitter.com/download/iphone\" rel=\"nofollow\"&gt;Twitter for iPhone&lt;/a&gt;</td>\n",
       "      <td>Landing in New Hampshire soon to talk about the massive drug problem there, and all over the country.</td>\n",
       "      <td>7339</td>\n",
       "    </tr>\n",
       "    <tr>\n",
       "      <th>787320326573228032</th>\n",
       "      <td>2016-10-15 15:52:48</td>\n",
       "      <td>&lt;a href=\"http://twitter.com/download/iphone\" rel=\"nofollow\"&gt;Twitter for iPhone&lt;/a&gt;</td>\n",
       "      <td>The truth is a beautiful weapon. https://t.co/P7FrFhicvw</td>\n",
       "      <td>13568</td>\n",
       "    </tr>\n",
       "    <tr>\n",
       "      <th>787319977711923200</th>\n",
       "      <td>2016-10-15 15:51:25</td>\n",
       "      <td>&lt;a href=\"http://twitter.com/download/iphone\" rel=\"nofollow\"&gt;Twitter for iPhone&lt;/a&gt;</td>\n",
       "      <td>RT @DanScavino: Mr. Trump removing the broken teleprompter in North Carolina-in front of a massive crowd. He goes on&amp;amp;delivers the best spee…</td>\n",
       "      <td>11551</td>\n",
       "    </tr>\n",
       "    <tr>\n",
       "      <th>787267564405653505</th>\n",
       "      <td>2016-10-15 12:23:08</td>\n",
       "      <td>&lt;a href=\"http://twitter.com/download/android\" rel=\"nofollow\"&gt;Twitter for Android&lt;/a&gt;</td>\n",
       "      <td>Hillary Clinton should have been prosecuted and should be in jail. Instead she is running for president in what looks like a rigged election</td>\n",
       "      <td>35442</td>\n",
       "    </tr>\n",
       "    <tr>\n",
       "      <th>787266044213723138</th>\n",
       "      <td>2016-10-15 12:17:06</td>\n",
       "      <td>&lt;a href=\"http://twitter.com/download/iphone\" rel=\"nofollow\"&gt;Twitter for iPhone&lt;/a&gt;</td>\n",
       "      <td>Will be in Bangor, Maine today at 3pm- join me! #MAGA\\nTickets: https://t.co/NY7E1FBOB7 https://t.co/5TN2wvnR7J</td>\n",
       "      <td>6368</td>\n",
       "    </tr>\n",
       "    <tr>\n",
       "      <th>787258211283918848</th>\n",
       "      <td>2016-10-15 11:45:58</td>\n",
       "      <td>&lt;a href=\"http://twitter.com/download/android\" rel=\"nofollow\"&gt;Twitter for Android&lt;/a&gt;</td>\n",
       "      <td>This election is being rigged by the media pushing false and unsubstantiated charges, and outright lies, in order to elect Crooked Hillary!</td>\n",
       "      <td>30164</td>\n",
       "    </tr>\n",
       "    <tr>\n",
       "      <th>787244543003467776</th>\n",
       "      <td>2016-10-15 10:51:40</td>\n",
       "      <td>&lt;a href=\"http://twitter.com/download/android\" rel=\"nofollow\"&gt;Twitter for Android&lt;/a&gt;</td>\n",
       "      <td>100% fabricated and made-up charges, pushed strongly by the media and the Clinton Campaign, may poison the minds of the American Voter. FIX!</td>\n",
       "      <td>15880</td>\n",
       "    </tr>\n",
       "    <tr>\n",
       "      <th>787127225581707265</th>\n",
       "      <td>2016-10-15 03:05:29</td>\n",
       "      <td>&lt;a href=\"http://twitter.com/download/iphone\" rel=\"nofollow\"&gt;Twitter for iPhone&lt;/a&gt;</td>\n",
       "      <td>Thank you @TrumpWomensTour!\\n#MakeAmericaGreatAgain https://t.co/R4oxaHpsAB</td>\n",
       "      <td>15231</td>\n",
       "    </tr>\n",
       "    <tr>\n",
       "      <th>787099202291634177</th>\n",
       "      <td>2016-10-15 01:14:08</td>\n",
       "      <td>&lt;a href=\"http://twitter.com/download/iphone\" rel=\"nofollow\"&gt;Twitter for iPhone&lt;/a&gt;</td>\n",
       "      <td>Thank you Charlotte, North Carolina! We are going to have an AMAZING victory on November 8th...because this is all… https://t.co/A7Ql7KuMfT</td>\n",
       "      <td>12083</td>\n",
       "    </tr>\n",
       "    <tr>\n",
       "      <th>787025537483046913</th>\n",
       "      <td>2016-10-14 20:21:25</td>\n",
       "      <td>&lt;a href=\"http://twitter.com\" rel=\"nofollow\"&gt;Twitter Web Client&lt;/a&gt;</td>\n",
       "      <td>Make sure you're registered to vote! Let's #MakeAmericaGreatAgain! We can't afford more years of FAILURE! All info:… https://t.co/MgV5urLhB0</td>\n",
       "      <td>12511</td>\n",
       "    </tr>\n",
       "    <tr>\n",
       "      <th>787012170630455297</th>\n",
       "      <td>2016-10-14 19:28:18</td>\n",
       "      <td>&lt;a href=\"http://twitter.com/download/iphone\" rel=\"nofollow\"&gt;Twitter for iPhone&lt;/a&gt;</td>\n",
       "      <td>Thank you for your support Greensboro, North Carolina. Next stop - Charlotte! #MAGA\\nhttps://t.co/3KWOl2ibaW https://t.co/jjde4W1hz2</td>\n",
       "      <td>9799</td>\n",
       "    </tr>\n",
       "    <tr>\n",
       "      <th>786950598826532864</th>\n",
       "      <td>2016-10-14 15:23:38</td>\n",
       "      <td>&lt;a href=\"http://twitter.com/download/iphone\" rel=\"nofollow\"&gt;Twitter for iPhone&lt;/a&gt;</td>\n",
       "      <td>WHAT THEY ARE SAYING ABOUT THE CLINTON CAMPAIGN’S ANTI-CATHOLIC BIGOTRY: \\nhttps://t.co/oRUlaT4zbn</td>\n",
       "      <td>14358</td>\n",
       "    </tr>\n",
       "    <tr>\n",
       "      <th>786737820669009921</th>\n",
       "      <td>2016-10-14 01:18:07</td>\n",
       "      <td>&lt;a href=\"http://twitter.com/download/iphone\" rel=\"nofollow\"&gt;Twitter for iPhone&lt;/a&gt;</td>\n",
       "      <td>Thank you to our U.S. Navy for protecting our country, both in times of peace &amp;amp; war. Together, WE WILL MAKE AMERICA… https://t.co/v23jCl4tEQ</td>\n",
       "      <td>17345</td>\n",
       "    </tr>\n",
       "    <tr>\n",
       "      <th>786716631644897280</th>\n",
       "      <td>2016-10-13 23:53:56</td>\n",
       "      <td>&lt;a href=\"http://twitter.com/download/iphone\" rel=\"nofollow\"&gt;Twitter for iPhone&lt;/a&gt;</td>\n",
       "      <td>Join me live in Cincinnati, Ohio!\\n#TrumpRally #MAGA\\nhttps://t.co/MzqgNNVfZb</td>\n",
       "      <td>5676</td>\n",
       "    </tr>\n",
       "    <tr>\n",
       "      <th>786710113163812864</th>\n",
       "      <td>2016-10-13 23:28:02</td>\n",
       "      <td>&lt;a href=\"http://twitter.com/download/iphone\" rel=\"nofollow\"&gt;Twitter for iPhone&lt;/a&gt;</td>\n",
       "      <td>Join me in Greensboro, North Carolina tomorrow at 2:00pm! #TrumpRally\\nhttps://t.co/vpLryxCyoq https://t.co/dRra2AqayJ</td>\n",
       "      <td>7727</td>\n",
       "    </tr>\n",
       "    <tr>\n",
       "      <th>786709861245526017</th>\n",
       "      <td>2016-10-13 23:27:01</td>\n",
       "      <td>&lt;a href=\"http://twitter.com/download/iphone\" rel=\"nofollow\"&gt;Twitter for iPhone&lt;/a&gt;</td>\n",
       "      <td>RT @TeamTrump: \"This is a crossroads in the history of our civilization that will determine whether or not We The People reclaim control ov…</td>\n",
       "      <td>16710</td>\n",
       "    </tr>\n",
       "    <tr>\n",
       "      <th>786700864752914433</th>\n",
       "      <td>2016-10-13 22:51:17</td>\n",
       "      <td>&lt;a href=\"http://twitter.com/download/iphone\" rel=\"nofollow\"&gt;Twitter for iPhone&lt;/a&gt;</td>\n",
       "      <td>Dem Gov. of MN. just announced that the Affordable Care Act (Obamacare) is no longer affordable. I've been saying this for years- disaster!</td>\n",
       "      <td>16337</td>\n",
       "    </tr>\n",
       "    <tr>\n",
       "      <th>786691718062235649</th>\n",
       "      <td>2016-10-13 22:14:56</td>\n",
       "      <td>&lt;a href=\"http://twitter.com/download/iphone\" rel=\"nofollow\"&gt;Twitter for iPhone&lt;/a&gt;</td>\n",
       "      <td>Great event in Columbus- taking off for Cincinnati now. Great new Ohio poll out- thank you!\\nOHIO NBC/WSJ/MARIST POLL\\nTrump 42% \\nClinton 41%</td>\n",
       "      <td>10412</td>\n",
       "    </tr>\n",
       "    <tr>\n",
       "      <th>786658827429154816</th>\n",
       "      <td>2016-10-13 20:04:14</td>\n",
       "      <td>&lt;a href=\"http://twitter.com/download/iphone\" rel=\"nofollow\"&gt;Twitter for iPhone&lt;/a&gt;</td>\n",
       "      <td>Just left a great rally in Florida - now heading to Ohio for two more. Will be there soon.</td>\n",
       "      <td>8737</td>\n",
       "    </tr>\n",
       "    <tr>\n",
       "      <th>786589454991499264</th>\n",
       "      <td>2016-10-13 15:28:34</td>\n",
       "      <td>&lt;a href=\"http://twitter.com/download/iphone\" rel=\"nofollow\"&gt;Twitter for iPhone&lt;/a&gt;</td>\n",
       "      <td>I am making a major speech in West Palm Beach, Florida at noon. Tune in!</td>\n",
       "      <td>9525</td>\n",
       "    </tr>\n",
       "    <tr>\n",
       "      <th>786589172911964161</th>\n",
       "      <td>2016-10-13 15:27:27</td>\n",
       "      <td>&lt;a href=\"http://twitter.com/download/iphone\" rel=\"nofollow\"&gt;Twitter for iPhone&lt;/a&gt;</td>\n",
       "      <td>Thank you! #MAGA #AmericaFirst https://t.co/fG313wjlKm</td>\n",
       "      <td>13870</td>\n",
       "    </tr>\n",
       "    <tr>\n",
       "      <th>786565208663785476</th>\n",
       "      <td>2016-10-13 13:52:14</td>\n",
       "      <td>&lt;a href=\"http://twitter.com/download/iphone\" rel=\"nofollow\"&gt;Twitter for iPhone&lt;/a&gt;</td>\n",
       "      <td>Join me in Ohio &amp;amp; Maine!\\nCincinnati, Ohio- tonight @ 7:30pm: https://t.co/XlHGD1VrMo\\nBangor, Maine - Saturday @ 3pm… https://t.co/DYHPQYBwpK</td>\n",
       "      <td>7236</td>\n",
       "    </tr>\n",
       "    <tr>\n",
       "      <th>786560925113266176</th>\n",
       "      <td>2016-10-13 13:35:12</td>\n",
       "      <td>&lt;a href=\"http://twitter.com\" rel=\"nofollow\"&gt;Twitter Web Client&lt;/a&gt;</td>\n",
       "      <td>The phony story in the failing @nytimes is a TOTAL FABRICATION. Written by same people as last discredited story on women. WATCH!</td>\n",
       "      <td>14553</td>\n",
       "    </tr>\n",
       "    <tr>\n",
       "      <th>786554517680693248</th>\n",
       "      <td>2016-10-13 13:09:45</td>\n",
       "      <td>&lt;a href=\"http://twitter.com/download/android\" rel=\"nofollow\"&gt;Twitter for Android&lt;/a&gt;</td>\n",
       "      <td>Why didn't the writer of the twelve year old article in People Magazine mention the \"incident\" in her story. Because it did not happen!</td>\n",
       "      <td>15455</td>\n",
       "    </tr>\n",
       "    <tr>\n",
       "      <th>786340623804751872</th>\n",
       "      <td>2016-10-12 22:59:48</td>\n",
       "      <td>&lt;a href=\"http://twitter.com/download/iphone\" rel=\"nofollow\"&gt;Twitter for iPhone&lt;/a&gt;</td>\n",
       "      <td>I will be in Cincinnati, Ohio tomorrow night at 7:30pm- join me! #OhioVotesEarly #VoteTrumpPence16 \\nTickets:… https://t.co/Bp5iHKbT2d</td>\n",
       "      <td>8815</td>\n",
       "    </tr>\n",
       "    <tr>\n",
       "      <th>786310855843512320</th>\n",
       "      <td>2016-10-12 21:01:31</td>\n",
       "      <td>&lt;a href=\"http://twitter.com/#!/download/ipad\" rel=\"nofollow\"&gt;Twitter for iPad&lt;/a&gt;</td>\n",
       "      <td>The MOVEMENT in Lakeland, Florida. Voter registration extended to 10/18. REGISTER ASAP @ https://t.co/HfihPERFgZ &amp;amp;… https://t.co/PygIlshrgv</td>\n",
       "      <td>11572</td>\n",
       "    </tr>\n",
       "    <tr>\n",
       "      <th>786285509668696065</th>\n",
       "      <td>2016-10-12 19:20:48</td>\n",
       "      <td>&lt;a href=\"http://twitter.com/download/iphone\" rel=\"nofollow\"&gt;Twitter for iPhone&lt;/a&gt;</td>\n",
       "      <td>The people of Cuba have struggled too long. Will reverse Obama's Executive Orders and concessions towards Cuba until freedoms are restored.</td>\n",
       "      <td>14589</td>\n",
       "    </tr>\n",
       "  </tbody>\n",
       "</table>\n",
       "<p>6759 rows × 4 columns</p>\n",
       "</div>"
      ],
      "text/plain": [
       "                                  time  \\\n",
       "id                                       \n",
       "966487844662456320 2018-02-22 01:40:33   \n",
       "966420452070559749 2018-02-21 21:12:45   \n",
       "966377081469882368 2018-02-21 18:20:25   \n",
       "966321700588711936 2018-02-21 14:40:21   \n",
       "966317112565420033 2018-02-21 14:22:07   \n",
       "966119932793585664 2018-02-21 01:18:36   \n",
       "966118856874971138 2018-02-21 01:14:19   \n",
       "966117265426001920 2018-02-21 01:08:00   \n",
       "966006815745040384 2018-02-20 17:49:07   \n",
       "965971586913374208 2018-02-20 15:29:07   \n",
       "965968309358333952 2018-02-20 15:16:06   \n",
       "965943827931549696 2018-02-20 13:38:49   \n",
       "965937068907073536 2018-02-20 13:11:58   \n",
       "965935035328155649 2018-02-20 13:03:53   \n",
       "965932714141650946 2018-02-20 12:54:39   \n",
       "965930611272712192 2018-02-20 12:46:18   \n",
       "965928352614965248 2018-02-20 12:37:20   \n",
       "965925223949357056 2018-02-20 12:24:54   \n",
       "965780052167286784 2018-02-20 02:48:02   \n",
       "965775382598311937 2018-02-20 02:29:29   \n",
       "965773283554668544 2018-02-20 02:21:08   \n",
       "965676314576543744 2018-02-19 19:55:49   \n",
       "965582280772276224 2018-02-19 13:42:10   \n",
       "965442990134251520 2018-02-19 04:28:40   \n",
       "965303158229622785 2018-02-18 19:13:02   \n",
       "965272331978407937 2018-02-18 17:10:32   \n",
       "965223354633457665 2018-02-18 13:55:55   \n",
       "965221024496279552 2018-02-18 13:46:39   \n",
       "965212168449941505 2018-02-18 13:11:28   \n",
       "965207569852780544 2018-02-18 12:53:11   \n",
       "...                                ...   \n",
       "787425145489072128 2016-10-15 22:49:18   \n",
       "787359730465329152 2016-10-15 18:29:22   \n",
       "787355131062943744 2016-10-15 18:11:06   \n",
       "787320961934688257 2016-10-15 15:55:19   \n",
       "787320326573228032 2016-10-15 15:52:48   \n",
       "787319977711923200 2016-10-15 15:51:25   \n",
       "787267564405653505 2016-10-15 12:23:08   \n",
       "787266044213723138 2016-10-15 12:17:06   \n",
       "787258211283918848 2016-10-15 11:45:58   \n",
       "787244543003467776 2016-10-15 10:51:40   \n",
       "787127225581707265 2016-10-15 03:05:29   \n",
       "787099202291634177 2016-10-15 01:14:08   \n",
       "787025537483046913 2016-10-14 20:21:25   \n",
       "787012170630455297 2016-10-14 19:28:18   \n",
       "786950598826532864 2016-10-14 15:23:38   \n",
       "786737820669009921 2016-10-14 01:18:07   \n",
       "786716631644897280 2016-10-13 23:53:56   \n",
       "786710113163812864 2016-10-13 23:28:02   \n",
       "786709861245526017 2016-10-13 23:27:01   \n",
       "786700864752914433 2016-10-13 22:51:17   \n",
       "786691718062235649 2016-10-13 22:14:56   \n",
       "786658827429154816 2016-10-13 20:04:14   \n",
       "786589454991499264 2016-10-13 15:28:34   \n",
       "786589172911964161 2016-10-13 15:27:27   \n",
       "786565208663785476 2016-10-13 13:52:14   \n",
       "786560925113266176 2016-10-13 13:35:12   \n",
       "786554517680693248 2016-10-13 13:09:45   \n",
       "786340623804751872 2016-10-12 22:59:48   \n",
       "786310855843512320 2016-10-12 21:01:31   \n",
       "786285509668696065 2016-10-12 19:20:48   \n",
       "\n",
       "                                                                                                  source  \\\n",
       "id                                                                                                         \n",
       "966487844662456320    <a href=\"http://twitter.com/download/iphone\" rel=\"nofollow\">Twitter for iPhone</a>   \n",
       "966420452070559749    <a href=\"http://twitter.com/download/iphone\" rel=\"nofollow\">Twitter for iPhone</a>   \n",
       "966377081469882368                  <a href=\"https://studio.twitter.com\" rel=\"nofollow\">Media Studio</a>   \n",
       "966321700588711936    <a href=\"http://twitter.com/download/iphone\" rel=\"nofollow\">Twitter for iPhone</a>   \n",
       "966317112565420033    <a href=\"http://twitter.com/download/iphone\" rel=\"nofollow\">Twitter for iPhone</a>   \n",
       "966119932793585664    <a href=\"http://twitter.com/download/iphone\" rel=\"nofollow\">Twitter for iPhone</a>   \n",
       "966118856874971138    <a href=\"http://twitter.com/download/iphone\" rel=\"nofollow\">Twitter for iPhone</a>   \n",
       "966117265426001920    <a href=\"http://twitter.com/download/iphone\" rel=\"nofollow\">Twitter for iPhone</a>   \n",
       "966006815745040384    <a href=\"http://twitter.com/download/iphone\" rel=\"nofollow\">Twitter for iPhone</a>   \n",
       "965971586913374208    <a href=\"http://twitter.com/download/iphone\" rel=\"nofollow\">Twitter for iPhone</a>   \n",
       "965968309358333952    <a href=\"http://twitter.com/download/iphone\" rel=\"nofollow\">Twitter for iPhone</a>   \n",
       "965943827931549696    <a href=\"http://twitter.com/download/iphone\" rel=\"nofollow\">Twitter for iPhone</a>   \n",
       "965937068907073536    <a href=\"http://twitter.com/download/iphone\" rel=\"nofollow\">Twitter for iPhone</a>   \n",
       "965935035328155649    <a href=\"http://twitter.com/download/iphone\" rel=\"nofollow\">Twitter for iPhone</a>   \n",
       "965932714141650946    <a href=\"http://twitter.com/download/iphone\" rel=\"nofollow\">Twitter for iPhone</a>   \n",
       "965930611272712192    <a href=\"http://twitter.com/download/iphone\" rel=\"nofollow\">Twitter for iPhone</a>   \n",
       "965928352614965248    <a href=\"http://twitter.com/download/iphone\" rel=\"nofollow\">Twitter for iPhone</a>   \n",
       "965925223949357056    <a href=\"http://twitter.com/download/iphone\" rel=\"nofollow\">Twitter for iPhone</a>   \n",
       "965780052167286784    <a href=\"http://twitter.com/download/iphone\" rel=\"nofollow\">Twitter for iPhone</a>   \n",
       "965775382598311937    <a href=\"http://twitter.com/download/iphone\" rel=\"nofollow\">Twitter for iPhone</a>   \n",
       "965773283554668544    <a href=\"http://twitter.com/download/iphone\" rel=\"nofollow\">Twitter for iPhone</a>   \n",
       "965676314576543744    <a href=\"http://twitter.com/download/iphone\" rel=\"nofollow\">Twitter for iPhone</a>   \n",
       "965582280772276224    <a href=\"http://twitter.com/download/iphone\" rel=\"nofollow\">Twitter for iPhone</a>   \n",
       "965442990134251520    <a href=\"http://twitter.com/download/iphone\" rel=\"nofollow\">Twitter for iPhone</a>   \n",
       "965303158229622785    <a href=\"http://twitter.com/download/iphone\" rel=\"nofollow\">Twitter for iPhone</a>   \n",
       "965272331978407937    <a href=\"http://twitter.com/download/iphone\" rel=\"nofollow\">Twitter for iPhone</a>   \n",
       "965223354633457665    <a href=\"http://twitter.com/download/iphone\" rel=\"nofollow\">Twitter for iPhone</a>   \n",
       "965221024496279552    <a href=\"http://twitter.com/download/iphone\" rel=\"nofollow\">Twitter for iPhone</a>   \n",
       "965212168449941505    <a href=\"http://twitter.com/download/iphone\" rel=\"nofollow\">Twitter for iPhone</a>   \n",
       "965207569852780544    <a href=\"http://twitter.com/download/iphone\" rel=\"nofollow\">Twitter for iPhone</a>   \n",
       "...                                                                                                  ...   \n",
       "787425145489072128  <a href=\"http://twitter.com/download/android\" rel=\"nofollow\">Twitter for Android</a>   \n",
       "787359730465329152  <a href=\"http://twitter.com/download/android\" rel=\"nofollow\">Twitter for Android</a>   \n",
       "787355131062943744    <a href=\"http://twitter.com/download/iphone\" rel=\"nofollow\">Twitter for iPhone</a>   \n",
       "787320961934688257    <a href=\"http://twitter.com/download/iphone\" rel=\"nofollow\">Twitter for iPhone</a>   \n",
       "787320326573228032    <a href=\"http://twitter.com/download/iphone\" rel=\"nofollow\">Twitter for iPhone</a>   \n",
       "787319977711923200    <a href=\"http://twitter.com/download/iphone\" rel=\"nofollow\">Twitter for iPhone</a>   \n",
       "787267564405653505  <a href=\"http://twitter.com/download/android\" rel=\"nofollow\">Twitter for Android</a>   \n",
       "787266044213723138    <a href=\"http://twitter.com/download/iphone\" rel=\"nofollow\">Twitter for iPhone</a>   \n",
       "787258211283918848  <a href=\"http://twitter.com/download/android\" rel=\"nofollow\">Twitter for Android</a>   \n",
       "787244543003467776  <a href=\"http://twitter.com/download/android\" rel=\"nofollow\">Twitter for Android</a>   \n",
       "787127225581707265    <a href=\"http://twitter.com/download/iphone\" rel=\"nofollow\">Twitter for iPhone</a>   \n",
       "787099202291634177    <a href=\"http://twitter.com/download/iphone\" rel=\"nofollow\">Twitter for iPhone</a>   \n",
       "787025537483046913                    <a href=\"http://twitter.com\" rel=\"nofollow\">Twitter Web Client</a>   \n",
       "787012170630455297    <a href=\"http://twitter.com/download/iphone\" rel=\"nofollow\">Twitter for iPhone</a>   \n",
       "786950598826532864    <a href=\"http://twitter.com/download/iphone\" rel=\"nofollow\">Twitter for iPhone</a>   \n",
       "786737820669009921    <a href=\"http://twitter.com/download/iphone\" rel=\"nofollow\">Twitter for iPhone</a>   \n",
       "786716631644897280    <a href=\"http://twitter.com/download/iphone\" rel=\"nofollow\">Twitter for iPhone</a>   \n",
       "786710113163812864    <a href=\"http://twitter.com/download/iphone\" rel=\"nofollow\">Twitter for iPhone</a>   \n",
       "786709861245526017    <a href=\"http://twitter.com/download/iphone\" rel=\"nofollow\">Twitter for iPhone</a>   \n",
       "786700864752914433    <a href=\"http://twitter.com/download/iphone\" rel=\"nofollow\">Twitter for iPhone</a>   \n",
       "786691718062235649    <a href=\"http://twitter.com/download/iphone\" rel=\"nofollow\">Twitter for iPhone</a>   \n",
       "786658827429154816    <a href=\"http://twitter.com/download/iphone\" rel=\"nofollow\">Twitter for iPhone</a>   \n",
       "786589454991499264    <a href=\"http://twitter.com/download/iphone\" rel=\"nofollow\">Twitter for iPhone</a>   \n",
       "786589172911964161    <a href=\"http://twitter.com/download/iphone\" rel=\"nofollow\">Twitter for iPhone</a>   \n",
       "786565208663785476    <a href=\"http://twitter.com/download/iphone\" rel=\"nofollow\">Twitter for iPhone</a>   \n",
       "786560925113266176                    <a href=\"http://twitter.com\" rel=\"nofollow\">Twitter Web Client</a>   \n",
       "786554517680693248  <a href=\"http://twitter.com/download/android\" rel=\"nofollow\">Twitter for Android</a>   \n",
       "786340623804751872    <a href=\"http://twitter.com/download/iphone\" rel=\"nofollow\">Twitter for iPhone</a>   \n",
       "786310855843512320     <a href=\"http://twitter.com/#!/download/ipad\" rel=\"nofollow\">Twitter for iPad</a>   \n",
       "786285509668696065    <a href=\"http://twitter.com/download/iphone\" rel=\"nofollow\">Twitter for iPhone</a>   \n",
       "\n",
       "                                                                                                                                                                                                                                                                                                       text  \\\n",
       "id                                                                                                                                                                                                                                                                                                            \n",
       "966487844662456320         I will always remember the time I spent today with courageous students, teachers and families. So much love in the midst of so much pain. We must not let them down. We must keep our children safe!!\\n\\nFull Listening Session: https://t.co/x5VenyQX5p https://t.co/CAPfX5odIp   \n",
       "966420452070559749         .@FLOTUS Melania and I join millions of people around the world in mourning the passing of Billy Graham. Our prayers are with his children, grandchildren, great-grandchildren and all who worked closely with Reverend Graham in his lifelong ministry. https://t.co/e1697tcyaI   \n",
       "966377081469882368                      Yesterday, it was my great honor to recognize extraordinary Law Enforcement Officers and First Responders, and to award them the the highest possible decoration for bravery by public safety officers, the Medal of Valor. #AmericanHeroes https://t.co/em0wBbvy5P   \n",
       "966321700588711936         Question: If all of the Russian meddling took place during the Obama Administration, right up to January 20th, why aren’t they the subject of the investigation? Why didn’t Obama do something about the meddling? Why aren’t Dem crimes under investigation? Ask Jeff Sessions!   \n",
       "966317112565420033                                                                                                                                                        The GREAT Billy Graham is dead. There was nobody like him! He will be missed by Christians and all religions. A very special man.   \n",
       "966119932793585664                                                                                                                                                                                 @CNN @MSNBC Whether we are Republican or Democrat, we must now focus on strengthening Background Checks!   \n",
       "966118856874971138                                                                                                                                                                                                                                              So true, thank you! https://t.co/9TTXlfokYz   \n",
       "966117265426001920                  Bad ratings @CNN &amp; @MSNBC got scammed when they covered the anti-Trump Russia rally wall-to-wall. They probably knew it was Fake News but, because it was a rally against me, they pushed it hard anyway. Two really dishonest newscasters, but the public is wise!   \n",
       "966006815745040384                                                                               Main Street is BOOMING thanks to our incredible TAX CUT and Reform law. \"This shows small-business owners are more than just optimistic, they are ready to grow their businesses.\" https://t.co/w9aw68UwOj   \n",
       "965971586913374208                           ....cameras running. Another False Accusation. Why doesn’t @washingtonpost report the story of the women taking money to make up stories about me? One had her home mortgage paid off. Only @FoxNews so reported...doesn’t fit the Mainstream Media narrative.   \n",
       "965968309358333952  A woman I don’t know and, to the best of my knowledge, never met, is on the FRONT PAGE of the Fake News Washington Post saying I kissed her (for two minutes yet) in the lobby of Trump Tower 12 years ago. Never happened! Who would do this in a public space with live security.....   \n",
       "965943827931549696                                                                                                                                                                                                  I have been much tougher on Russia than Obama, just look at the facts. Total Fake News!   \n",
       "965937068907073536             Hope Republicans in the Great State of Pennsylvania challenge the new “pushed” Congressional Map, all the way to the Supreme Court, if necessary. Your Original was correct! Don’t let the Dems take elections away from you so that they can raise taxes &amp; waste money!   \n",
       "965935035328155649                                                                                                               Matt Schlapp and CPAC are getting ready for another exciting event. Big difference from those days when President Obama held the White House. You’ve come a long way Matt!   \n",
       "965932714141650946                                                   Republicans are now leading the Generic Poll, perhaps because of the popular Tax Cuts which the Dems want to take away. Actually, they want to raise you taxes, substantially. Also, they want to do nothing on DACA, R’s want to fix!   \n",
       "965930611272712192           ....The President Obama quote just before election. That’s because he thought Crooked Hillary was going to win and he didn’t want to “rock the boat.” When I easily won the Electoral College, the whole game changed and the Russian excuse became the narrative of the Dems.   \n",
       "965928352614965248  “There is no serious person out there who would suggest somehow that you could even rig America’s elections, there’s no evidence that that has happened in the past or that it will happen this time, and so I’d invite Mr. Trump to stop whining and make his case to get votes.” ....   \n",
       "965925223949357056                                                                                       Thank you to @foxandfriends for the great timeline on all of the failures the Obama Administration had against Russia, including Crimea, Syria and so much more. We are now starting to win again!   \n",
       "965780052167286784                                                                                                                                                                           “The Faith of Donald Trump,” a book just out by David Brody and Scott Lamb, is a very interesting read. Enjoy!   \n",
       "965775382598311937  The U.S. economy is looking very good, in my opinion, even better than anticipated. Companies are pouring back into our country, reversing the long term trend of leaving. The unemployment numbers are looking great, and Regulations &amp; Taxes have been massively Cut! JOBS, JO...   \n",
       "965773283554668544                                                                                     .@MittRomney has announced he is running for the Senate from the wonderful State of Utah. He will make a great Senator and worthy successor to @OrrinHatch, and has my full support and endorsement!   \n",
       "965676314576543744                                                                                                                                                                          Obama was President up to, and beyond, the 2016 Election. So why didn’t he do something about Russian meddling?   \n",
       "965582280772276224                                                                                                                                                                                                                                      Have a great, but very reflective, President’s Day!   \n",
       "965442990134251520                    Just watched a very insecure Oprah Winfrey, who at one point I knew very well, interview a panel of people on 60 Minutes. The questions were biased and slanted, the facts incorrect. Hope Oprah runs so she can be exposed and defeated just like all of the others!   \n",
       "965303158229622785                                                                                                                                    My great friends from NASCAR are having their big race today, The Daytona 500. Brian France and the France family are special people. Enjoy the race!   \n",
       "965272331978407937                                                                                                      Thank you to KenStarr, former Independent Counsel, Whitewater, for your insight and powerful words on FISA abuse, Russian meddling etc. Really great interview with @MariaBartiromo   \n",
       "965223354633457665                              Great Pollster John McLaughlin now has the GOP up in the Generic Congressional Ballot. Big gain over last 4 weeks. I guess people are loving the big Tax Cuts given them by the Republicans, the Cuts the Dems want to take away. We need more Republicans!   \n",
       "965221024496279552                                                                                                                                                                                                                          The Fake News of big ratings loser CNN. https://t.co/rYsv90cnvs   \n",
       "965212168449941505         If it was the GOAL of Russia to create discord, disruption and chaos within the U.S. then, with all of the Committee Hearings, Investigations and Party hatred, they have succeeded beyond their wildest dreams. They are laughing their asses off in Moscow. Get smart America!   \n",
       "965207569852780544                                                                                                                                             RT @mike_pence: Big night. Largest-ever Dallas County GOP Reagan Day Dinner. As I told the crowd, under President @realDonaldTrump: Promise…   \n",
       "...                                                                                                                                                                                                                                                                                                     ...   \n",
       "787425145489072128                                                                                                                                                 The failing @nytimes reporters don't even call us anymore, they just write whatever they want to write, making up sources along the way!   \n",
       "787359730465329152                                                                                                                                                Nothing ever happened with any of these women. Totally made up nonsense to steal the election. Nobody has more respect for women than me!   \n",
       "787355131062943744                                                                                                                                             The MOVEMENT in Portsmouth, New Hampshire w/ 7K supporters. THANK YOU! This is the biggest election of our lifetime… https://t.co/4otZyjYLc2   \n",
       "787320961934688257                                                                                                                                                                                    Landing in New Hampshire soon to talk about the massive drug problem there, and all over the country.   \n",
       "787320326573228032                                                                                                                                                                                                                                 The truth is a beautiful weapon. https://t.co/P7FrFhicvw   \n",
       "787319977711923200                                                                                                                                         RT @DanScavino: Mr. Trump removing the broken teleprompter in North Carolina-in front of a massive crowd. He goes on&amp;delivers the best spee…   \n",
       "787267564405653505                                                                                                                                             Hillary Clinton should have been prosecuted and should be in jail. Instead she is running for president in what looks like a rigged election   \n",
       "787266044213723138                                                                                                                                                                          Will be in Bangor, Maine today at 3pm- join me! #MAGA\\nTickets: https://t.co/NY7E1FBOB7 https://t.co/5TN2wvnR7J   \n",
       "787258211283918848                                                                                                                                              This election is being rigged by the media pushing false and unsubstantiated charges, and outright lies, in order to elect Crooked Hillary!   \n",
       "787244543003467776                                                                                                                                             100% fabricated and made-up charges, pushed strongly by the media and the Clinton Campaign, may poison the minds of the American Voter. FIX!   \n",
       "787127225581707265                                                                                                                                                                                                              Thank you @TrumpWomensTour!\\n#MakeAmericaGreatAgain https://t.co/R4oxaHpsAB   \n",
       "787099202291634177                                                                                                                                              Thank you Charlotte, North Carolina! We are going to have an AMAZING victory on November 8th...because this is all… https://t.co/A7Ql7KuMfT   \n",
       "787025537483046913                                                                                                                                             Make sure you're registered to vote! Let's #MakeAmericaGreatAgain! We can't afford more years of FAILURE! All info:… https://t.co/MgV5urLhB0   \n",
       "787012170630455297                                                                                                                                                     Thank you for your support Greensboro, North Carolina. Next stop - Charlotte! #MAGA\\nhttps://t.co/3KWOl2ibaW https://t.co/jjde4W1hz2   \n",
       "786950598826532864                                                                                                                                                                                       WHAT THEY ARE SAYING ABOUT THE CLINTON CAMPAIGN’S ANTI-CATHOLIC BIGOTRY: \\nhttps://t.co/oRUlaT4zbn   \n",
       "786737820669009921                                                                                                                                         Thank you to our U.S. Navy for protecting our country, both in times of peace &amp; war. Together, WE WILL MAKE AMERICA… https://t.co/v23jCl4tEQ   \n",
       "786716631644897280                                                                                                                                                                                                            Join me live in Cincinnati, Ohio!\\n#TrumpRally #MAGA\\nhttps://t.co/MzqgNNVfZb   \n",
       "786710113163812864                                                                                                                                                                   Join me in Greensboro, North Carolina tomorrow at 2:00pm! #TrumpRally\\nhttps://t.co/vpLryxCyoq https://t.co/dRra2AqayJ   \n",
       "786709861245526017                                                                                                                                             RT @TeamTrump: \"This is a crossroads in the history of our civilization that will determine whether or not We The People reclaim control ov…   \n",
       "786700864752914433                                                                                                                                              Dem Gov. of MN. just announced that the Affordable Care Act (Obamacare) is no longer affordable. I've been saying this for years- disaster!   \n",
       "786691718062235649                                                                                                                                           Great event in Columbus- taking off for Cincinnati now. Great new Ohio poll out- thank you!\\nOHIO NBC/WSJ/MARIST POLL\\nTrump 42% \\nClinton 41%   \n",
       "786658827429154816                                                                                                                                                                                               Just left a great rally in Florida - now heading to Ohio for two more. Will be there soon.   \n",
       "786589454991499264                                                                                                                                                                                                                 I am making a major speech in West Palm Beach, Florida at noon. Tune in!   \n",
       "786589172911964161                                                                                                                                                                                                                                   Thank you! #MAGA #AmericaFirst https://t.co/fG313wjlKm   \n",
       "786565208663785476                                                                                                                                       Join me in Ohio &amp; Maine!\\nCincinnati, Ohio- tonight @ 7:30pm: https://t.co/XlHGD1VrMo\\nBangor, Maine - Saturday @ 3pm… https://t.co/DYHPQYBwpK   \n",
       "786560925113266176                                                                                                                                                        The phony story in the failing @nytimes is a TOTAL FABRICATION. Written by same people as last discredited story on women. WATCH!   \n",
       "786554517680693248                                                                                                                                                  Why didn't the writer of the twelve year old article in People Magazine mention the \"incident\" in her story. Because it did not happen!   \n",
       "786340623804751872                                                                                                                                                   I will be in Cincinnati, Ohio tomorrow night at 7:30pm- join me! #OhioVotesEarly #VoteTrumpPence16 \\nTickets:… https://t.co/Bp5iHKbT2d   \n",
       "786310855843512320                                                                                                                                          The MOVEMENT in Lakeland, Florida. Voter registration extended to 10/18. REGISTER ASAP @ https://t.co/HfihPERFgZ &amp;… https://t.co/PygIlshrgv   \n",
       "786285509668696065                                                                                                                                              The people of Cuba have struggled too long. Will reverse Obama's Executive Orders and concessions towards Cuba until freedoms are restored.   \n",
       "\n",
       "                    retweet_count  \n",
       "id                                 \n",
       "966487844662456320          15266  \n",
       "966420452070559749          14321  \n",
       "966377081469882368          12110  \n",
       "966321700588711936          27736  \n",
       "966317112565420033          27492  \n",
       "966119932793585664          15214  \n",
       "966118856874971138          20847  \n",
       "966117265426001920          21251  \n",
       "966006815745040384          16824  \n",
       "965971586913374208          19234  \n",
       "965968309358333952          21128  \n",
       "965943827931549696          15852  \n",
       "965937068907073536          19698  \n",
       "965935035328155649           9864  \n",
       "965932714141650946          16769  \n",
       "965930611272712192          20038  \n",
       "965928352614965248          16998  \n",
       "965925223949357056          14327  \n",
       "965780052167286784          13059  \n",
       "965775382598311937          25020  \n",
       "965773283554668544           9264  \n",
       "965676314576543744          22102  \n",
       "965582280772276224          24095  \n",
       "965442990134251520          34723  \n",
       "965303158229622785          15603  \n",
       "965272331978407937          17977  \n",
       "965223354633457665          21925  \n",
       "965221024496279552          19872  \n",
       "965212168449941505          33300  \n",
       "965207569852780544          12694  \n",
       "...                           ...  \n",
       "787425145489072128          15779  \n",
       "787359730465329152          20453  \n",
       "787355131062943744          12760  \n",
       "787320961934688257           7339  \n",
       "787320326573228032          13568  \n",
       "787319977711923200          11551  \n",
       "787267564405653505          35442  \n",
       "787266044213723138           6368  \n",
       "787258211283918848          30164  \n",
       "787244543003467776          15880  \n",
       "787127225581707265          15231  \n",
       "787099202291634177          12083  \n",
       "787025537483046913          12511  \n",
       "787012170630455297           9799  \n",
       "786950598826532864          14358  \n",
       "786737820669009921          17345  \n",
       "786716631644897280           5676  \n",
       "786710113163812864           7727  \n",
       "786709861245526017          16710  \n",
       "786700864752914433          16337  \n",
       "786691718062235649          10412  \n",
       "786658827429154816           8737  \n",
       "786589454991499264           9525  \n",
       "786589172911964161          13870  \n",
       "786565208663785476           7236  \n",
       "786560925113266176          14553  \n",
       "786554517680693248          15455  \n",
       "786340623804751872           8815  \n",
       "786310855843512320          11572  \n",
       "786285509668696065          14589  \n",
       "\n",
       "[6759 rows x 4 columns]"
      ]
     },
     "execution_count": 24,
     "metadata": {},
     "output_type": "execute_result"
    }
   ],
   "source": [
    "# Create DF with all keys\n",
    "all_info = pd.DataFrame(all_tweets).set_index('id')\n",
    "\n",
    "# Narrow it down to fields we care about; NOTE DOES NOT INCLUDE FULL_TEXT YET!\n",
    "filtered = all_info[['created_at', 'source', 'text', 'retweet_count']]\n",
    "\n",
    "# Reformate dates\n",
    "reformated_dates = pd.to_datetime(filtered['created_at'])\n",
    "filtered['created_at'] = reformated_dates\n",
    "filtered.rename(columns={\"created_at\": \"time\"}, inplace=True)\n",
    "\n",
    "# merge text and full_text\n",
    "filtered['text'].fillna(all_info['full_text'], inplace=True)\n",
    "filtered\n"
   ]
  },
  {
   "cell_type": "code",
   "execution_count": 25,
   "metadata": {
    "collapsed": false,
    "deletable": false,
    "nbgrader": {
     "cell_type": "code",
     "checksum": "dbbe93f4346b0c4ce93681c2c7d06078",
     "grade": false,
     "grade_id": "q3b-answer",
     "locked": false,
     "schema_version": 2,
     "solution": true
    },
    "tags": [
     "student"
    ]
   },
   "outputs": [
    {
     "name": "stderr",
     "output_type": "stream",
     "text": [
      "/srv/conda/envs/data100/lib/python3.6/site-packages/ipykernel_launcher.py:9: SettingWithCopyWarning: \n",
      "A value is trying to be set on a copy of a slice from a DataFrame.\n",
      "Try using .loc[row_indexer,col_indexer] = value instead\n",
      "\n",
      "See the caveats in the documentation: http://pandas.pydata.org/pandas-docs/stable/indexing.html#indexing-view-versus-copy\n",
      "  if __name__ == '__main__':\n",
      "/srv/conda/envs/data100/lib/python3.6/site-packages/pandas/core/frame.py:3027: SettingWithCopyWarning: \n",
      "A value is trying to be set on a copy of a slice from a DataFrame\n",
      "\n",
      "See the caveats in the documentation: http://pandas.pydata.org/pandas-docs/stable/indexing.html#indexing-view-versus-copy\n",
      "  return super(DataFrame, self).rename(**kwargs)\n",
      "/srv/conda/envs/data100/lib/python3.6/site-packages/pandas/core/generic.py:4355: SettingWithCopyWarning: \n",
      "A value is trying to be set on a copy of a slice from a DataFrame\n",
      "\n",
      "See the caveats in the documentation: http://pandas.pydata.org/pandas-docs/stable/indexing.html#indexing-view-versus-copy\n",
      "  self._update_inplace(new_data)\n"
     ]
    }
   ],
   "source": [
    "# Create DF with all keys\n",
    "all_info = pd.DataFrame(all_tweets).set_index('id')\n",
    "\n",
    "# Narrow it down to fields we care about; NOTE DOES NOT INCLUDE FULL_TEXT YET!\n",
    "filtered = all_info[['created_at', 'source', 'text', 'retweet_count']]\n",
    "\n",
    "# Reformate dates\n",
    "reformated_dates = pd.to_datetime(filtered['created_at'])\n",
    "filtered['created_at'] = reformated_dates\n",
    "filtered.rename(columns={\"created_at\": \"time\"}, inplace=True)\n",
    "\n",
    "# merge text and full_text (recall twitter added more characters so text is NaN afterwards)\n",
    "filtered['text'].fillna(all_info['full_text'], inplace=True)\n",
    "filtered\n",
    "\n",
    "# Done\n",
    "trump = filtered\n",
    "\n",
    "# YOUR CODE HERE\n",
    "# raise NotImplementedError()"
   ]
  },
  {
   "cell_type": "code",
   "execution_count": 26,
   "metadata": {
    "collapsed": true,
    "deletable": false,
    "editable": false,
    "nbgrader": {
     "cell_type": "code",
     "checksum": "d870180ff630d9ce182d04cd033fe1b2",
     "grade": true,
     "grade_id": "q3b-tests",
     "locked": true,
     "points": 2,
     "schema_version": 2,
     "solution": false
    },
    "tags": [
     "test",
     "q03"
    ]
   },
   "outputs": [],
   "source": [
    "assert isinstance(trump, pd.DataFrame)\n",
    "assert trump.shape[0] < 8000\n",
    "assert trump.shape[1] >= 4\n",
    "assert 831846101179314177 in trump.index\n",
    "assert 753063644578144260 in trump.index\n",
    "assert all(col in trump.columns for col in ['time', 'source', 'text', 'retweet_count'])\n",
    "# If you fail these tests, you probably tried to use __dict__ or _json to read in the tweets\n",
    "assert np.sometrue([('Twitter for iPhone' in s) for s in trump['source'].unique()])\n",
    "assert trump['time'].dtype == np.dtype('<M8[ns]')\n",
    "assert trump['text'].dtype == np.dtype('O')\n",
    "assert trump['retweet_count'].dtype == np.dtype('int64')"
   ]
  },
  {
   "cell_type": "markdown",
   "metadata": {
    "deletable": false,
    "editable": false,
    "nbgrader": {
     "cell_type": "markdown",
     "checksum": "30d38d0c0f5988b2b1da8eadd678d083",
     "grade": false,
     "grade_id": "question4",
     "locked": true,
     "schema_version": 2,
     "solution": false
    }
   },
   "source": [
    "## Question 4: Tweet Source Analysis\n",
    "\n",
    "In the following questions, we are going to find out the charateristics of Trump tweets and the devices used for the tweets.\n",
    "\n",
    "First let's examine the source field:"
   ]
  },
  {
   "cell_type": "code",
   "execution_count": 27,
   "metadata": {
    "collapsed": false,
    "deletable": false,
    "editable": false,
    "nbgrader": {
     "cell_type": "code",
     "checksum": "6afb6dfe20e5154416906478ba3d9384",
     "grade": false,
     "grade_id": "unique-sources",
     "locked": true,
     "schema_version": 2,
     "solution": false
    }
   },
   "outputs": [
    {
     "data": {
      "text/plain": [
       "array([ '<a href=\"http://twitter.com/download/iphone\" rel=\"nofollow\">Twitter for iPhone</a>',\n",
       "       '<a href=\"https://studio.twitter.com\" rel=\"nofollow\">Media Studio</a>',\n",
       "       '<a href=\"http://twitter.com/#!/download/ipad\" rel=\"nofollow\">Twitter for iPad</a>',\n",
       "       '<a href=\"http://twitter.com\" rel=\"nofollow\">Twitter Web Client</a>',\n",
       "       '<a href=\"https://ads.twitter.com\" rel=\"nofollow\">Twitter Ads</a>',\n",
       "       '<a href=\"http://twitter.com/download/android\" rel=\"nofollow\">Twitter for Android</a>',\n",
       "       '<a href=\"https://periscope.tv\" rel=\"nofollow\">Periscope</a>',\n",
       "       '<a href=\"http://instagram.com\" rel=\"nofollow\">Instagram</a>',\n",
       "       '<a href=\"https://mobile.twitter.com\" rel=\"nofollow\">Mobile Web (M5)</a>'], dtype=object)"
      ]
     },
     "execution_count": 27,
     "metadata": {},
     "output_type": "execute_result"
    }
   ],
   "source": [
    "trump['source'].unique()"
   ]
  },
  {
   "cell_type": "markdown",
   "metadata": {
    "deletable": false,
    "editable": false,
    "nbgrader": {
     "cell_type": "markdown",
     "checksum": "c6456dce1f6278ee550862faf8829f32",
     "grade": false,
     "grade_id": "q4a",
     "locked": true,
     "schema_version": 2,
     "solution": false
    }
   },
   "source": [
    "## Question 4a\n",
    "\n",
    "Remove the HTML tags from the source field. \n",
    "\n",
    "**Hint:** Use `trump['source'].str.replace` and your favorite regular expression."
   ]
  },
  {
   "cell_type": "code",
   "execution_count": 28,
   "metadata": {
    "collapsed": true
   },
   "outputs": [],
   "source": [
    "# Get rid of first <, then get rid of >\n",
    "reformated_source = trump['source'].str.replace('<[^>]+>', '')"
   ]
  },
  {
   "cell_type": "code",
   "execution_count": 29,
   "metadata": {
    "collapsed": false,
    "deletable": false,
    "nbgrader": {
     "cell_type": "code",
     "checksum": "a05e9dfd89d13b6b4d93b7b32b0c18d0",
     "grade": false,
     "grade_id": "q4a-answer",
     "locked": false,
     "schema_version": 2,
     "solution": true
    }
   },
   "outputs": [
    {
     "name": "stderr",
     "output_type": "stream",
     "text": [
      "/srv/conda/envs/data100/lib/python3.6/site-packages/ipykernel_launcher.py:4: SettingWithCopyWarning: \n",
      "A value is trying to be set on a copy of a slice from a DataFrame.\n",
      "Try using .loc[row_indexer,col_indexer] = value instead\n",
      "\n",
      "See the caveats in the documentation: http://pandas.pydata.org/pandas-docs/stable/indexing.html#indexing-view-versus-copy\n",
      "  after removing the cwd from sys.path.\n"
     ]
    }
   ],
   "source": [
    "# Get rid of first <, then get rid of >\n",
    "reformated_source = trump['source'].str.replace('<[^>]+>', '')\n",
    "\n",
    "trump['source'] = reformated_source\n",
    "\n",
    "# YOUR CODE HERE\n",
    "# raise NotImplementedError()"
   ]
  },
  {
   "cell_type": "code",
   "execution_count": 30,
   "metadata": {
    "collapsed": true,
    "deletable": false,
    "editable": false,
    "nbgrader": {
     "cell_type": "code",
     "checksum": "ba180bc3697692747a71297f6b4dc64a",
     "grade": true,
     "grade_id": "q4a-test",
     "locked": true,
     "points": 1,
     "schema_version": 2,
     "solution": false
    }
   },
   "outputs": [],
   "source": [
    "from datetime import datetime\n",
    "ELEC_DATE = datetime(2016, 11, 8)\n",
    "INAUG_DATE = datetime(2017, 1, 20)\n",
    "assert set(trump[(trump['time'] > ELEC_DATE) & (trump['time'] < INAUG_DATE) ]['source'].unique()) == set(['Twitter Ads',\n",
    " 'Twitter Web Client',\n",
    " 'Twitter for Android',\n",
    " 'Twitter for iPhone'])"
   ]
  },
  {
   "cell_type": "markdown",
   "metadata": {
    "deletable": false,
    "editable": false,
    "nbgrader": {
     "cell_type": "markdown",
     "checksum": "fbd18f3db9b76174657bbfadec0dede6",
     "grade": false,
     "grade_id": "note-about-device-usage",
     "locked": true,
     "schema_version": 2,
     "solution": false
    }
   },
   "source": [
    "We can see in the following plot that there are two device types that are more commonly used"
   ]
  },
  {
   "cell_type": "code",
   "execution_count": 31,
   "metadata": {
    "collapsed": false,
    "deletable": false,
    "editable": false,
    "nbgrader": {
     "cell_type": "code",
     "checksum": "80767c65e51906a26ac3aa9c6e0d48e5",
     "grade": false,
     "grade_id": "device-usage-plot",
     "locked": true,
     "schema_version": 2,
     "solution": false
    }
   },
   "outputs": [
    {
     "data": {
      "text/plain": [
       "Text(0,0.5,'Number of Tweets')"
      ]
     },
     "execution_count": 31,
     "metadata": {},
     "output_type": "execute_result"
    },
    {
     "data": {
      "image/png": "[encoded data removed]",
      "text/plain": [
       "<matplotlib.figure.Figure at 0x7f445828db70>"
      ]
     },
     "metadata": {},
     "output_type": "display_data"
    }
   ],
   "source": [
    "trump['source'].value_counts().plot(kind=\"bar\")\n",
    "plt.ylabel(\"Number of Tweets\")"
   ]
  },
  {
   "cell_type": "markdown",
   "metadata": {
    "deletable": false,
    "editable": false,
    "nbgrader": {
     "cell_type": "markdown",
     "checksum": "4fc8de3b5e3282ab8fa3c8f31fa6794c",
     "grade": false,
     "grade_id": "q4b",
     "locked": true,
     "schema_version": 2,
     "solution": false
    }
   },
   "source": [
    "## Question 4b\n",
    "\n",
    "\n",
    "Is there a difference between his Tweet behavior across these devices? We will attempt to answer this question in our subsequent analysis.\n",
    "\n",
    "First, we'll take a look at whether Trump's tweets from an Android come at different times than his tweets from an iPhone. Note that Twitter gives us his tweets in the [UTC timezone](https://www.wikiwand.com/en/List_of_UTC_time_offsets) (notice the `+0000` in the first few tweets)"
   ]
  },
  {
   "cell_type": "code",
   "execution_count": 32,
   "metadata": {
    "collapsed": false,
    "deletable": false,
    "editable": false,
    "nbgrader": {
     "cell_type": "code",
     "checksum": "8a6257dbd02d1af40cdfd288d7c37250",
     "grade": false,
     "grade_id": "tweet-created-at",
     "locked": true,
     "schema_version": 2,
     "solution": false
    }
   },
   "outputs": [
    {
     "name": "stdout",
     "output_type": "stream",
     "text": [
      "Thu Feb 22 01:40:33 +0000 2018\n",
      "Wed Feb 21 21:12:45 +0000 2018\n",
      "Wed Feb 21 18:20:25 +0000 2018\n"
     ]
    }
   ],
   "source": [
    "for t in trump_tweets[0:3]:\n",
    "    print(t['created_at'])"
   ]
  },
  {
   "cell_type": "markdown",
   "metadata": {
    "deletable": false,
    "editable": false,
    "nbgrader": {
     "cell_type": "markdown",
     "checksum": "5a4f73d1c7135ddc404472884d7ba6fa",
     "grade": false,
     "grade_id": "convert-to-est-justification",
     "locked": true,
     "schema_version": 2,
     "solution": false
    }
   },
   "source": [
    "We'll convert the tweet times to US Eastern Time, the timezone of New York and Washington D.C., since those are the places we would expect the most tweet activity from Trump."
   ]
  },
  {
   "cell_type": "code",
   "execution_count": 33,
   "metadata": {
    "collapsed": false,
    "deletable": false,
    "editable": false,
    "nbgrader": {
     "cell_type": "code",
     "checksum": "6adc54fdcb7560cb4586d97800b8bfab",
     "grade": false,
     "grade_id": "convert-to-est",
     "locked": true,
     "schema_version": 2,
     "solution": false
    }
   },
   "outputs": [
    {
     "name": "stderr",
     "output_type": "stream",
     "text": [
      "/srv/conda/envs/data100/lib/python3.6/site-packages/ipykernel_launcher.py:3: SettingWithCopyWarning: \n",
      "A value is trying to be set on a copy of a slice from a DataFrame.\n",
      "Try using .loc[row_indexer,col_indexer] = value instead\n",
      "\n",
      "See the caveats in the documentation: http://pandas.pydata.org/pandas-docs/stable/indexing.html#indexing-view-versus-copy\n",
      "  This is separate from the ipykernel package so we can avoid doing imports until\n"
     ]
    },
    {
     "data": {
      "text/html": [
       "<div>\n",
       "<style scoped>\n",
       "    .dataframe tbody tr th:only-of-type {\n",
       "        vertical-align: middle;\n",
       "    }\n",
       "\n",
       "    .dataframe tbody tr th {\n",
       "        vertical-align: top;\n",
       "    }\n",
       "\n",
       "    .dataframe thead th {\n",
       "        text-align: right;\n",
       "    }\n",
       "</style>\n",
       "<table border=\"1\" class=\"dataframe\">\n",
       "  <thead>\n",
       "    <tr style=\"text-align: right;\">\n",
       "      <th></th>\n",
       "      <th>time</th>\n",
       "      <th>source</th>\n",
       "      <th>text</th>\n",
       "      <th>retweet_count</th>\n",
       "      <th>est_time</th>\n",
       "    </tr>\n",
       "    <tr>\n",
       "      <th>id</th>\n",
       "      <th></th>\n",
       "      <th></th>\n",
       "      <th></th>\n",
       "      <th></th>\n",
       "      <th></th>\n",
       "    </tr>\n",
       "  </thead>\n",
       "  <tbody>\n",
       "    <tr>\n",
       "      <th>966487844662456320</th>\n",
       "      <td>2018-02-22 01:40:33</td>\n",
       "      <td>Twitter for iPhone</td>\n",
       "      <td>I will always remember the time I spent today with courageous students, teachers and families. So much love in the midst of so much pain. We must not let them down. We must keep our children safe!!\\n\\nFull Listening Session: https://t.co/x5VenyQX5p https://t.co/CAPfX5odIp</td>\n",
       "      <td>15266</td>\n",
       "      <td>2018-02-21 20:40:33-05:00</td>\n",
       "    </tr>\n",
       "    <tr>\n",
       "      <th>966420452070559749</th>\n",
       "      <td>2018-02-21 21:12:45</td>\n",
       "      <td>Twitter for iPhone</td>\n",
       "      <td>.@FLOTUS Melania and I join millions of people around the world in mourning the passing of Billy Graham. Our prayers are with his children, grandchildren, great-grandchildren and all who worked closely with Reverend Graham in his lifelong ministry. https://t.co/e1697tcyaI</td>\n",
       "      <td>14321</td>\n",
       "      <td>2018-02-21 16:12:45-05:00</td>\n",
       "    </tr>\n",
       "    <tr>\n",
       "      <th>966377081469882368</th>\n",
       "      <td>2018-02-21 18:20:25</td>\n",
       "      <td>Media Studio</td>\n",
       "      <td>Yesterday, it was my great honor to recognize extraordinary Law Enforcement Officers and First Responders, and to award them the the highest possible decoration for bravery by public safety officers, the Medal of Valor. #AmericanHeroes https://t.co/em0wBbvy5P</td>\n",
       "      <td>12110</td>\n",
       "      <td>2018-02-21 13:20:25-05:00</td>\n",
       "    </tr>\n",
       "    <tr>\n",
       "      <th>966321700588711936</th>\n",
       "      <td>2018-02-21 14:40:21</td>\n",
       "      <td>Twitter for iPhone</td>\n",
       "      <td>Question: If all of the Russian meddling took place during the Obama Administration, right up to January 20th, why aren’t they the subject of the investigation? Why didn’t Obama do something about the meddling? Why aren’t Dem crimes under investigation? Ask Jeff Sessions!</td>\n",
       "      <td>27736</td>\n",
       "      <td>2018-02-21 09:40:21-05:00</td>\n",
       "    </tr>\n",
       "    <tr>\n",
       "      <th>966317112565420033</th>\n",
       "      <td>2018-02-21 14:22:07</td>\n",
       "      <td>Twitter for iPhone</td>\n",
       "      <td>The GREAT Billy Graham is dead. There was nobody like him! He will be missed by Christians and all religions. A very special man.</td>\n",
       "      <td>27492</td>\n",
       "      <td>2018-02-21 09:22:07-05:00</td>\n",
       "    </tr>\n",
       "  </tbody>\n",
       "</table>\n",
       "</div>"
      ],
      "text/plain": [
       "                                  time              source  \\\n",
       "id                                                           \n",
       "966487844662456320 2018-02-22 01:40:33  Twitter for iPhone   \n",
       "966420452070559749 2018-02-21 21:12:45  Twitter for iPhone   \n",
       "966377081469882368 2018-02-21 18:20:25        Media Studio   \n",
       "966321700588711936 2018-02-21 14:40:21  Twitter for iPhone   \n",
       "966317112565420033 2018-02-21 14:22:07  Twitter for iPhone   \n",
       "\n",
       "                                                                                                                                                                                                                                                                                                text  \\\n",
       "id                                                                                                                                                                                                                                                                                                     \n",
       "966487844662456320  I will always remember the time I spent today with courageous students, teachers and families. So much love in the midst of so much pain. We must not let them down. We must keep our children safe!!\\n\\nFull Listening Session: https://t.co/x5VenyQX5p https://t.co/CAPfX5odIp   \n",
       "966420452070559749  .@FLOTUS Melania and I join millions of people around the world in mourning the passing of Billy Graham. Our prayers are with his children, grandchildren, great-grandchildren and all who worked closely with Reverend Graham in his lifelong ministry. https://t.co/e1697tcyaI   \n",
       "966377081469882368               Yesterday, it was my great honor to recognize extraordinary Law Enforcement Officers and First Responders, and to award them the the highest possible decoration for bravery by public safety officers, the Medal of Valor. #AmericanHeroes https://t.co/em0wBbvy5P   \n",
       "966321700588711936  Question: If all of the Russian meddling took place during the Obama Administration, right up to January 20th, why aren’t they the subject of the investigation? Why didn’t Obama do something about the meddling? Why aren’t Dem crimes under investigation? Ask Jeff Sessions!   \n",
       "966317112565420033                                                                                                                                                 The GREAT Billy Graham is dead. There was nobody like him! He will be missed by Christians and all religions. A very special man.   \n",
       "\n",
       "                    retweet_count                  est_time  \n",
       "id                                                           \n",
       "966487844662456320          15266 2018-02-21 20:40:33-05:00  \n",
       "966420452070559749          14321 2018-02-21 16:12:45-05:00  \n",
       "966377081469882368          12110 2018-02-21 13:20:25-05:00  \n",
       "966321700588711936          27736 2018-02-21 09:40:21-05:00  \n",
       "966317112565420033          27492 2018-02-21 09:22:07-05:00  "
      ]
     },
     "execution_count": 33,
     "metadata": {},
     "output_type": "execute_result"
    }
   ],
   "source": [
    "trump['est_time'] = (\n",
    "    trump['time'].dt.tz_localize(\"UTC\") # Set initial timezone to UTC\n",
    "                 .dt.tz_convert(\"EST\") # Convert to Eastern Time\n",
    ")\n",
    "trump.head()"
   ]
  },
  {
   "cell_type": "markdown",
   "metadata": {
    "deletable": false,
    "editable": false,
    "nbgrader": {
     "cell_type": "markdown",
     "checksum": "62a7fe09ae5f6e81c5112a2052452467",
     "grade": false,
     "grade_id": "need-to-do",
     "locked": true,
     "schema_version": 2,
     "solution": false
    }
   },
   "source": [
    "**What you need to do:**\n",
    "\n",
    "Add a column called `hour` to the `trump` table which contains the hour of the day as floating point number computed by:\n",
    "\n",
    "$$\n",
    "\\text{hour} + \\frac{\\text{minute}}{60} + \\frac{\\text{second}}{60^2}\n",
    "$$\n"
   ]
  },
  {
   "cell_type": "code",
   "execution_count": 34,
   "metadata": {
    "collapsed": false,
    "deletable": false,
    "nbgrader": {
     "cell_type": "code",
     "checksum": "06c6a53e7388e12148e57710efe30726",
     "grade": false,
     "grade_id": "q4b-answer",
     "locked": false,
     "schema_version": 2,
     "solution": true
    },
    "tags": [
     "student"
    ]
   },
   "outputs": [
    {
     "name": "stderr",
     "output_type": "stream",
     "text": [
      "/srv/conda/envs/data100/lib/python3.6/site-packages/ipykernel_launcher.py:7: SettingWithCopyWarning: \n",
      "A value is trying to be set on a copy of a slice from a DataFrame.\n",
      "Try using .loc[row_indexer,col_indexer] = value instead\n",
      "\n",
      "See the caveats in the documentation: http://pandas.pydata.org/pandas-docs/stable/indexing.html#indexing-view-versus-copy\n",
      "  import sys\n"
     ]
    }
   ],
   "source": [
    "# create array of each hour entry\n",
    "hour = []\n",
    "for x in trump['est_time']:\n",
    "    x = x.hour + (x.minute / 60) + x.second / (60 * 60)\n",
    "    hour.append(x)\n",
    "    \n",
    "trump['hour'] = hour\n",
    "\n",
    "# YOUR CODE HERE\n",
    "# raise NotImplementedError()"
   ]
  },
  {
   "cell_type": "code",
   "execution_count": 35,
   "metadata": {
    "collapsed": true,
    "deletable": false,
    "editable": false,
    "nbgrader": {
     "cell_type": "code",
     "checksum": "b0fcc19ae4e12541fa73e3e62f334e01",
     "grade": true,
     "grade_id": "q4b-tests",
     "locked": true,
     "points": 1,
     "schema_version": 2,
     "solution": false
    },
    "tags": [
     "test",
     "q04a"
    ]
   },
   "outputs": [],
   "source": [
    "assert np.isclose(trump.loc[690171032150237184]['hour'], 8.93639)"
   ]
  },
  {
   "cell_type": "markdown",
   "metadata": {
    "deletable": false,
    "editable": false,
    "nbgrader": {
     "cell_type": "markdown",
     "checksum": "8b98f2333e8e06595af89608f654a347",
     "grade": false,
     "grade_id": "q4c",
     "locked": true,
     "schema_version": 2,
     "solution": false
    }
   },
   "source": [
    "## Question 4c\n",
    "\n",
    "Use this data along with the seaborn `distplot` function to examine the distribution over hours of the day in `easter time` that trump tweets on each device for the 2 most commonly used devices.  Your plot should look similar to the following. \n",
    "\n",
    "<img src=\"images/device_hour2.png\" width=\"600px\" />"
   ]
  },
  {
   "cell_type": "code",
   "execution_count": 36,
   "metadata": {
    "collapsed": true
   },
   "outputs": [],
   "source": [
    "iphone_tweets = trump[trump['source'] == 'Twitter for iPhone']\n",
    "android_tweets = trump[trump['source'] == 'Twitter for Android']"
   ]
  },
  {
   "cell_type": "code",
   "execution_count": 37,
   "metadata": {
    "collapsed": false,
    "deletable": false,
    "nbgrader": {
     "cell_type": "code",
     "checksum": "8098891f5ad326482ed42b89fb116b10",
     "grade": true,
     "grade_id": "q4c-answer",
     "locked": false,
     "points": 2,
     "schema_version": 2,
     "solution": true
    }
   },
   "outputs": [
    {
     "data": {
      "text/plain": [
       "Text(0.5,1,'Time of use by device')"
      ]
     },
     "execution_count": 37,
     "metadata": {},
     "output_type": "execute_result"
    },
    {
     "data": {
      "image/png": "[encoded data removed]",
      "text/plain": [
       "<matplotlib.figure.Figure at 0x7f445828dac8>"
      ]
     },
     "metadata": {},
     "output_type": "display_data"
    }
   ],
   "source": [
    "### make your plot here\n",
    "phoneplt = sns.distplot(iphone_tweets['hour'], hist=False, label='Twitter for iPhone')\n",
    "phoneplt = sns.distplot(android_tweets['hour'], hist=False, label='Twitter for Android')\n",
    "phoneplt.set(ylabel='fraction')\n",
    "plt.title('Time of use by device')\n",
    "\n",
    "\n",
    "# raise NotImplementedError()"
   ]
  },
  {
   "cell_type": "markdown",
   "metadata": {
    "deletable": false,
    "editable": false,
    "nbgrader": {
     "cell_type": "markdown",
     "checksum": "15705789bde1b146f0119a393984387c",
     "grade": false,
     "grade_id": "q4d",
     "locked": true,
     "schema_version": 2,
     "solution": false
    }
   },
   "source": [
    "\n",
    "## Question 4d\n",
    "\n",
    "Are there any striking differences between these curves.  If someone told you that Trump tends to tweet early in the morning and then later in the evening, which device might you conclude is most likely his?"
   ]
  },
  {
   "cell_type": "markdown",
   "metadata": {
    "deletable": false,
    "nbgrader": {
     "cell_type": "markdown",
     "checksum": "dd2a71cbda4d42eaf1a86490a723f4ea",
     "grade": true,
     "grade_id": "q4d-answer",
     "locked": false,
     "points": 1,
     "schema_version": 2,
     "solution": true
    },
    "tags": [
     "student",
     "written"
    ]
   },
   "source": [
    "There certainly are. Trump's infamous early morning tweets seem to come more from his Android device. This may mean he uses it as a personal device (as it is in his personal bedroom away from aides, etc.). During work, it seems he uses an iPhone. Perhaps the US government favors this for security. When it gets late in the day, Trump tweets less--going to bed (or maybe his audience is asleep so he does not use twitter!). "
   ]
  },
  {
   "cell_type": "markdown",
   "metadata": {
    "deletable": false,
    "editable": false,
    "nbgrader": {
     "cell_type": "markdown",
     "checksum": "a59afe12404b1f0811e16801674c53cf",
     "grade": false,
     "grade_id": "q5",
     "locked": true,
     "schema_version": 2,
     "solution": false
    }
   },
   "source": [
    "## Question 5\n",
    "\n",
    "Let's now look at which device he has used over the entire time period of this dataset.\n",
    "\n",
    "To examine the distribution of dates we will convert the date to a fractional year that can be plotted as a distribution.\n",
    "\n",
    "(Code borrowed from https://stackoverflow.com/questions/6451655/python-how-to-convert-datetime-dates-to-decimal-years)"
   ]
  },
  {
   "cell_type": "code",
   "execution_count": 38,
   "metadata": {
    "collapsed": false,
    "deletable": false,
    "editable": false,
    "nbgrader": {
     "cell_type": "code",
     "checksum": "473e641d026c095c438d79d7aa94b2f2",
     "grade": false,
     "grade_id": "fractional-year",
     "locked": true,
     "schema_version": 2,
     "solution": false
    }
   },
   "outputs": [
    {
     "name": "stderr",
     "output_type": "stream",
     "text": [
      "/srv/conda/envs/data100/lib/python3.6/site-packages/ipykernel_launcher.py:8: SettingWithCopyWarning: \n",
      "A value is trying to be set on a copy of a slice from a DataFrame.\n",
      "Try using .loc[row_indexer,col_indexer] = value instead\n",
      "\n",
      "See the caveats in the documentation: http://pandas.pydata.org/pandas-docs/stable/indexing.html#indexing-view-versus-copy\n",
      "  \n"
     ]
    }
   ],
   "source": [
    "import datetime\n",
    "def year_fraction(date):\n",
    "    start = datetime.date(date.year, 1, 1).toordinal()\n",
    "    year_length = datetime.date(date.year+1, 1, 1).toordinal() - start\n",
    "    return date.year + float(date.toordinal() - start) / year_length\n",
    "\n",
    "\n",
    "trump['year'] = trump['time'].apply(year_fraction)"
   ]
  },
  {
   "cell_type": "markdown",
   "metadata": {
    "deletable": false,
    "editable": false,
    "nbgrader": {
     "cell_type": "markdown",
     "checksum": "64eb067a351f92005ef87b72f2298f8a",
     "grade": false,
     "grade_id": "q5a",
     "locked": true,
     "schema_version": 2,
     "solution": false
    }
   },
   "source": [
    "### Question 5a\n",
    "\n",
    "Use the `sns.distplot` to overlay the distributions of the 2 most frequently used web technologies over the years.  Your final plot should look like:\n",
    "\n",
    "<img src=\"images/source_years.png\" width=\"600px\" />\n"
   ]
  },
  {
   "cell_type": "code",
   "execution_count": 39,
   "metadata": {
    "collapsed": false,
    "deletable": false,
    "nbgrader": {
     "cell_type": "code",
     "checksum": "1e4c5f933e6074bd85bb221f71bf9e9b",
     "grade": true,
     "grade_id": "q5a-answer",
     "locked": false,
     "points": 2,
     "schema_version": 2,
     "solution": true
    }
   },
   "outputs": [
    {
     "data": {
      "text/plain": [
       "Text(0.5,1,'Distribution of most used devices over years')"
      ]
     },
     "execution_count": 39,
     "metadata": {},
     "output_type": "execute_result"
    },
    {
     "data": {
      "image/png": "[encoded data removed]",
      "text/plain": [
       "<matplotlib.figure.Figure at 0x7f445b7349e8>"
      ]
     },
     "metadata": {},
     "output_type": "display_data"
    }
   ],
   "source": [
    "# Update device tweets using data above\n",
    "iphone_tweets = trump[trump['source'] == 'Twitter for iPhone']\n",
    "android_tweets = trump[trump['source'] == 'Twitter for Android']\n",
    "\n",
    "sns.distplot(iphone_tweets['year'], label = 'Twitter for iPhone')\n",
    "sns.distplot(android_tweets['year'], label = 'Twitter for Android')\n",
    "plt.legend()\n",
    "plt.xlabel('fraction')\n",
    "plt.title('Distribution of most used devices over years')\n",
    "# YOUR CODE HERE\n",
    "# raise NotImplementedError()"
   ]
  },
  {
   "cell_type": "markdown",
   "metadata": {
    "deletable": false,
    "editable": false,
    "nbgrader": {
     "cell_type": "markdown",
     "checksum": "59c4beefb2256bd16dbd81c30cd07046",
     "grade": false,
     "grade_id": "q5b",
     "locked": true,
     "schema_version": 2,
     "solution": false
    }
   },
   "source": [
    "### Question 5b\n",
    "According to the plot, Trump's tweets come from many different sources. It turns out that many of his tweets were not from Trump himself but from his staff. [Take a look at this Verge article.](https://www.theverge.com/2017/3/29/15103504/donald-trump-iphone-using-switched-android)\n",
    "\n",
    "Does the data support the information in the article? What else do you find out about changes in Trump's tweets sources from the plot?"
   ]
  },
  {
   "cell_type": "markdown",
   "metadata": {
    "deletable": false,
    "nbgrader": {
     "cell_type": "markdown",
     "checksum": "082503c0b5857367ca42491826837448",
     "grade": true,
     "grade_id": "q5b-answer",
     "locked": false,
     "points": 1,
     "schema_version": 2,
     "solution": true
    },
    "tags": [
     "student",
     "written"
    ]
   },
   "source": [
    "It certainly does support the rumor that Trump is now using a more secure iPhone. We see that right at the start of 2017 (his inauguration), all tweets started coming from an iPhone while none from his Android device. This is exaclty what was described in the article. Also, most of his tweets from Android are likely from him, as they are more entertaining! His staff likely used the iPhone prior to January 2017."
   ]
  },
  {
   "cell_type": "markdown",
   "metadata": {
    "deletable": false,
    "editable": false,
    "nbgrader": {
     "cell_type": "markdown",
     "checksum": "9160f63c38f2638e31ad51b3260bef67",
     "grade": false,
     "grade_id": "q6-header",
     "locked": true,
     "schema_version": 2,
     "solution": false
    }
   },
   "source": [
    "## Question 6: Sentiment Analysis\n",
    "\n",
    "It turns out that we can use the words in Trump's tweets to calculate a measure of the sentiment of the tweet. For example, the sentence \"I love America!\" has positive sentiment, whereas the sentence \"I hate taxes!\" has a negative sentiment. In addition, some words have stronger positive / negative sentiment than others: \"I love America.\" is more positive than \"I like America.\"\n",
    "\n",
    "We will use the [VADER (Valence Aware Dictionary and sEntiment Reasoner)](https://github.com/cjhutto/vaderSentiment) lexicon to analyze the sentiment of Trump's tweets. VADER is a lexicon and rule-based sentiment analysis tool that is specifically attuned to sentiments expressed in social media which is great for our usage.\n",
    "\n",
    "The VADER lexicon gives the sentiment of individual words. Run the following cell to show the first few rows of the lexicon:"
   ]
  },
  {
   "cell_type": "code",
   "execution_count": 40,
   "metadata": {
    "collapsed": false,
    "deletable": false,
    "editable": false,
    "nbgrader": {
     "cell_type": "code",
     "checksum": "4bdf61c45c5bf6f12052419af685d59e",
     "grade": false,
     "grade_id": "head-vader",
     "locked": true,
     "schema_version": 2,
     "solution": false
    }
   },
   "outputs": [
    {
     "name": "stdout",
     "output_type": "stream",
     "text": [
      "$:\t-1.5\t0.80623\t[-1, -1, -1, -1, -3, -1, -3, -1, -2, -1]\n",
      "%)\t-0.4\t1.0198\t[-1, 0, -1, 0, 0, -2, -1, 2, -1, 0]\n",
      "%-)\t-1.5\t1.43178\t[-2, 0, -2, -2, -1, 2, -2, -3, -2, -3]\n",
      "&-:\t-0.4\t1.42829\t[-3, -1, 0, 0, -1, -1, -1, 2, -1, 2]\n",
      "&:\t-0.7\t0.64031\t[0, -1, -1, -1, 1, -1, -1, -1, -1, -1]\n",
      "( '}{' )\t1.6\t0.66332\t[1, 2, 2, 1, 1, 2, 2, 1, 3, 1]\n",
      "(%\t-0.9\t0.9434\t[0, 0, 1, -1, -1, -1, -2, -2, -1, -2]\n",
      "('-:\t2.2\t1.16619\t[4, 1, 4, 3, 1, 2, 3, 1, 2, 1]\n",
      "(':\t2.3\t0.9\t[1, 3, 3, 2, 2, 4, 2, 3, 1, 2]\n",
      "((-:\t2.1\t0.53852\t[2, 2, 2, 1, 2, 3, 2, 2, 3, 2]\n",
      "\n"
     ]
    }
   ],
   "source": [
    "print(''.join(open(\"vader_lexicon.txt\").readlines()[:10]))"
   ]
  },
  {
   "cell_type": "markdown",
   "metadata": {
    "deletable": false,
    "editable": false,
    "nbgrader": {
     "cell_type": "markdown",
     "checksum": "631d386141906603b7febb8ce0901638",
     "grade": false,
     "grade_id": "q6a-header",
     "locked": true,
     "schema_version": 2,
     "solution": false
    }
   },
   "source": [
    "## Question 6a\n",
    "\n",
    "As you can see, the lexicon contains emojis too! The first column of the lexicon is the *token*, or the word itself. The second column is the *polarity* of the word, or how positive / negative it is.\n",
    "\n",
    "(How did they decide the polarities of these words? What are the other two columns in the lexicon? See the link above.)\n",
    "\n",
    " Read in the lexicon into a DataFrame called `sent`. The index of the DF should be the tokens in the lexicon. `sent` should have one column: `polarity`: The polarity of each token."
   ]
  },
  {
   "cell_type": "code",
   "execution_count": 41,
   "metadata": {
    "collapsed": true
   },
   "outputs": [],
   "source": [
    "vader = pd.read_table('vader_lexicon.txt', names = ['token', 'polarity', 'sd', 'sentiment' ])\n",
    "vader.drop(['sd', 'sentiment'], axis = 1, inplace=True)\n",
    "vader.set_index('token', inplace=True)"
   ]
  },
  {
   "cell_type": "code",
   "execution_count": 42,
   "metadata": {
    "collapsed": true,
    "deletable": false,
    "nbgrader": {
     "cell_type": "code",
     "checksum": "962759aad285ccfb16f06dc8dd86035c",
     "grade": false,
     "grade_id": "q6a1",
     "locked": false,
     "schema_version": 2,
     "solution": true
    },
    "tags": [
     "student"
    ]
   },
   "outputs": [],
   "source": [
    "sent = vader\n",
    "\n",
    "# YOUR CODE HERE\n",
    "# raise NotImplementedError()"
   ]
  },
  {
   "cell_type": "code",
   "execution_count": 43,
   "metadata": {
    "collapsed": true,
    "deletable": false,
    "editable": false,
    "nbgrader": {
     "cell_type": "code",
     "checksum": "417f93b4eb89b4206d6b77725b72e56a",
     "grade": true,
     "grade_id": "q6a-test1",
     "locked": true,
     "points": 1,
     "schema_version": 2,
     "solution": false
    },
    "tags": [
     "test",
     "q05a"
    ]
   },
   "outputs": [],
   "source": [
    "assert isinstance(sent, pd.DataFrame)\n",
    "assert sent.shape == (7517, 1)\n",
    "assert list(sent.index[5000:5005]) == ['paranoids', 'pardon', 'pardoned', 'pardoning', 'pardons']\n",
    "assert np.allclose(sent['polarity'].head(), [-1.5, -0.4, -1.5, -0.4, -0.7])"
   ]
  },
  {
   "cell_type": "markdown",
   "metadata": {
    "deletable": false,
    "editable": false,
    "nbgrader": {
     "cell_type": "markdown",
     "checksum": "53a09bb6ee188a572ee0c8501087ac9c",
     "grade": false,
     "grade_id": "q6b-header",
     "locked": true,
     "schema_version": 2,
     "solution": false
    }
   },
   "source": [
    "## Question 6b\n",
    "\n",
    "Now, let's use this lexicon to calculate the overall sentiment for each of Trump's tweets. Here's the basic idea:\n",
    "\n",
    "1. For each tweet, find the sentiment of each word.\n",
    "2. Calculate the sentiment of each tweet by taking the sum of the sentiments of its words.\n",
    "\n",
    "First, let's lowercase the text in the tweets since the lexicon is also lowercase. Set the `text` column of the `trump` DF to be the lowercased text of each tweet."
   ]
  },
  {
   "cell_type": "code",
   "execution_count": 44,
   "metadata": {
    "collapsed": false,
    "deletable": false,
    "nbgrader": {
     "cell_type": "code",
     "checksum": "a8bb2469a666ad8f1388abb6ad808881",
     "grade": false,
     "grade_id": "q6b-answer",
     "locked": false,
     "schema_version": 2,
     "solution": true
    },
    "tags": [
     "student"
    ]
   },
   "outputs": [
    {
     "name": "stderr",
     "output_type": "stream",
     "text": [
      "/srv/conda/envs/data100/lib/python3.6/site-packages/ipykernel_launcher.py:2: SettingWithCopyWarning: \n",
      "A value is trying to be set on a copy of a slice from a DataFrame.\n",
      "Try using .loc[row_indexer,col_indexer] = value instead\n",
      "\n",
      "See the caveats in the documentation: http://pandas.pydata.org/pandas-docs/stable/indexing.html#indexing-view-versus-copy\n",
      "  \n",
      "/srv/conda/envs/data100/lib/python3.6/site-packages/ipykernel_launcher.py:3: SettingWithCopyWarning: \n",
      "A value is trying to be set on a copy of a slice from a DataFrame.\n",
      "Try using .loc[row_indexer,col_indexer] = value instead\n",
      "\n",
      "See the caveats in the documentation: http://pandas.pydata.org/pandas-docs/stable/indexing.html#indexing-view-versus-copy\n",
      "  This is separate from the ipykernel package so we can avoid doing imports until\n"
     ]
    }
   ],
   "source": [
    "# set to lower case and replace \\n with space (line breaks)\n",
    "trump['text'] = trump['text'].str.lower()\n",
    "trump['text'] = trump['text'].str.replace('\\n', ' ')\n",
    "# YOUR CODE HERE\n",
    "# raise NotImplementedError()"
   ]
  },
  {
   "cell_type": "code",
   "execution_count": 45,
   "metadata": {
    "collapsed": true,
    "deletable": false,
    "editable": false,
    "nbgrader": {
     "cell_type": "code",
     "checksum": "13de085e42b82bf985f60f6489ed6946",
     "grade": true,
     "grade_id": "q6b-test",
     "locked": true,
     "points": 1,
     "schema_version": 2,
     "solution": false
    },
    "tags": [
     "test",
     "q05b"
    ]
   },
   "outputs": [],
   "source": [
    "assert trump['text'].loc[884740553040175104] == 'working hard to get the olympics for the united states (l.a.). stay tuned!'"
   ]
  },
  {
   "cell_type": "markdown",
   "metadata": {
    "deletable": false,
    "editable": false,
    "nbgrader": {
     "cell_type": "markdown",
     "checksum": "b985c716dee1121b3764f29e1648fe14",
     "grade": false,
     "grade_id": "q6c-header",
     "locked": true,
     "schema_version": 2,
     "solution": false
    }
   },
   "source": [
    "## Question 6c\n",
    "\n",
    "Now, let's get rid of punctuation since it'll cause us to fail to match words. Create a new column called `no_punc` in the `trump` DF to be the lowercased text of each tweet with all punctuation replaced by a single space. We consider punctuation characters to be any character that isn't a Unicode word character or a whitespace character. You may want to consult the Python documentation on regexes for this problem.\n",
    "\n",
    "(Why don't we simply remove punctuation instead of replacing with a space? See if you can figure this out by looking at the tweet data.)"
   ]
  },
  {
   "cell_type": "code",
   "execution_count": 46,
   "metadata": {
    "collapsed": false,
    "deletable": false,
    "nbgrader": {
     "cell_type": "code",
     "checksum": "2901325706be092abb437c239e7d3d83",
     "grade": false,
     "grade_id": "q6c",
     "locked": false,
     "schema_version": 2,
     "solution": true
    },
    "tags": [
     "student"
    ]
   },
   "outputs": [
    {
     "name": "stderr",
     "output_type": "stream",
     "text": [
      "/srv/conda/envs/data100/lib/python3.6/site-packages/ipykernel_launcher.py:3: SettingWithCopyWarning: \n",
      "A value is trying to be set on a copy of a slice from a DataFrame.\n",
      "Try using .loc[row_indexer,col_indexer] = value instead\n",
      "\n",
      "See the caveats in the documentation: http://pandas.pydata.org/pandas-docs/stable/indexing.html#indexing-view-versus-copy\n",
      "  This is separate from the ipykernel package so we can avoid doing imports until\n"
     ]
    },
    {
     "data": {
      "text/plain": [
       "id\n",
       "966487844662456320             i will always remember the time i spent today with courageous students  teachers and families  so much love in the midst of so much pain  we must not let them down  we must keep our children safe    full listening session  https   t co x5venyqx5p https   t co capfx5odip\n",
       "966420452070559749             flotus melania and i join millions of people around the world in mourning the passing of billy graham  our prayers are with his children  grandchildren  great grandchildren and all who worked closely with reverend graham in his lifelong ministry  https   t co e1697tcyai\n",
       "966377081469882368                        yesterday  it was my great honor to recognize extraordinary law enforcement officers and first responders  and to award them the the highest possible decoration for bravery by public safety officers  the medal of valor   americanheroes https   t co em0wbbvy5p\n",
       "966321700588711936           question  if all of the russian meddling took place during the obama administration  right up to january 20th  why aren t they the subject of the investigation  why didn t obama do something about the meddling  why aren t dem crimes under investigation  ask jeff sessions \n",
       "966317112565420033                                                                                                                                                          the great billy graham is dead  there was nobody like him  he will be missed by christians and all religions  a very special man \n",
       "966119932793585664                                                                                                                                                                                    cnn  msnbc whether we are republican or democrat  we must now focus on strengthening background checks \n",
       "966118856874971138                                                                                                                                                                                                                                                so true  thank you  https   t co 9ttxlfokyz\n",
       "966117265426001920                    bad ratings  cnn  amp   msnbc got scammed when they covered the anti trump russia rally wall to wall  they probably knew it was fake news but  because it was a rally against me  they pushed it hard anyway  two really dishonest newscasters  but the public is wise \n",
       "966006815745040384                                                                                 main street is booming thanks to our incredible tax cut and reform law   this shows small business owners are more than just optimistic  they are ready to grow their businesses   https   t co w9aw68uwoj\n",
       "965971586913374208                                 cameras running  another false accusation  why doesn t  washingtonpost report the story of the women taking money to make up stories about me  one had her home mortgage paid off  only  foxnews so reported   doesn t fit the mainstream media narrative \n",
       "965968309358333952    a woman i don t know and  to the best of my knowledge  never met  is on the front page of the fake news washington post saying i kissed her  for two minutes yet  in the lobby of trump tower 12 years ago  never happened  who would do this in a public space with live security  ...\n",
       "965943827931549696                                                                                                                                                                                                    i have been much tougher on russia than obama  just look at the facts  total fake news \n",
       "965937068907073536               hope republicans in the great state of pennsylvania challenge the new  pushed  congressional map  all the way to the supreme court  if necessary  your original was correct  don t let the dems take elections away from you so that they can raise taxes  amp  waste money \n",
       "965935035328155649                                                                                                                 matt schlapp and cpac are getting ready for another exciting event  big difference from those days when president obama held the white house  you ve come a long way matt \n",
       "965932714141650946                                                     republicans are now leading the generic poll  perhaps because of the popular tax cuts which the dems want to take away  actually  they want to raise you taxes  substantially  also  they want to do nothing on daca  r s want to fix \n",
       "965930611272712192                 the president obama quote just before election  that s because he thought crooked hillary was going to win and he didn t want to  rock the boat   when i easily won the electoral college  the whole game changed and the russian excuse became the narrative of the dems \n",
       "965928352614965248     there is no serious person out there who would suggest somehow that you could even rig america s elections  there s no evidence that that has happened in the past or that it will happen this time  and so i d invite mr  trump to stop whining and make his case to get votes    ...\n",
       "965925223949357056                                                                                         thank you to  foxandfriends for the great timeline on all of the failures the obama administration had against russia  including crimea  syria and so much more  we are now starting to win again \n",
       "965780052167286784                                                                                                                                                                              the faith of donald trump   a book just out by david brody and scott lamb  is a very interesting read  enjoy \n",
       "965775382598311937    the u s  economy is looking very good  in my opinion  even better than anticipated  companies are pouring back into our country  reversing the long term trend of leaving  the unemployment numbers are looking great  and regulations  amp  taxes have been massively cut  jobs  jo...\n",
       "965773283554668544                                                                                         mittromney has announced he is running for the senate from the wonderful state of utah  he will make a great senator and worthy successor to  orrinhatch  and has my full support and endorsement \n",
       "965676314576543744                                                                                                                                                                            obama was president up to  and beyond  the 2016 election  so why didn t he do something about russian meddling \n",
       "965582280772276224                                                                                                                                                                                                                                        have a great  but very reflective  president s day \n",
       "965442990134251520                      just watched a very insecure oprah winfrey  who at one point i knew very well  interview a panel of people on 60 minutes  the questions were biased and slanted  the facts incorrect  hope oprah runs so she can be exposed and defeated just like all of the others \n",
       "965303158229622785                                                                                                                                      my great friends from nascar are having their big race today  the daytona 500  brian france and the france family are special people  enjoy the race \n",
       "965272331978407937                                                                                                        thank you to kenstarr  former independent counsel  whitewater  for your insight and powerful words on fisa abuse  russian meddling etc  really great interview with  mariabartiromo\n",
       "965223354633457665                                great pollster john mclaughlin now has the gop up in the generic congressional ballot  big gain over last 4 weeks  i guess people are loving the big tax cuts given them by the republicans  the cuts the dems want to take away  we need more republicans \n",
       "965221024496279552                                                                                                                                                                                                                            the fake news of big ratings loser cnn  https   t co rysv90cnvs\n",
       "965212168449941505           if it was the goal of russia to create discord  disruption and chaos within the u s  then  with all of the committee hearings  investigations and party hatred  they have succeeded beyond their wildest dreams  they are laughing their asses off in moscow  get smart america \n",
       "965207569852780544                                                                                                                                               rt  mike_pence  big night  largest ever dallas county gop reagan day dinner  as i told the crowd  under president  realdonaldtrump  promise \n",
       "                                                                                                                                                               ...                                                                                                                                           \n",
       "787425145489072128                                                                                                                                                   the failing  nytimes reporters don t even call us anymore  they just write whatever they want to write  making up sources along the way \n",
       "787359730465329152                                                                                                                                                  nothing ever happened with any of these women  totally made up nonsense to steal the election  nobody has more respect for women than me \n",
       "787355131062943744                                                                                                                                               the movement in portsmouth  new hampshire w  7k supporters  thank you  this is the biggest election of our lifetime  https   t co 4otzyjylc2\n",
       "787320961934688257                                                                                                                                                                                      landing in new hampshire soon to talk about the massive drug problem there  and all over the country \n",
       "787320326573228032                                                                                                                                                                                                                                   the truth is a beautiful weapon  https   t co p7frfhicvw\n",
       "787319977711923200                                                                                                                                           rt  danscavino  mr  trump removing the broken teleprompter in north carolina in front of a massive crowd  he goes on amp delivers the best spee \n",
       "787267564405653505                                                                                                                                               hillary clinton should have been prosecuted and should be in jail  instead she is running for president in what looks like a rigged election\n",
       "787266044213723138                                                                                                                                                                             will be in bangor  maine today at 3pm  join me   maga tickets  https   t co ny7e1fbob7 https   t co 5tn2wvnr7j\n",
       "787258211283918848                                                                                                                                                this election is being rigged by the media pushing false and unsubstantiated charges  and outright lies  in order to elect crooked hillary \n",
       "787244543003467776                                                                                                                                               100  fabricated and made up charges  pushed strongly by the media and the clinton campaign  may poison the minds of the american voter  fix \n",
       "787127225581707265                                                                                                                                                                                                                 thank you  trumpwomenstour   makeamericagreatagain https   t co r4oxahpsab\n",
       "787099202291634177                                                                                                                                                thank you charlotte  north carolina  we are going to have an amazing victory on november 8th   because this is all  https   t co a7ql7kumft\n",
       "787025537483046913                                                                                                                                               make sure you re registered to vote  let s  makeamericagreatagain  we can t afford more years of failure  all info   https   t co mgv5urlhb0\n",
       "787012170630455297                                                                                                                                                        thank you for your support greensboro  north carolina  next stop   charlotte   maga https   t co 3kwol2ibaw https   t co jjde4w1hz2\n",
       "786950598826532864                                                                                                                                                                                          what they are saying about the clinton campaign s anti catholic bigotry   https   t co orulat4zbn\n",
       "786737820669009921                                                                                                                                           thank you to our u s  navy for protecting our country  both in times of peace  amp  war  together  we will make america  https   t co v23jcl4teq\n",
       "786716631644897280                                                                                                                                                                                                                join me live in cincinnati  ohio   trumprally  maga https   t co mzqgnnvfzb\n",
       "786710113163812864                                                                                                                                                                      join me in greensboro  north carolina tomorrow at 2 00pm   trumprally https   t co vplryxcyoq https   t co drra2aqayj\n",
       "786709861245526017                                                                                                                                               rt  teamtrump   this is a crossroads in the history of our civilization that will determine whether or not we the people reclaim control ov \n",
       "786700864752914433                                                                                                                                                dem gov  of mn  just announced that the affordable care act  obamacare  is no longer affordable  i ve been saying this for years  disaster \n",
       "786691718062235649                                                                                                                                                great event in columbus  taking off for cincinnati now  great new ohio poll out  thank you  ohio nbc wsj marist poll trump 42   clinton 41 \n",
       "786658827429154816                                                                                                                                                                                                 just left a great rally in florida   now heading to ohio for two more  will be there soon \n",
       "786589454991499264                                                                                                                                                                                                                   i am making a major speech in west palm beach  florida at noon  tune in \n",
       "786589172911964161                                                                                                                                                                                                                                     thank you   maga  americafirst https   t co fg313wjlkm\n",
       "786565208663785476                                                                                                                                           join me in ohio  amp  maine  cincinnati  ohio  tonight   7 30pm  https   t co xlhgd1vrmo bangor  maine   saturday   3pm  https   t co dyhpqybwpk\n",
       "786560925113266176                                                                                                                                                          the phony story in the failing  nytimes is a total fabrication  written by same people as last discredited story on women  watch \n",
       "786554517680693248                                                                                                                                                    why didn t the writer of the twelve year old article in people magazine mention the  incident  in her story  because it did not happen \n",
       "786340623804751872                                                                                                                                                      i will be in cincinnati  ohio tomorrow night at 7 30pm  join me   ohiovotesearly  votetrumppence16  tickets   https   t co bp5ihkbt2d\n",
       "786310855843512320                                                                                                                                            the movement in lakeland  florida  voter registration extended to 10 18  register asap   https   t co hfihperfgz  amp   https   t co pygilshrgv\n",
       "786285509668696065                                                                                                                                                the people of cuba have struggled too long  will reverse obama s executive orders and concessions towards cuba until freedoms are restored \n",
       "Name: no_punc, Length: 6759, dtype: object"
      ]
     },
     "execution_count": 46,
     "metadata": {},
     "output_type": "execute_result"
    }
   ],
   "source": [
    "# Save your regex in punct_re\n",
    "punct_re = '[^A-Za-z0-9_\\\\s]'\n",
    "trump['no_punc'] = trump['text'].str.replace(punct_re, ' ')\n",
    "trump['no_punc']\n",
    "\n",
    "# YOUR CODE HERE\n",
    "# raise NotImplementedError()"
   ]
  },
  {
   "cell_type": "code",
   "execution_count": 47,
   "metadata": {
    "collapsed": true,
    "deletable": false,
    "editable": false,
    "nbgrader": {
     "cell_type": "code",
     "checksum": "acba51f5c1ed85ceafe923184be4be33",
     "grade": true,
     "grade_id": "q6c-test",
     "locked": true,
     "points": 1,
     "schema_version": 2,
     "solution": false
    },
    "tags": [
     "test",
     "q05c"
    ]
   },
   "outputs": [],
   "source": [
    "assert isinstance(punct_re, str)\n",
    "assert re.search(punct_re, 'this') is None\n",
    "assert re.search(punct_re, 'this is ok') is None\n",
    "assert re.search(punct_re, 'this is\\nok') is None\n",
    "assert re.search(punct_re, 'this is not ok.') is not None\n",
    "assert re.search(punct_re, 'this#is#ok') is not None\n",
    "assert re.search(punct_re, 'this^is ok') is not None\n",
    "assert trump['no_punc'].loc[800329364986626048] == 'i watched parts of  nbcsnl saturday night live last night  it is a totally one sided  biased show   nothing funny at all  equal time for us '\n",
    "assert trump['no_punc'].loc[894620077634592769] == 'on  purpleheartday i thank all the brave men and women who have sacrificed in battle for this great nation   usa   https   t co qmfdlslp6p'\n",
    "# If you fail these tests, you accidentally changed the text column\n",
    "assert trump['text'].loc[884740553040175104] == 'working hard to get the olympics for the united states (l.a.). stay tuned!'"
   ]
  },
  {
   "cell_type": "markdown",
   "metadata": {
    "deletable": false,
    "editable": false,
    "nbgrader": {
     "cell_type": "markdown",
     "checksum": "70d1187aee0930362e42d7b497ee5710",
     "grade": false,
     "grade_id": "q6d-header",
     "locked": true,
     "schema_version": 2,
     "solution": false
    }
   },
   "source": [
    "## Question 6d:\n",
    "\n",
    "\n",
    "Now, let's convert the tweets into what's called a [*tidy format*](https://cran.r-project.org/web/packages/tidyr/vignettes/tidy-data.html) to make the sentiments easier to calculate. Use the `no_punc` column of `trump` to create a table called `tidy_format`. The index of the table should be the IDs of the tweets, repeated once for every word in the tweet. It has two columns:\n",
    "\n",
    "1. `num`: The location of the word in the tweet. For example, if the tweet was \"i love america\", then the location of the word \"i\" is 0, \"love\" is 1, and \"america\" is 2.\n",
    "2. `word`: The individual words of each tweet.\n",
    "\n",
    "The first few rows of our `tidy_format` table look like:\n",
    "\n",
    "<table border=\"1\" class=\"dataframe\">\n",
    "  <thead>\n",
    "    <tr style=\"text-align: right;\">\n",
    "      <th></th>\n",
    "      <th>num</th>\n",
    "      <th>word</th>\n",
    "    </tr>\n",
    "  </thead>\n",
    "  <tbody>\n",
    "    <tr>\n",
    "      <th>894661651760377856</th>\n",
    "      <td>0</td>\n",
    "      <td>i</td>\n",
    "    </tr>\n",
    "    <tr>\n",
    "      <th>894661651760377856</th>\n",
    "      <td>1</td>\n",
    "      <td>think</td>\n",
    "    </tr>\n",
    "    <tr>\n",
    "      <th>894661651760377856</th>\n",
    "      <td>2</td>\n",
    "      <td>senator</td>\n",
    "    </tr>\n",
    "    <tr>\n",
    "      <th>894661651760377856</th>\n",
    "      <td>3</td>\n",
    "      <td>blumenthal</td>\n",
    "    </tr>\n",
    "    <tr>\n",
    "      <th>894661651760377856</th>\n",
    "      <td>4</td>\n",
    "      <td>should</td>\n",
    "    </tr>\n",
    "  </tbody>\n",
    "</table>\n",
    "\n",
    "**Note that you'll get different results depending on when you pulled in the tweets.** However, you can double check that your tweet with ID `894661651760377856` has the same rows as ours. Our tests don't check whether your table looks exactly like ours.\n",
    "\n",
    "This will require some rather advanced Pandas hacking, but our solution uses a chain of 5 methods on the `trump` DF.\n",
    "\n",
    "* **Hint 1:** Try looking at the `expand` argument to pandas' `str.split`.\n",
    "\n",
    "* **Hint 2:** Try looking at the `stack()` method.\n"
   ]
  },
  {
   "cell_type": "code",
   "execution_count": 48,
   "metadata": {
    "collapsed": true,
    "deletable": false,
    "nbgrader": {
     "cell_type": "code",
     "checksum": "71f93a81cbd4dd1b2ff47a6d65ef758e",
     "grade": false,
     "grade_id": "q6d-answer",
     "locked": false,
     "schema_version": 2,
     "solution": true
    },
    "tags": [
     "student"
    ]
   },
   "outputs": [],
   "source": [
    "tidy_format = pd.DataFrame(trump['no_punc']\n",
    "                           .str.split(\"\\\\s+\", expand=True)\n",
    "                           .stack()\n",
    "                          )\n",
    "\n",
    "# @Source Piazza Q6 on reseting index then making it ID again--not so sure why this works but it does!\n",
    "tidy_format.reset_index(inplace=True)\n",
    "tidy_format = tidy_format.set_index('id').rename(columns={'level_1' : 'num', 0 : 'word'})\n",
    "\n",
    "# YOUR CODE HERE\n",
    "# raise NotImplementedError()"
   ]
  },
  {
   "cell_type": "code",
   "execution_count": 49,
   "metadata": {
    "collapsed": true,
    "deletable": false,
    "editable": false,
    "nbgrader": {
     "cell_type": "code",
     "checksum": "78b35d7cc8348ceb6ffbd17591dfd4f1",
     "grade": true,
     "grade_id": "q6d-tests",
     "locked": true,
     "points": 1,
     "schema_version": 2,
     "solution": false
    },
    "tags": [
     "test",
     "q05d"
    ]
   },
   "outputs": [],
   "source": [
    "assert tidy_format.loc[894661651760377856].shape == (27, 2)\n",
    "assert ' '.join(list(tidy_format.loc[894661651760377856]['word'])) == 'i think senator blumenthal should take a nice long vacation in vietnam where he lied about his service so he can at least say he was there'"
   ]
  },
  {
   "cell_type": "markdown",
   "metadata": {
    "deletable": false,
    "editable": false,
    "nbgrader": {
     "cell_type": "markdown",
     "checksum": "b170181366bfdd62b6d5df9e487479b3",
     "grade": false,
     "grade_id": "q6e-header",
     "locked": true,
     "schema_version": 2,
     "solution": false
    }
   },
   "source": [
    "## Question 6e:\n",
    "\n",
    "Now that we have this table in the tidy format, it becomes much easier to find the sentiment of each tweet: we can join the table with the lexicon table. \n",
    "\n",
    "Add a `polarity` column to the `trump` table.  The `polarity` column should contain the sum of the sentiment polarity of each word in the text of the tweet.\n",
    "\n",
    "**Hint** you will need to merge the `tidy_format` and `sent` tables and group the final answer.\n"
   ]
  },
  {
   "cell_type": "code",
   "execution_count": 50,
   "metadata": {
    "collapsed": false
   },
   "outputs": [
    {
     "data": {
      "text/plain": [
       "\"OLD\\n# Merge tidy_format and sent tables based on word, groupby tweet, then sum each word's polarity.\\n\\nsummed_polarity = tidy_format.merge(sent, left_on = 'word', right_index=True)['polarity'].groupby('id').sum()\\n\\n# Add polarity column with above series as values\\ntrump['polarity'] = summed_polarity\\ntrump.fillna(0, inplace=True)\\n# raise NotImplementedError()\\n\""
      ]
     },
     "execution_count": 50,
     "metadata": {},
     "output_type": "execute_result"
    }
   ],
   "source": [
    "'''OLD\n",
    "# Merge tidy_format and sent tables based on word, groupby tweet, then sum each word's polarity.\n",
    "\n",
    "summed_polarity = tidy_format.merge(sent, left_on = 'word', right_index=True)['polarity'].groupby('id').sum()\n",
    "\n",
    "# Add polarity column with above series as values\n",
    "trump['polarity'] = summed_polarity\n",
    "trump.fillna(0, inplace=True)\n",
    "# raise NotImplementedError()\n",
    "'''"
   ]
  },
  {
   "cell_type": "code",
   "execution_count": 51,
   "metadata": {
    "collapsed": false,
    "deletable": false,
    "nbgrader": {
     "cell_type": "code",
     "checksum": "5ad778cbb8a86c9255acac2d8799fa96",
     "grade": false,
     "grade_id": "q6e",
     "locked": false,
     "schema_version": 2,
     "solution": true
    },
    "tags": [
     "student"
    ]
   },
   "outputs": [
    {
     "name": "stderr",
     "output_type": "stream",
     "text": [
      "/srv/conda/envs/data100/lib/python3.6/site-packages/ipykernel_launcher.py:5: SettingWithCopyWarning: \n",
      "A value is trying to be set on a copy of a slice from a DataFrame.\n",
      "Try using .loc[row_indexer,col_indexer] = value instead\n",
      "\n",
      "See the caveats in the documentation: http://pandas.pydata.org/pandas-docs/stable/indexing.html#indexing-view-versus-copy\n",
      "  \"\"\"\n",
      "/srv/conda/envs/data100/lib/python3.6/site-packages/pandas/core/frame.py:3035: SettingWithCopyWarning: \n",
      "A value is trying to be set on a copy of a slice from a DataFrame\n",
      "\n",
      "See the caveats in the documentation: http://pandas.pydata.org/pandas-docs/stable/indexing.html#indexing-view-versus-copy\n",
      "  downcast=downcast, **kwargs)\n"
     ]
    }
   ],
   "source": [
    "# Merge tidy_format and sent tables based on word, groupby tweet, then sum each word's polarity.\n",
    "\n",
    "summed_polarity = tidy_format.merge(sent, how='inner', left_on = 'word', right_index=True)['polarity'].fillna(0).groupby('id').sum()\n",
    "# Add polarity column with above series as values\n",
    "trump['polarity'] = summed_polarity\n",
    "trump.fillna(0, inplace=True)\n",
    "# raise NotImplementedError()"
   ]
  },
  {
   "cell_type": "code",
   "execution_count": 52,
   "metadata": {
    "collapsed": true,
    "deletable": false,
    "editable": false,
    "nbgrader": {
     "cell_type": "code",
     "checksum": "ff43fac8ac5a95a2eef4bbb52405ad16",
     "grade": true,
     "grade_id": "q6e-tests",
     "locked": true,
     "points": 2,
     "schema_version": 2,
     "solution": false
    },
    "tags": [
     "test",
     "q05e"
    ]
   },
   "outputs": [],
   "source": [
    "assert np.allclose(trump.loc[744701872456536064, 'polarity'], 8.4)\n",
    "assert np.allclose(trump.loc[745304731346702336, 'polarity'], 2.5)\n",
    "assert np.allclose(trump.loc[744519497764184064, 'polarity'], 1.7)\n",
    "assert np.allclose(trump.loc[894661651760377856, 'polarity'], 0.2)\n",
    "assert np.allclose(trump.loc[894620077634592769, 'polarity'], 5.4)\n",
    "# If you fail this test, you dropped tweets with 0 polarity\n",
    "assert np.allclose(trump.loc[744355251365511169, 'polarity'], 0.0)"
   ]
  },
  {
   "cell_type": "markdown",
   "metadata": {
    "deletable": false,
    "editable": false,
    "nbgrader": {
     "cell_type": "markdown",
     "checksum": "1d52c721610f2c6a5e4862a1866e5abc",
     "grade": false,
     "grade_id": "a-note-on-vader",
     "locked": true,
     "schema_version": 2,
     "solution": false
    }
   },
   "source": [
    "Now we have a measure of the sentiment of each of his tweets! Note that this calculation is rather basic; you can read over the VADER readme to understand a more robust sentiment analysis.\n",
    "\n",
    "Now, run the cells below to see the most positive and most negative tweets from Trump in your dataset:"
   ]
  },
  {
   "cell_type": "code",
   "execution_count": 53,
   "metadata": {
    "collapsed": false,
    "deletable": false,
    "editable": false,
    "nbgrader": {
     "cell_type": "code",
     "checksum": "3ea0c421557a05c5a03c51515a5fdc78",
     "grade": false,
     "grade_id": "negative-tweets",
     "locked": true,
     "schema_version": 2,
     "solution": false
    }
   },
   "outputs": [
    {
     "name": "stdout",
     "output_type": "stream",
     "text": [
      "Most negative tweets:\n",
      "\n",
      "   horrible and cowardly terrorist attack on innocent and defenseless worshipers in egypt. the world cannot tolerate terrorism, we must defeat them militarily and discredit the extremist ideology that forms the basis of their existence!\n",
      "\n",
      "   \"@fiiibuster: @jeffzeleny pathetic - you have no sufficient evidence that donald trump did not suffer from voter fraud, shame! bad reporter.\n",
      "\n",
      "   democrat jon ossoff would be a disaster in congress. very weak on crime and illegal immigration, bad for jobs and wants higher taxes. say no\n",
      "\n",
      "   nyc terrorist was happy as he asked to hang isis flag in his hospital room. he killed 8 people, badly injured 12. should get death penalty!\n",
      "\n",
      "   yet another terrorist attack today in israel -- a father, shot at by a palestinian terrorist, was killed while: https://t.co/cv1hzkvbit\n"
     ]
    }
   ],
   "source": [
    "print('Most negative tweets:')\n",
    "for t in trump.sort_values('polarity').head()['text']:\n",
    "    print('\\n  ', t)"
   ]
  },
  {
   "cell_type": "code",
   "execution_count": 54,
   "metadata": {
    "collapsed": false,
    "deletable": false,
    "editable": false,
    "nbgrader": {
     "cell_type": "code",
     "checksum": "e0d27a82de94a1ce5cf64a2c72ffb7aa",
     "grade": false,
     "grade_id": "postive-tweets",
     "locked": true,
     "schema_version": 2,
     "solution": false
    }
   },
   "outputs": [
    {
     "name": "stdout",
     "output_type": "stream",
     "text": [
      "Most positive tweets:\n",
      "\n",
      "   thank you to linda bean of l.l.bean for your great support and courage. people will support you even more now. buy l.l.bean. @lbperfectmaine\n",
      "\n",
      "   it was my great honor to celebrate the opening of two extraordinary museums-the mississippi state history museum &amp; the mississippi civil rights museum. we pay solemn tribute to our heroes of the past &amp; dedicate ourselves to building a future of freedom, equality, justice &amp; peace. https://t.co/5akgvpv8aa\n",
      "\n",
      "   rt @ivankatrump: 2016 has been one of the most eventful and exciting years of my life. i wish you peace, joy, love and laughter. happy new…\n",
      "\n",
      "   today, it was my great honor to sign a new executive order to ensure veterans have the resources they need as they transition back to civilian life. we must ensure that our heroes are given the care and support they so richly deserve! https://t.co/0mdp9ddias https://t.co/lp2a8kcbap\n",
      "\n",
      "   it was my great honor to welcome mayor’s from across america to the wh. my administration will always support local government - and listen to the leaders who know their communities best. together, we will usher in a bold new era of peace and prosperity! https://t.co/dmyectnk0a https://t.co/rsv7v7r0dt\n"
     ]
    }
   ],
   "source": [
    "print('Most positive tweets:')\n",
    "for t in trump.sort_values('polarity', ascending=False).head()['text']:\n",
    "    print('\\n  ', t)"
   ]
  },
  {
   "cell_type": "markdown",
   "metadata": {
    "deletable": false,
    "editable": false,
    "nbgrader": {
     "cell_type": "markdown",
     "checksum": "0f2ca7db78e7689cdd731e11c9dcffb9",
     "grade": false,
     "grade_id": "q6g",
     "locked": true,
     "schema_version": 2,
     "solution": false
    }
   },
   "source": [
    "## Question 6g\n",
    "\n",
    "Plot the distribution of tweet sentiments broken down by whether the text of the tweet contains `nyt` or `fox`.  Then in the box below comment on what we observe?"
   ]
  },
  {
   "cell_type": "code",
   "execution_count": 55,
   "metadata": {
    "collapsed": false,
    "deletable": false,
    "nbgrader": {
     "cell_type": "code",
     "checksum": "4eb3b83e9188000a1a52427c06ea3c62",
     "grade": true,
     "grade_id": "q6g-answer",
     "locked": false,
     "points": 1,
     "schema_version": 2,
     "solution": true
    },
    "tags": [
     "student"
    ]
   },
   "outputs": [
    {
     "name": "stdout",
     "output_type": "stream",
     "text": [
      "words with nyt in them:\n",
      "['anything' 'nytimes' 'nyt' 'endakennytd' 'ifdanyt' 'anytime' 'nytimesdowd'\n",
      " 'jbnytk3fye' 'nytdavidbrooks' '2yyy6nyta9']\n",
      "words with fox in them:\n",
      "['foxnews' 'foxandfriends' 'foxbusiness' 'foxandfrlends' 'fox' 'klwn05ufox'\n",
      " 'foxconn' 'foxfriendsfirst' 'foxnewssunday' 'foxnation' 'foxbizalert'\n",
      " 'johnrobertsfox' 'jojo2foxy' 'dumpfoxnews' 'foxnewspolitics' 'aattabfoxx'\n",
      " 'fox2' 'hre7foxqpo']\n"
     ]
    },
    {
     "data": {
      "text/plain": [
       "Text(0,0.5,'fraction')"
      ]
     },
     "execution_count": 55,
     "metadata": {},
     "output_type": "execute_result"
    },
    {
     "data": {
      "image/png": "[encoded data removed]",
      "text/plain": [
       "<matplotlib.figure.Figure at 0x7f44509fcf98>"
      ]
     },
     "metadata": {},
     "output_type": "display_data"
    }
   ],
   "source": [
    "# Let's process NYT mentions first\n",
    "nyt_tweets = tidy_format[(tidy_format['word'].str.contains('nyt'))]\n",
    "\n",
    "# Check what values are in nyt_tweets\n",
    "print('words with nyt in them:')\n",
    "print(nyt_tweets.word.unique())\n",
    "\n",
    "# We notice that 'anything', 'endakennytd', 'ifdanyt', 'anytime' 'jbnytk3fye' and '2yyy6nyta9' \n",
    "# are not related, so remove them:\n",
    "nyt_tweets = tidy_format[(tidy_format['word'] == 'nyt') |\n",
    "                        (tidy_format['word'].str.contains('nytimes')) |\n",
    "                        (tidy_format['word'].str.contains('nytimesdowd')) |\n",
    "                        tidy_format['word'].str.contains('nytdavidbrooks')\n",
    "                        ]\n",
    "\n",
    "\n",
    "# Now let's process Fox-related tweets:\n",
    "fox_tweets = tidy_format[(tidy_format['word'].str.contains('fox'))]\n",
    "\n",
    "# Check what these values actually are:\n",
    "print('words with fox in them:')\n",
    "print(fox_tweets.word.unique())\n",
    "\n",
    "# We see the print line and thus filter out unrelated fox tweets:\n",
    "fox_tweets = fox_tweets[(fox_tweets['word'] == 'foxnews') |\n",
    "                       (fox_tweets['word'] == 'foxandfriends') |\n",
    "                       (fox_tweets['word'] == 'foxbusiness') |\n",
    "                       (fox_tweets['word'] == 'foxandfrlends') |\n",
    "                       (fox_tweets['word'] == 'fox') |\n",
    "                        (fox_tweets['word'] == 'foxfriendsfirst') |\n",
    "                        (fox_tweets['word'] == 'foxnewssunday') |\n",
    "                        (fox_tweets['word'] == 'foxnation') |\n",
    "                        (fox_tweets['word'] == 'foxbizalert') |\n",
    "                        (fox_tweets['word'] == 'johnrobertsfox') |\n",
    "                        (fox_tweets['word'] == 'dumpfoxnews') |\n",
    "                        (fox_tweets['word'] == 'foxnewspolitics')\n",
    "                       ]\n",
    "\n",
    "# Merge each with trump table to get total polarity of tweet\n",
    "nyt_pol = nyt_tweets.merge(trump, right_index=True, left_index=True)['polarity']\n",
    "fox_pol = fox_tweets.merge(trump, right_index=True, left_index=True)['polarity']\n",
    "\n",
    "# Graph this:\n",
    "sns.distplot(nyt_pol, label = 'NYT tweet polarity')\n",
    "sns.distplot(fox_pol, label = 'Fox tweet polarity')\n",
    "plt.legend()\n",
    "plt.title('NYT vs Fox Tweet Polarity')\n",
    "plt.ylabel('fraction')\n",
    "\n",
    "# YOUR CODE HERE\n",
    "# raise NotImplementedError()"
   ]
  },
  {
   "cell_type": "markdown",
   "metadata": {
    "deletable": false,
    "editable": false,
    "nbgrader": {
     "cell_type": "markdown",
     "checksum": "88e3a81cb1d24df731e4d72d10f08d9f",
     "grade": false,
     "grade_id": "comment-on-faux-news",
     "locked": true,
     "schema_version": 2,
     "solution": false
    }
   },
   "source": [
    "#### Comment on what you observe:"
   ]
  },
  {
   "cell_type": "markdown",
   "metadata": {
    "deletable": false,
    "nbgrader": {
     "cell_type": "markdown",
     "checksum": "07f011cfd9a34c2b3314f2a3aa210187",
     "grade": true,
     "grade_id": "q6g-written",
     "locked": false,
     "points": 1,
     "schema_version": 2,
     "solution": true
    }
   },
   "source": [
    "Based on our results, we see that Trump tends to talk more positively about Fox News. Though there are some negative tweets, we see the distribution (bimodal in shape) has an average polarity somewhere around +2.5, with relatively similar tails in both positive and negative direction. \n",
    "\n",
    "On the other hand, the NYT gets more negative tweets directed at it. This distribution seems to have an average of around -4 and is somewhat Guassian with a slight bump at 0. Its tails are relatively similar, though we can see that there are no tweets with polarity greater than +2.5. On the other hand, there are some really negative tweets less than -10 polarity! \n",
    "\n",
    "Thus, comparing the two, we get the picture that Trump may favor Fox news (or he at least has a more positive sentiment when tweeting about it). But, as is always the case in Data Science, there are still some things that need to be controlled. Take this tweet as an example (ID = 831830548565852160)\n",
    "\n",
    ">\"the fake news media is going crazy with their conspiracy theories and blind hatred. @msnbc &amp; @cnn are unwatchable. @foxandfriends is great!\"\n",
    "\n",
    "Or this one:\n",
    "\n",
    ">\"rt @foxandfriends: president trump vows america will respond to north korean threats with \"fire &amp; fury\" in a warning to the rogue nation\"\n",
    "\n",
    "These are the #2 and #3 lowest rated polarity tweets that mention fox (#1 is about Megyn Kelly... yikes). As we can see, the polarity measure only lets us analyze the *overall* sentiment of the tweet--and not necesarily the president's sentiment towards each news outlet. So, in fact, Trump may have an even more positive perception of Fox than this data may lead us to believe!\n",
    "\n",
    "This makes sense, and thus must be a caveat when considering this data: polarity does **not** control for context! In the end, despite our best efforts, it is really hard to understand how the context plays a roll in overall sentiment. Only a human brain (or really good ML program) can get a good grasp of this collection of tweets!"
   ]
  },
  {
   "cell_type": "markdown",
   "metadata": {
    "deletable": false,
    "editable": false,
    "nbgrader": {
     "cell_type": "markdown",
     "checksum": "9fd71e88bb7adb7f72069aae6032647d",
     "grade": false,
     "grade_id": "q7-header",
     "locked": true,
     "schema_version": 2,
     "solution": false
    }
   },
   "source": [
    "## Question 7: Engagement\n",
    "\n",
    "## Question 7a\n",
    "\n",
    "Which of Trump's tweets had the most retweets? Were there certain words that often led to more retweets?\n",
    "\n",
    "We can find this out by using our `tidy_format` DataFrame. For each word in the `tidy_format` DF, find out the number of retweets that its tweet got. Filter out words that didn't appear in at least 25 tweets, find out the median number of retweets each word got, and save the top 20 most retweeted words into a DataFrame called `top_20`. Your `top_20` table should have this format:\n",
    "\n",
    "<table border=\"1\" class=\"dataframe\">\n",
    "  <thead>\n",
    "    <tr style=\"text-align: right;\">\n",
    "      <th></th>\n",
    "      <th>retweet_count</th>\n",
    "    </tr>\n",
    "    <tr>\n",
    "      <th>word</th>\n",
    "      <th></th>\n",
    "    </tr>\n",
    "  </thead>\n",
    "  <tbody>\n",
    "    <tr>\n",
    "      <th>fake</th>\n",
    "      <td>22963.0</td>\n",
    "    </tr>\n",
    "    <tr>\n",
    "      <th>news</th>\n",
    "      <td>20463.0</td>\n",
    "    </tr>\n",
    "    <tr>\n",
    "      <th>ds100</th>\n",
    "      <td>20432.0</td>\n",
    "    </tr>\n",
    "    <tr>\n",
    "      <th>great</th>\n",
    "      <td>20159.0</td>\n",
    "    </tr>\n",
    "    <tr>\n",
    "      <th>class</th>\n",
    "      <td>20121.0</td>\n",
    "    </tr>\n",
    "  </tbody>\n",
    "</table>"
   ]
  },
  {
   "cell_type": "code",
   "execution_count": 56,
   "metadata": {
    "collapsed": true
   },
   "outputs": [],
   "source": [
    "rt_frame = trump['retweet_count'].to_frame()\n",
    "rt_frame = rt_frame.merge(tidy_format, left_index=True, right_index=True)\n",
    "word_counts = rt_frame.groupby('word').count()\n",
    "word_counts = word_counts[word_counts['num'] >= 25]\n"
   ]
  },
  {
   "cell_type": "code",
   "execution_count": 57,
   "metadata": {
    "collapsed": false
   },
   "outputs": [
    {
     "data": {
      "text/html": [
       "<div>\n",
       "<style scoped>\n",
       "    .dataframe tbody tr th:only-of-type {\n",
       "        vertical-align: middle;\n",
       "    }\n",
       "\n",
       "    .dataframe tbody tr th {\n",
       "        vertical-align: top;\n",
       "    }\n",
       "\n",
       "    .dataframe thead th {\n",
       "        text-align: right;\n",
       "    }\n",
       "</style>\n",
       "<table border=\"1\" class=\"dataframe\">\n",
       "  <thead>\n",
       "    <tr style=\"text-align: right;\">\n",
       "      <th></th>\n",
       "      <th>retweet median</th>\n",
       "    </tr>\n",
       "    <tr>\n",
       "      <th>word</th>\n",
       "      <th></th>\n",
       "    </tr>\n",
       "  </thead>\n",
       "  <tbody>\n",
       "    <tr>\n",
       "      <th>nfl</th>\n",
       "      <td>24598.0</td>\n",
       "    </tr>\n",
       "    <tr>\n",
       "      <th>daca</th>\n",
       "      <td>24354.0</td>\n",
       "    </tr>\n",
       "    <tr>\n",
       "      <th>anthem</th>\n",
       "      <td>24200.5</td>\n",
       "    </tr>\n",
       "    <tr>\n",
       "      <th>fbi</th>\n",
       "      <td>23811.0</td>\n",
       "    </tr>\n",
       "    <tr>\n",
       "      <th>unemployment</th>\n",
       "      <td>23718.5</td>\n",
       "    </tr>\n",
       "    <tr>\n",
       "      <th>russia</th>\n",
       "      <td>23503.0</td>\n",
       "    </tr>\n",
       "    <tr>\n",
       "      <th>fake</th>\n",
       "      <td>23134.5</td>\n",
       "    </tr>\n",
       "    <tr>\n",
       "      <th>finally</th>\n",
       "      <td>23087.0</td>\n",
       "    </tr>\n",
       "    <tr>\n",
       "      <th>schumer</th>\n",
       "      <td>22734.0</td>\n",
       "    </tr>\n",
       "    <tr>\n",
       "      <th>collusion</th>\n",
       "      <td>22628.0</td>\n",
       "    </tr>\n",
       "    <tr>\n",
       "      <th>billion</th>\n",
       "      <td>22004.5</td>\n",
       "    </tr>\n",
       "    <tr>\n",
       "      <th>iran</th>\n",
       "      <td>21849.0</td>\n",
       "    </tr>\n",
       "    <tr>\n",
       "      <th>russian</th>\n",
       "      <td>21576.0</td>\n",
       "    </tr>\n",
       "    <tr>\n",
       "      <th>safety</th>\n",
       "      <td>21159.5</td>\n",
       "    </tr>\n",
       "    <tr>\n",
       "      <th>god</th>\n",
       "      <td>20667.0</td>\n",
       "    </tr>\n",
       "    <tr>\n",
       "      <th>news</th>\n",
       "      <td>20160.0</td>\n",
       "    </tr>\n",
       "    <tr>\n",
       "      <th>taken</th>\n",
       "      <td>19909.0</td>\n",
       "    </tr>\n",
       "    <tr>\n",
       "      <th>comey</th>\n",
       "      <td>19906.0</td>\n",
       "    </tr>\n",
       "    <tr>\n",
       "      <th>democrats</th>\n",
       "      <td>19790.0</td>\n",
       "    </tr>\n",
       "    <tr>\n",
       "      <th>months</th>\n",
       "      <td>19787.0</td>\n",
       "    </tr>\n",
       "    <tr>\n",
       "      <th>stock</th>\n",
       "      <td>19737.0</td>\n",
       "    </tr>\n",
       "    <tr>\n",
       "      <th>public</th>\n",
       "      <td>19458.0</td>\n",
       "    </tr>\n",
       "    <tr>\n",
       "      <th>based</th>\n",
       "      <td>19353.5</td>\n",
       "    </tr>\n",
       "    <tr>\n",
       "      <th>stories</th>\n",
       "      <td>19237.0</td>\n",
       "    </tr>\n",
       "    <tr>\n",
       "      <th>lives</th>\n",
       "      <td>19199.5</td>\n",
       "    </tr>\n",
       "    <tr>\n",
       "      <th>korea</th>\n",
       "      <td>19158.0</td>\n",
       "    </tr>\n",
       "    <tr>\n",
       "      <th>dnc</th>\n",
       "      <td>19103.0</td>\n",
       "    </tr>\n",
       "    <tr>\n",
       "      <th>market</th>\n",
       "      <td>19010.5</td>\n",
       "    </tr>\n",
       "    <tr>\n",
       "      <th>nbc</th>\n",
       "      <td>18994.0</td>\n",
       "    </tr>\n",
       "    <tr>\n",
       "      <th>year</th>\n",
       "      <td>18703.0</td>\n",
       "    </tr>\n",
       "    <tr>\n",
       "      <th>...</th>\n",
       "      <td>...</td>\n",
       "    </tr>\n",
       "    <tr>\n",
       "      <th>tickets</th>\n",
       "      <td>4632.5</td>\n",
       "    </tr>\n",
       "    <tr>\n",
       "      <th>mr</th>\n",
       "      <td>4556.0</td>\n",
       "    </tr>\n",
       "    <tr>\n",
       "      <th>interview</th>\n",
       "      <td>4525.5</td>\n",
       "    </tr>\n",
       "    <tr>\n",
       "      <th>2</th>\n",
       "      <td>4481.0</td>\n",
       "    </tr>\n",
       "    <tr>\n",
       "      <th>video</th>\n",
       "      <td>4466.0</td>\n",
       "    </tr>\n",
       "    <tr>\n",
       "      <th>makeamericagreatagain</th>\n",
       "      <td>4461.5</td>\n",
       "    </tr>\n",
       "    <tr>\n",
       "      <th>ted</th>\n",
       "      <td>4374.0</td>\n",
       "    </tr>\n",
       "    <tr>\n",
       "      <th>tonight</th>\n",
       "      <td>4223.0</td>\n",
       "    </tr>\n",
       "    <tr>\n",
       "      <th>votetrump</th>\n",
       "      <td>4128.0</td>\n",
       "    </tr>\n",
       "    <tr>\n",
       "      <th>seanhannity</th>\n",
       "      <td>4097.0</td>\n",
       "    </tr>\n",
       "    <tr>\n",
       "      <th>south</th>\n",
       "      <td>4016.0</td>\n",
       "    </tr>\n",
       "    <tr>\n",
       "      <th>event</th>\n",
       "      <td>4011.5</td>\n",
       "    </tr>\n",
       "    <tr>\n",
       "      <th>marco</th>\n",
       "      <td>3951.5</td>\n",
       "    </tr>\n",
       "    <tr>\n",
       "      <th>trump2016</th>\n",
       "      <td>3933.0</td>\n",
       "    </tr>\n",
       "    <tr>\n",
       "      <th>bush</th>\n",
       "      <td>3847.0</td>\n",
       "    </tr>\n",
       "    <tr>\n",
       "      <th>realdonaldtrump</th>\n",
       "      <td>3748.0</td>\n",
       "    </tr>\n",
       "    <tr>\n",
       "      <th>donaldtrump</th>\n",
       "      <td>3693.0</td>\n",
       "    </tr>\n",
       "    <tr>\n",
       "      <th>donaldjtrumpjr</th>\n",
       "      <td>3693.0</td>\n",
       "    </tr>\n",
       "    <tr>\n",
       "      <th>trumptrain</th>\n",
       "      <td>3536.5</td>\n",
       "    </tr>\n",
       "    <tr>\n",
       "      <th>fox</th>\n",
       "      <td>3484.5</td>\n",
       "    </tr>\n",
       "    <tr>\n",
       "      <th>cruz</th>\n",
       "      <td>3376.0</td>\n",
       "    </tr>\n",
       "    <tr>\n",
       "      <th>jeb</th>\n",
       "      <td>3371.0</td>\n",
       "    </tr>\n",
       "    <tr>\n",
       "      <th>nevada</th>\n",
       "      <td>3361.0</td>\n",
       "    </tr>\n",
       "    <tr>\n",
       "      <th>iowa</th>\n",
       "      <td>3267.5</td>\n",
       "    </tr>\n",
       "    <tr>\n",
       "      <th>rubio</th>\n",
       "      <td>3220.5</td>\n",
       "    </tr>\n",
       "    <tr>\n",
       "      <th>oreillyfactor</th>\n",
       "      <td>3000.0</td>\n",
       "    </tr>\n",
       "    <tr>\n",
       "      <th>enjoy</th>\n",
       "      <td>2887.0</td>\n",
       "    </tr>\n",
       "    <tr>\n",
       "      <th>interviewed</th>\n",
       "      <td>2866.0</td>\n",
       "    </tr>\n",
       "    <tr>\n",
       "      <th>hampshire</th>\n",
       "      <td>2665.0</td>\n",
       "    </tr>\n",
       "    <tr>\n",
       "      <th>megynkelly</th>\n",
       "      <td>2492.0</td>\n",
       "    </tr>\n",
       "  </tbody>\n",
       "</table>\n",
       "<p>730 rows × 1 columns</p>\n",
       "</div>"
      ],
      "text/plain": [
       "                       retweet median\n",
       "word                                 \n",
       "nfl                           24598.0\n",
       "daca                          24354.0\n",
       "anthem                        24200.5\n",
       "fbi                           23811.0\n",
       "unemployment                  23718.5\n",
       "russia                        23503.0\n",
       "fake                          23134.5\n",
       "finally                       23087.0\n",
       "schumer                       22734.0\n",
       "collusion                     22628.0\n",
       "billion                       22004.5\n",
       "iran                          21849.0\n",
       "russian                       21576.0\n",
       "safety                        21159.5\n",
       "god                           20667.0\n",
       "news                          20160.0\n",
       "taken                         19909.0\n",
       "comey                         19906.0\n",
       "democrats                     19790.0\n",
       "months                        19787.0\n",
       "stock                         19737.0\n",
       "public                        19458.0\n",
       "based                         19353.5\n",
       "stories                       19237.0\n",
       "lives                         19199.5\n",
       "korea                         19158.0\n",
       "dnc                           19103.0\n",
       "market                        19010.5\n",
       "nbc                           18994.0\n",
       "year                          18703.0\n",
       "...                               ...\n",
       "tickets                        4632.5\n",
       "mr                             4556.0\n",
       "interview                      4525.5\n",
       "2                              4481.0\n",
       "video                          4466.0\n",
       "makeamericagreatagain          4461.5\n",
       "ted                            4374.0\n",
       "tonight                        4223.0\n",
       "votetrump                      4128.0\n",
       "seanhannity                    4097.0\n",
       "south                          4016.0\n",
       "event                          4011.5\n",
       "marco                          3951.5\n",
       "trump2016                      3933.0\n",
       "bush                           3847.0\n",
       "realdonaldtrump                3748.0\n",
       "donaldtrump                    3693.0\n",
       "donaldjtrumpjr                 3693.0\n",
       "trumptrain                     3536.5\n",
       "fox                            3484.5\n",
       "cruz                           3376.0\n",
       "jeb                            3371.0\n",
       "nevada                         3361.0\n",
       "iowa                           3267.5\n",
       "rubio                          3220.5\n",
       "oreillyfactor                  3000.0\n",
       "enjoy                          2887.0\n",
       "interviewed                    2866.0\n",
       "hampshire                      2665.0\n",
       "megynkelly                     2492.0\n",
       "\n",
       "[730 rows x 1 columns]"
      ]
     },
     "execution_count": 57,
     "metadata": {},
     "output_type": "execute_result"
    }
   ],
   "source": [
    "top_20 = rt_frame.merge(word_counts, left_on='word', right_index=True).groupby('word').median().sort_values(by = 'retweet_count_x', ascending=False)\n",
    "top_20 = top_20['retweet_count_x'].to_frame()\n",
    "top_20 = top_20.rename(columns= {'retweet_count_x' : 'retweet median'})\n",
    "top_20"
   ]
  },
  {
   "cell_type": "code",
   "execution_count": 58,
   "metadata": {
    "collapsed": false
   },
   "outputs": [
    {
     "name": "stdout",
     "output_type": "stream",
     "text": [
      "\n"
     ]
    }
   ],
   "source": [
    "\"\"\"reset1 = tidy_format.reset_index()\n",
    "reset2 = trump.reset_index()\n",
    "merged = reset1.merge(reset2, left_index=True, right_index=True)\n",
    "counts = merged.groupby('word').agg('count')\n",
    "at_least25 = counts[counts['retweet_count'] >= 25]\n",
    "at_least25.merge(merged, left_index = True, right_on = 'word')\n",
    "at_least25\"\"\"\n",
    "print()"
   ]
  },
  {
   "cell_type": "code",
   "execution_count": 59,
   "metadata": {
    "collapsed": true,
    "deletable": false,
    "nbgrader": {
     "cell_type": "code",
     "checksum": "fd0b39f47c0462c1c6da4a8c31df384c",
     "grade": false,
     "grade_id": "q7a",
     "locked": false,
     "schema_version": 2,
     "solution": true
    },
    "tags": [
     "student"
    ]
   },
   "outputs": [],
   "source": [
    "# Narrow down trump df to get retweets\n",
    "rt_frame = trump['retweet_count'].to_frame()\n",
    "\n",
    "# Merge with tidy_frame so we can get retweets by tweet (and word)\n",
    "rt_frame = rt_frame.merge(tidy_format, left_index=True, right_index=True)\n",
    "\n",
    "# Groupby word so we can narrow down to words used more than 25 times\n",
    "word_counts = rt_frame.groupby('word').count()\n",
    "word_counts = word_counts[word_counts['num'] >= 25]\n",
    "\n",
    "# Merge rt_frame with word_counts, get median and then sort counts so we can see\n",
    "# Which words get the most retweets\n",
    "top_20 = rt_frame.merge(word_counts, left_on='word', right_index=True).groupby('word').median().sort_values(by = 'retweet_count_x', ascending=False)\n",
    "top_20 = top_20['retweet_count_x'].to_frame()\n",
    "top_20 = top_20.rename(columns= {'retweet_count_x' : 'retweet_count'})\n",
    "top_20 = top_20.head(20)\n",
    "\n",
    "\n",
    "\n",
    "# YOUR CODE HERE\n",
    "# raise NotImplementedError()"
   ]
  },
  {
   "cell_type": "code",
   "execution_count": 60,
   "metadata": {
    "collapsed": true,
    "deletable": false,
    "editable": false,
    "nbgrader": {
     "cell_type": "code",
     "checksum": "cdede715af02f26ce48b6334a5c7dea7",
     "grade": true,
     "grade_id": "q7a-test",
     "locked": true,
     "points": 1,
     "schema_version": 2,
     "solution": false
    },
    "tags": [
     "test",
     "q07a"
    ]
   },
   "outputs": [],
   "source": [
    "#### NOTE This Test is kind of iffy (very variable) - needs review before publishing\n",
    "\n",
    "# Although it can't be guaranteed, it's very likely that the top 7 words will still be\n",
    "# in the top 20 words in the next month.\n",
    "assert 'daca'     in top_20.index\n",
    "assert 'nfl'     in top_20.index\n",
    "assert 'anthem' in top_20.index\n",
    "assert 'fbi'    in top_20.index\n",
    "assert 'russia'    in top_20.index\n"
   ]
  },
  {
   "cell_type": "markdown",
   "metadata": {
    "deletable": false,
    "editable": false,
    "nbgrader": {
     "cell_type": "markdown",
     "checksum": "a4a12be8f88ac931b51b85a1ffa5cfde",
     "grade": false,
     "grade_id": "bar-chart-results",
     "locked": true,
     "schema_version": 2,
     "solution": false
    }
   },
   "source": [
    "Here's a bar chart of your results:"
   ]
  },
  {
   "cell_type": "code",
   "execution_count": 61,
   "metadata": {
    "collapsed": false,
    "deletable": false,
    "editable": false,
    "nbgrader": {
     "cell_type": "code",
     "checksum": "4a962cdd19dad39e5f8aa5fe2ff096e4",
     "grade": false,
     "grade_id": "top-retweets",
     "locked": true,
     "schema_version": 2,
     "solution": false
    }
   },
   "outputs": [
    {
     "data": {
      "image/png": "[encoded data removed]",
      "text/plain": [
       "<matplotlib.figure.Figure at 0x7f445af07630>"
      ]
     },
     "metadata": {},
     "output_type": "display_data"
    }
   ],
   "source": [
    "top_20['retweet_count'].sort_values().plot.barh(figsize=(10, 8));"
   ]
  },
  {
   "cell_type": "markdown",
   "metadata": {
    "deletable": false,
    "editable": false,
    "nbgrader": {
     "cell_type": "markdown",
     "checksum": "80fdb9c61b546b8a813a3ba015947106",
     "grade": false,
     "grade_id": "q7b",
     "locked": true,
     "schema_version": 2,
     "solution": false
    }
   },
   "source": [
    "## Question 7b\n",
    "\n",
    "The phrase \"fake news\" is apparently really popular! We can conclude that Trump's tweets containing \"fake\" and/or \"news\" result in the most retweets relative to words his other tweets. Or can we?\n",
    "\n",
    "Consider each of the statements about possible confounding factors below. State whether each statement is true or false and explain. If the statement is true, state whether the confounding factor could have made \"fake\" and/or \"news\" higher on our list than they should be.\n",
    "\n",
    "1. We didn't restrict our word list to nouns, so we have unhelpful words like \"let\" and \"any\" in our result.\n",
    "1. We didn't remove hashtags in our text, so we have duplicate words (eg. #great and great).\n",
    "1. We didn't account for the fact that Trump's follower count has increased over time."
   ]
  },
  {
   "cell_type": "markdown",
   "metadata": {
    "deletable": false,
    "nbgrader": {
     "cell_type": "markdown",
     "checksum": "577b78199cd4361dd51b92774e09beb0",
     "grade": true,
     "grade_id": "q7b-answer",
     "locked": false,
     "points": 1,
     "schema_version": 2,
     "solution": true
    },
    "tags": [
     "student",
     "written"
    ]
   },
   "source": [
    "1. False: words like 'let' and 'any' do matter for VADER analysis. They help the program pick up on context clues and other things such as this (in readme: \"using degree modifiers to alter sentiment intensity (e.g., intensity boosters such as \"very\" and intensity dampeners such as \"kind of\").\" So 'any' could change the tweet polarity of one like this: \"there is not ANY fake news! Sad!\" In fact, only having nouns would hurt our data. For example, adjectives such as 'bad', 'stupid' or 'bigly' help get more accurate VADER readings. Lastly, we took the median of retweet counts for all these words. Thus, common words are not skewing our data as they get filtered out with an average. \n",
    "2. False: we did remove hashtags! In fact, there are hastags like #fakenews that may actually lead to us undercounting the effect of 'fake' or 'news' on retweets (as it appears as 'fakenews' in our anaylsis)\n",
    "3. True: Trump's follower count has steadily grown. Thus, perhaps a slew of tweets in 2014 containing \"STANFORD\" and \"LOW ENERGY\" was retweeted by 4/5ths of all his followers. However, he only had 5m followers then. Now, when he tweets something to his 50 million followers and only 1/5th tweet it, those words would be more 'popular' than the ones tweeted earlier. "
   ]
  },
  {
   "cell_type": "markdown",
   "metadata": {
    "deletable": false,
    "editable": false,
    "nbgrader": {
     "cell_type": "markdown",
     "checksum": "ba7fba396f9b97171983b6b3b2f774e2",
     "grade": false,
     "grade_id": "q8",
     "locked": true,
     "schema_version": 2,
     "solution": false
    }
   },
   "source": [
    "## Question 8\n",
    "\n",
    "Using the `trump` tweets construct an interesting plot describing a property of the data and discuss what you found below.\n",
    "\n",
    "**Ideas:**\n",
    "\n",
    "1. How has the sentiment changed with length of the tweets?\n",
    "1. Does sentiment affect retweet count?\n",
    "1. Are retweets more negative than regular tweets?\n",
    "1. Are there any spikes in the number of retweets and do the correspond to world events? \n",
    "1. *Bonus:* How many Russian twitter bots follow Trump? \n",
    "\n",
    "You can look at other data sources and even tweets.\n"
   ]
  },
  {
   "cell_type": "markdown",
   "metadata": {},
   "source": [
    "### My extension of this project:\n",
    "\n",
    "First off, Twitter makes it really hard to do much in terms of tracking users who follow(ed) Trump. It's not easy to find who retweeted/favorited his tweets and who followed him (past 100 users). I tried this to no avail. Furthermore, we cannot see snapshots of this in time. This is key because recently Twitter deleted *thousands and thousands* of bot accounts related to the Internet Research Agency! Once deleted, we cannot access any information about these accounts. I tried to find cached versions, which were of no help (that I could find in limited time). It does make sense why Twitter would not want us seeing this, though. \n",
    "\n",
    "But, there is data from Russian-run Twitter accounts, found here:\n",
    "https://www.nbcnews.com/tech/social-media/now-available-more-200-000-deleted-russian-troll-tweets-n844731\n",
    "The crazy part is these are only about 3000 some accounts! In total, they produced over 200k tweets over the span of a year (2016)! So, below I analyze them and bring it back to our Trump tweet and polarity analysis. "
   ]
  },
  {
   "cell_type": "code",
   "execution_count": 97,
   "metadata": {
    "collapsed": true
   },
   "outputs": [],
   "source": [
    "# Read bot user list and bot tweet list as found in folder (predownloaded)\n",
    "bot_users = pd.read_csv('bot_users.csv')\n",
    "bot_tweets = pd.read_csv('bot_tweets.csv')"
   ]
  },
  {
   "cell_type": "markdown",
   "metadata": {},
   "source": [
    "### Look at bot tweets over time & related them to election cycle:"
   ]
  },
  {
   "cell_type": "code",
   "execution_count": 98,
   "metadata": {
    "collapsed": false
   },
   "outputs": [
    {
     "data": {
      "text/plain": [
       "<matplotlib.legend.Legend at 0x7f444ec1f9b0>"
      ]
     },
     "execution_count": 98,
     "metadata": {},
     "output_type": "execute_result"
    },
    {
     "data": {
      "image/png": "[encoded data removed]",
      "text/plain": [
       "<matplotlib.figure.Figure at 0x7f444c053908>"
      ]
     },
     "metadata": {},
     "output_type": "display_data"
    }
   ],
   "source": [
    "# Reformat dates\n",
    "reformat_dates = pd.to_datetime(bot_tweets['created_str'])\n",
    "bot_tweets['date'] = reformat_dates\n",
    "\n",
    "# Get counts\n",
    "counts = bot_tweets.set_index('date').groupby(pd.Grouper(freq='D')).count()['user_key']\n",
    "\n",
    "# Plot graph\n",
    "fig, ax = plt.subplots(figsize=(20, 12))\n",
    "sns.set_style(\"darkgrid\")\n",
    "plt.ylabel('total bot tweets per day')\n",
    "plt.xlabel('date')\n",
    "plt.title('Number of Bot Tweets per day')\n",
    "plt.plot(counts.index, counts, color='teal', label='Number of bot tweets', marker='.')\n",
    "xmin = datetime.datetime(2016, 3, 1)\n",
    "xmax = datetime.datetime(2017, 2, 1)\n",
    "plt.xlim(left=xmin, right=xmax)\n",
    "\n",
    "# Key dates that correspond to large tweet numbers\n",
    "election_date = datetime.datetime(2016, 11, 8)\n",
    "democratic_convention = datetime.datetime(2016, 7, 25)\n",
    "republican_convention = datetime.datetime(2016, 7, 18)\n",
    "wikileaks = datetime.datetime(2016, 10, 7)\n",
    "nyc_bomb = datetime.datetime(2016, 9, 17)\n",
    "clinton_faints = datetime.datetime(2016, 9, 11)\n",
    "last_debate = datetime.datetime(2016, 10, 19)\n",
    "inaug = datetime.datetime(2017, 1, 20)\n",
    "\n",
    "\n",
    "# Plot key date lines\n",
    "plt.axvline(x=election_date, color='#e6194b', label = 'Election', alpha=0.5,linewidth=5)\n",
    "plt.axvline(x=democratic_convention, color='#3cb44b', label = 'Democratic convention', alpha=0.5, linewidth=5)\n",
    "plt.axvline(x=republican_convention, color='#f58231', label = 'Republican Convention', alpha=0.5, linewidth=5)\n",
    "plt.axvline(x=wikileaks, color='#ff9408', label = 'Wikileaks Email Release', alpha=0.5, linewidth=5)\n",
    "plt.axvline(x=nyc_bomb, color='#f032e6', label = 'Bomb Explodes in NYC', alpha=0.5, linewidth=5)\n",
    "plt.axvline(x=last_debate, color='#800000', label = 'Last presidential debate', alpha=0.5, linewidth=5)\n",
    "plt.axvline(x=last_debate, color='#e6194b', label = 'Inauguration', alpha=0.5, linewidth=5)\n",
    "\n",
    "plt.legend()"
   ]
  },
  {
   "cell_type": "markdown",
   "metadata": {},
   "source": [
    "A few interesting things here:\n",
    "\n",
    "1. The number of tweets put out by the accounts began to increase almost immediately following Trump accepting the RNC nomination. From there on, the average per day increased dramatically. \n",
    "\n",
    "2. The days with the most tweets tended to coincide with key events that occured on the campaign trail.\n",
    "\n",
    "3. Tweets begin to drop off following the election\n",
    "\n",
    "4. The wikileaks email release coinciding with the highest daily count of bot tweets is interesting. Of course, this is expected as it was a big news story. However, it is rumored that Russia supplied wikileaks with these emails. It could have been a coordinated effort, though more analysis needs to be done to make this assertion.\n",
    "\n",
    "There's a good chance lots of these Tweets relate to the election. After all, Mueller did just release a bunch of charges aimed at the company that ran these bots. Good enough for me! But, of course, there are lots of things we'd need to control for in order to have an accurate analysis (e.g. does this show a concerted effort? Or are these spikes/sentiments just a reflection of how the greater twitter universe felt?). But, anyways, it's still cool to see all this data!\n",
    "\n"
   ]
  },
  {
   "cell_type": "code",
   "execution_count": 99,
   "metadata": {
    "collapsed": false
   },
   "outputs": [
    {
     "name": "stdout",
     "output_type": "stream",
     "text": [
      "Number of times Trump is mentioned:\n",
      "3276\n"
     ]
    }
   ],
   "source": [
    "# How many times did they mention Trump?:\n",
    "bot_tweets['text'] = bot_tweets['text'].fillna('0')\n",
    "bot_tweets['mentions'] = bot_tweets['mentions'].str.strip('[]')\n",
    "trump_mentions = bot_tweets[bot_tweets['mentions'].str.contains('realdonaldtrump')]\n",
    "mentioncount = trump_mentions['mentions'].count()\n",
    "print('Number of times Trump is mentioned:')\n",
    "print(mentioncount)\n",
    "# trump_mentions"
   ]
  },
  {
   "cell_type": "code",
   "execution_count": 100,
   "metadata": {
    "collapsed": true
   },
   "outputs": [],
   "source": [
    "# How many times did bots retweet Trump tweets?\n",
    "# Notice our data isn't so hot--tweet ID is not always included w/ retweets\n",
    "# Thus mentions don't suffice and more looking into the data is needed\n",
    "trump_rts = bot_tweets[bot_tweets['text'].str.contains('RT @realDonaldTrump')]"
   ]
  },
  {
   "cell_type": "code",
   "execution_count": 101,
   "metadata": {
    "collapsed": false
   },
   "outputs": [
    {
     "name": "stderr",
     "output_type": "stream",
     "text": [
      "/srv/conda/envs/data100/lib/python3.6/site-packages/ipykernel_launcher.py:2: SettingWithCopyWarning: \n",
      "A value is trying to be set on a copy of a slice from a DataFrame.\n",
      "Try using .loc[row_indexer,col_indexer] = value instead\n",
      "\n",
      "See the caveats in the documentation: http://pandas.pydata.org/pandas-docs/stable/indexing.html#indexing-view-versus-copy\n",
      "  \n"
     ]
    }
   ],
   "source": [
    "# Lets merge trump and trump rts to see what was retweeted\n",
    "trump_rts['retweeted_status_id'] = trump_rts['retweeted_status_id'].fillna(0)\n",
    "bots_rts = trump.merge(trump_rts, left_index=True, right_on = 'retweeted_status_id')"
   ]
  },
  {
   "cell_type": "code",
   "execution_count": 102,
   "metadata": {
    "collapsed": false
   },
   "outputs": [
    {
     "data": {
      "text/plain": [
       "Text(0.5,1,'Polarity of Trump Bot Retweets')"
      ]
     },
     "execution_count": 102,
     "metadata": {},
     "output_type": "execute_result"
    },
    {
     "data": {
      "image/png": "[encoded data removed]",
      "text/plain": [
       "<matplotlib.figure.Figure at 0x7f444c9fae80>"
      ]
     },
     "metadata": {},
     "output_type": "display_data"
    }
   ],
   "source": [
    "# What was the polarity of the Tweets they retreated?\n",
    "# I follow steps as above, modified slightly\n",
    "polarity_bot_rts = bots_rts['polarity']\n",
    "sns.distplot(polarity_bot_rts, label = 'Polarity of Bot Rts', color='#658b38')\n",
    "plt.legend()\n",
    "plt.title('Polarity of Trump Bot Retweets')"
   ]
  },
  {
   "cell_type": "code",
   "execution_count": 68,
   "metadata": {
    "collapsed": false
   },
   "outputs": [
    {
     "data": {
      "text/plain": [
       "0.54208333333333314"
      ]
     },
     "execution_count": 68,
     "metadata": {},
     "output_type": "execute_result"
    }
   ],
   "source": [
    "bots_rts['polarity'].mean()"
   ]
  },
  {
   "cell_type": "code",
   "execution_count": 69,
   "metadata": {
    "collapsed": true
   },
   "outputs": [],
   "source": [
    "# Thoughts: graph seems to be a normal distribution"
   ]
  },
  {
   "cell_type": "code",
   "execution_count": 70,
   "metadata": {
    "collapsed": false
   },
   "outputs": [
    {
     "data": {
      "text/plain": [
       "0"
      ]
     },
     "execution_count": 70,
     "metadata": {},
     "output_type": "execute_result"
    }
   ],
   "source": [
    "# Here's something interesting about their behavior: They\n",
    "# never once interacted directly with other users (e.g. replying)--just retweets or mentions\n",
    "bot_tweets['in_reply_to_status_id'] = bot_tweets['in_reply_to_status_id'].fillna(False)\n",
    "bot_tweets[bot_tweets['in_reply_to_status_id'] == True].count()['in_reply_to_status_id']"
   ]
  },
  {
   "cell_type": "code",
   "execution_count": 71,
   "metadata": {
    "collapsed": true
   },
   "outputs": [],
   "source": [
    "bot_tweets['new_tweetid'] = range(1,len(bot_tweets)+1)\n"
   ]
  },
  {
   "cell_type": "code",
   "execution_count": 72,
   "metadata": {
    "collapsed": true
   },
   "outputs": [],
   "source": [
    "# Try Vader analysis on bot tweets\n",
    "bot_tweets['text'] = bot_tweets['text'].str.lower()\n",
    "bot_tweets['text'] = bot_tweets['text'].str.replace('\\n', ' ')\n",
    "bot_tweets['no_punc'] = bot_tweets['text'].str.replace(punct_re, ' ')\n",
    "\n",
    "cleaned_format = pd.DataFrame(bot_tweets['no_punc'].str.split(\"\\\\s+\", expand=True).stack())\n",
    "cleaned_format.reset_index(inplace=True)\n",
    "cleaned_format = cleaned_format.rename(columns={'level_1' : 'num', 0 : 'word'})\n",
    "cleaned_format.set_index('level_0', inplace=True)\n",
    "cleaned_format = cleaned_format.rename(index={'tweetid':'tweetid'})\n"
   ]
  },
  {
   "cell_type": "code",
   "execution_count": 73,
   "metadata": {
    "collapsed": true
   },
   "outputs": [],
   "source": [
    "# Merge with sent\n",
    "tot_pol = cleaned_format.merge(sent, how='inner', left_on = 'word', right_index=True)['polarity'].fillna(0).groupby('level_0').sum()\n",
    "bot_tweets['polarity'] = tot_pol\n",
    "bot_tweets.fillna(0, inplace=True)\n"
   ]
  },
  {
   "cell_type": "code",
   "execution_count": 74,
   "metadata": {
    "collapsed": false
   },
   "outputs": [
    {
     "name": "stdout",
     "output_type": "stream",
     "text": [
      "I COMMENTED THIS OUT BECAUSE IT HAS ~~VERY~~ OFFENSIVE TERMS\n",
      "UNCOMMENT AND RUN AT OWN PERIL!\n"
     ]
    }
   ],
   "source": [
    "# Print most negative tweets:\n",
    "print(\"I COMMENTED THIS OUT BECAUSE IT HAS ~~VERY~~ OFFENSIVE TERMS\")\n",
    "print(\"UNCOMMENT AND RUN AT OWN PERIL!\")\n",
    "\n",
    "\n",
    "#print('Most negative tweets:')\n",
    "#for t in bot_tweets.sort_values('polarity').head(10)['text']:\n",
    "#    print('\\n  ', t)"
   ]
  },
  {
   "cell_type": "code",
   "execution_count": 75,
   "metadata": {
    "collapsed": false
   },
   "outputs": [
    {
     "name": "stdout",
     "output_type": "stream",
     "text": [
      "Most positive tweets:\n",
      "\n",
      "   rt @instapundit: ha ha ha ha ha ha ha ha ha ha ha ha ha ha ha ha ha ha ha ha!!! https://t.co/irf2kbhvaz\n",
      "\n",
      "   rt @summerfruits202: happy sunday sweet friends \r",
      " it's a gorgeous day,\r",
      " life is wonderful ..\r",
      " enjoy every moment!\r",
      " love &amp; happiness 2 all 💙 htt…\n",
      "\n",
      "   love love love love love love loveee\n",
      "\n",
      "   rt @diamondandsilk: happy anniversary to @laraleatrump and @erictrump.  hope your day is full of love, peace, joy &amp; happiness.  we love you…\n",
      "\n",
      "   rt @georgiadirtroad: today is medal of honor day! \r",
      " \r",
      " the oldest medal winner meets the youngest medal winner.\r",
      " \r",
      " #respect #honor #sacrifice\r",
      " #m…\n",
      "\n",
      "   rt @randycaputo: ha ha ha ha ha worked her way. ha ha ha ha ask @berniesanders  ha ha ha ha https://t.co/mwxxft5gkk\n",
      "\n",
      "   rt @ten_gop: so much love, passion, patriotism, excitement, joy, pride, anticipation and love♥️! beautiful rally!🇺🇸\r",
      " #magamarch \r",
      " https://t.c…\n",
      "\n",
      "   so much love, passion, patriotism, excitement, joy, pride, anticipation and love♥️! beautiful rally!🇺🇸\n",
      "\n",
      "   rt @lindaleeking: just got out and yes so many wonderful warm hugs and kisses to the winners congratulations to all this was a wonderfully…\n",
      "\n",
      "   rt @ivankatrump: 2016 has been one of the most eventful and exciting years of my life. i wish you peace, joy, love and laughter. happy new…\n"
     ]
    }
   ],
   "source": [
    "print('Most positive tweets:')\n",
    "for t in bot_tweets.sort_values('polarity', ascending=False).head(10)['text']:\n",
    "    print('\\n  ', t)\n"
   ]
  },
  {
   "cell_type": "code",
   "execution_count": 76,
   "metadata": {
    "collapsed": false
   },
   "outputs": [
    {
     "data": {
      "text/plain": [
       "<matplotlib.legend.Legend at 0x7f4438bd5ef0>"
      ]
     },
     "execution_count": 76,
     "metadata": {},
     "output_type": "execute_result"
    },
    {
     "data": {
      "image/png": "[encoded data removed]",
      "text/plain": [
       "<matplotlib.figure.Figure at 0x7f4432ea2978>"
      ]
     },
     "metadata": {},
     "output_type": "display_data"
    }
   ],
   "source": [
    "clinton_tweets = cleaned_format[(cleaned_format['word'].str.contains('clinton'))]\n",
    "clinton_pol = clinton_tweets.merge(bot_tweets, right_index=True, left_index=True)\n",
    "sns.distplot(clinton_pol['polarity'], label = 'Clinton tweet polarity', color='#da467d')\n",
    "plt.xlim([-10, 10])\n",
    "plt.legend()"
   ]
  },
  {
   "cell_type": "code",
   "execution_count": 77,
   "metadata": {
    "collapsed": false
   },
   "outputs": [
    {
     "data": {
      "text/plain": [
       "-1.0737972508591065"
      ]
     },
     "execution_count": 77,
     "metadata": {},
     "output_type": "execute_result"
    },
    {
     "data": {
      "image/png": "[encoded data removed]",
      "text/plain": [
       "<matplotlib.figure.Figure at 0x7f4438e65b00>"
      ]
     },
     "metadata": {},
     "output_type": "display_data"
    }
   ],
   "source": [
    "islam_tweets = cleaned_format[(cleaned_format['word'].str.contains('islam'))]\n",
    "islam_pol = islam_tweets.merge(bot_tweets, right_index=True, left_index=True)['polarity']\n",
    "sns.distplot(islam_pol, label = 'Islam tweet polarity', color='#0652ff')\n",
    "plt.xlim([-10, 10])\n",
    "plt.legend()\n",
    "# islam_pol.mean()"
   ]
  },
  {
   "cell_type": "code",
   "execution_count": 78,
   "metadata": {
    "collapsed": false
   },
   "outputs": [
    {
     "data": {
      "text/plain": [
       "-1.1726283048211508"
      ]
     },
     "execution_count": 78,
     "metadata": {},
     "output_type": "execute_result"
    },
    {
     "data": {
      "image/png": "[encoded data removed]",
      "text/plain": [
       "<matplotlib.figure.Figure at 0x7f4439e388d0>"
      ]
     },
     "metadata": {},
     "output_type": "display_data"
    }
   ],
   "source": [
    "immigrant_tweets = cleaned_format[(cleaned_format['word'].str.contains('immigrant'))]\n",
    "immigrant_pol = immigrant_tweets.merge(bot_tweets, right_index=True, left_index=True)['polarity']\n",
    "sns.distplot(immigrant_pol, label = 'Immigrant tweet polarity', color='#980002')\n",
    "plt.xlim([-10, 10])\n",
    "plt.legend()\n",
    "# immigrant_pol.mean()"
   ]
  },
  {
   "cell_type": "code",
   "execution_count": 79,
   "metadata": {
    "collapsed": false
   },
   "outputs": [
    {
     "data": {
      "text/plain": [
       "<matplotlib.legend.Legend at 0x7f443be00390>"
      ]
     },
     "execution_count": 79,
     "metadata": {},
     "output_type": "execute_result"
    },
    {
     "data": {
      "image/png": "[encoded data removed]",
      "text/plain": [
       "<matplotlib.figure.Figure at 0x7f443be00c88>"
      ]
     },
     "metadata": {},
     "output_type": "display_data"
    }
   ],
   "source": [
    "berkeley_tweets = cleaned_format[(cleaned_format['word'].str.contains('berkeley'))]\n",
    "berkeley_pol = berkeley_tweets.merge(bot_tweets, right_index=True, left_index=True)['polarity']\n",
    "sns.distplot(berkeley_pol, label = 'Berkeley tweet polarity', color='#FDB515')\n",
    "plt.xlim([-10, 10])\n",
    "plt.legend()"
   ]
  },
  {
   "cell_type": "code",
   "execution_count": 80,
   "metadata": {
    "collapsed": false
   },
   "outputs": [
    {
     "data": {
      "text/plain": [
       "<matplotlib.legend.Legend at 0x7f443c07c518>"
      ]
     },
     "execution_count": 80,
     "metadata": {},
     "output_type": "execute_result"
    },
    {
     "data": {
      "image/png": "[encoded data removed]",
      "text/plain": [
       "<matplotlib.figure.Figure at 0x7f443c07c860>"
      ]
     },
     "metadata": {},
     "output_type": "display_data"
    }
   ],
   "source": [
    "obama_tweets = cleaned_format[(cleaned_format['word'].str.contains('obama'))]\n",
    "obama_pol = obama_tweets.merge(bot_tweets, right_index=True, left_index=True)['polarity']\n",
    "sns.distplot(obama_pol, label = 'Obama tweet polarity', color='#1fa774')\n",
    "plt.xlim([-10, 10])\n",
    "plt.legend()"
   ]
  },
  {
   "cell_type": "code",
   "execution_count": 81,
   "metadata": {
    "collapsed": false
   },
   "outputs": [
    {
     "data": {
      "text/plain": [
       "<matplotlib.legend.Legend at 0x7f443bfe0ac8>"
      ]
     },
     "execution_count": 81,
     "metadata": {},
     "output_type": "execute_result"
    },
    {
     "data": {
      "image/png": "[encoded data removed]",
      "text/plain": [
       "<matplotlib.figure.Figure at 0x7f44399e5f60>"
      ]
     },
     "metadata": {},
     "output_type": "display_data"
    }
   ],
   "source": [
    "liberal_tweets = cleaned_format[(cleaned_format['word'].str.contains('liberal'))]\n",
    "liberal_pol = liberal_tweets.merge(bot_tweets, right_index=True, left_index=True)['polarity']\n",
    "sns.distplot(liberal_pol, label = 'liberal tweet polarity', color='#86775f')\n",
    "plt.xlim([-10, 10])\n",
    "plt.legend()"
   ]
  },
  {
   "cell_type": "code",
   "execution_count": 82,
   "metadata": {
    "collapsed": false
   },
   "outputs": [
    {
     "data": {
      "text/plain": [
       "<matplotlib.legend.Legend at 0x7f443c944d30>"
      ]
     },
     "execution_count": 82,
     "metadata": {},
     "output_type": "execute_result"
    },
    {
     "data": {
      "image/png": "[encoded data removed]",
      "text/plain": [
       "<matplotlib.figure.Figure at 0x7f443d286dd8>"
      ]
     },
     "metadata": {},
     "output_type": "display_data"
    }
   ],
   "source": [
    "republican_tweets = cleaned_format[(cleaned_format['word'].str.contains('republican'))]\n",
    "republican_pol = republican_tweets.merge(bot_tweets, right_index=True, left_index=True)['polarity']\n",
    "sns.distplot(republican_pol, label = 'Republican tweet polarity', color='#016795')\n",
    "plt.xlim([-10, 10])\n",
    "plt.legend()\n"
   ]
  },
  {
   "cell_type": "markdown",
   "metadata": {
    "deletable": false,
    "editable": false,
    "nbgrader": {
     "cell_type": "markdown",
     "checksum": "9742f4a99a0e60845ad7dcc60d774fd7",
     "grade": false,
     "grade_id": "plot8-q",
     "locked": true,
     "schema_version": 2,
     "solution": false
    }
   },
   "source": [
    "### Plot:"
   ]
  },
  {
   "cell_type": "code",
   "execution_count": 84,
   "metadata": {
    "collapsed": false,
    "deletable": false,
    "nbgrader": {
     "cell_type": "code",
     "checksum": "1f84a32506abaa59849e1923f60afb03",
     "grade": true,
     "grade_id": "q8-plot",
     "locked": false,
     "points": 2,
     "schema_version": 2,
     "solution": true
    }
   },
   "outputs": [
    {
     "name": "stdout",
     "output_type": "stream",
     "text": [
      "mean polarity:\n",
      "-0.964886363636\n"
     ]
    },
    {
     "data": {
      "image/png": "[encoded data removed]",
      "text/plain": [
       "<matplotlib.figure.Figure at 0x7f443b6f9080>"
      ]
     },
     "metadata": {},
     "output_type": "display_data"
    }
   ],
   "source": [
    "# see above for way more\n",
    "# Check out whatever word you'd like!\n",
    "def word_pol_search(word):\n",
    "    word_tweets = cleaned_format[(cleaned_format['word'].str.contains(word))]\n",
    "    word_pol = word_tweets.merge(bot_tweets, right_index=True, left_index=True)['polarity']\n",
    "    sns.distplot(word_pol, label = word + ' polarity')\n",
    "    plt.xlim([-10, 10])\n",
    "    plt.legend()\n",
    "    print('mean polarity:')\n",
    "    print(word_pol.mean())\n",
    "    \n",
    "word_pol_search('blacklivesmatter')"
   ]
  },
  {
   "cell_type": "markdown",
   "metadata": {
    "deletable": false,
    "editable": false,
    "nbgrader": {
     "cell_type": "markdown",
     "checksum": "a1fdd71a7455526fe4614bc7eba388f5",
     "grade": false,
     "grade_id": "disc8-q",
     "locked": true,
     "schema_version": 2,
     "solution": false
    }
   },
   "source": [
    "### Discussion:"
   ]
  },
  {
   "cell_type": "markdown",
   "metadata": {
    "deletable": false,
    "nbgrader": {
     "cell_type": "markdown",
     "checksum": "36550141bfc678e4ad08057239781458",
     "grade": true,
     "grade_id": "q8-disc",
     "locked": false,
     "points": 1,
     "schema_version": 2,
     "solution": true
    }
   },
   "source": [
    "Overall, we see that bot tweet polarity about controversial topics was as expected. Words such as Clinton, liberal, islam and immigrant tend to skew the graph negatively. However, the effect is not that pronounced, it seems. Over a large number of bots, it does converge slightly towards 0. Additionally, I noticed some of the tweeters take positions that are considered 'far left'. \n",
    "\n",
    "It would be more useful to look at this data more deeply (2 days is not enough). For example, there were lots of tweets that get truncated due to twitter formating. Additionally, dealing with the large number of near-zero polarity tweets needs to be better (i.e. some of them are meaningless and should be thrown out). Also, vader analysis is not perfect (for example, it does not pick up on sarcasm e.g. 'religion of peace', or context). I discuss this in one of the earlier problems. \n",
    "\n",
    "Working with this 200,000 some set of tweets along with the Trump data set is pretty interesting. I am curious to know how many people actually read and interacted with these 3000 bots. Hopefully more data gets released from the investigators as time goes on. \n",
    "\n",
    "(I discuss a few other things in my work for part 8). "
   ]
  },
  {
   "cell_type": "markdown",
   "metadata": {
    "deletable": false,
    "editable": false,
    "nbgrader": {
     "cell_type": "markdown",
     "checksum": "7cd0d0cd6110eba1fea6f1316c48f4a0",
     "grade": false,
     "grade_id": "submission",
     "locked": true,
     "schema_version": 2,
     "solution": false
    }
   },
   "source": [
    "## Submission\n",
    "\n",
    "Congrats, you just finished Project 1!"
   ]
  }
 ],
 "metadata": {
  "anaconda-cloud": {},
  "kernelspec": {
   "display_name": "Python [default]",
   "language": "python",
   "name": "python3"
  },
  "language_info": {
   "codemirror_mode": {
    "name": "ipython",
    "version": 3
   },
   "file_extension": ".py",
   "mimetype": "text/x-python",
   "name": "python",
   "nbconvert_exporter": "python",
   "pygments_lexer": "ipython3",
   "version": "3.5.2"
  }
 },
 "nbformat": 4,
 "nbformat_minor": 2
}
